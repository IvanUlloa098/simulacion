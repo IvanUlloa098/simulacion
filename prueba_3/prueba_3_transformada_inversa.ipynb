{
  "nbformat": 4,
  "nbformat_minor": 0,
  "metadata": {
    "colab": {
      "name": "prueba_3.ipynb",
      "provenance": [],
      "collapsed_sections": [],
      "authorship_tag": "ABX9TyOE4Y61YAOs337i9FxPfVOm",
      "include_colab_link": true
    },
    "kernelspec": {
      "name": "python3",
      "display_name": "Python 3"
    },
    "language_info": {
      "name": "python"
    }
  },
  "cells": [
    {
      "cell_type": "markdown",
      "metadata": {
        "id": "view-in-github",
        "colab_type": "text"
      },
      "source": [
        "<a href=\"https://colab.research.google.com/github/IvanUlloa098/simulacion/blob/main/prueba_3/prueba_3_transformada_inversa.ipynb\" target=\"_parent\"><img src=\"https://colab.research.google.com/assets/colab-badge.svg\" alt=\"Open In Colab\"/></a>"
      ]
    },
    {
      "cell_type": "markdown",
      "source": [
        "# Prueba 3\n",
        "### Iván Ulloa"
      ],
      "metadata": {
        "id": "W12c5rKc-by7"
      }
    },
    {
      "cell_type": "code",
      "execution_count": 102,
      "metadata": {
        "id": "Ejim3E3ZmtPI"
      },
      "outputs": [],
      "source": [
        "import scipy.stats as s\n",
        "import numpy as np\n",
        "from scipy import stats\n",
        "import matplotlib.pyplot as plt\n",
        "import random\n",
        "import pandas as pd"
      ]
    },
    {
      "cell_type": "markdown",
      "source": [
        "# Distribución de Weibull\n",
        "## Ejemplo\n",
        "En un entorno industrial se asume que la vida útil de una máquina no reparable usada para la manufactura de discos magnéticos exhibe una densidad de probabilidad descrita por la distribución de Weibull, en donde lamedia de tiempo en que se espera que la máquina falle en 1500 horas (λ) y el parámetro de forma es 0.75 (α). La función de distribución de probabilidad muestra el porcentaje de máquinas que fallarán en X número de horas."
      ],
      "metadata": {
        "id": "GS_WdEPD2zvg"
      }
    },
    {
      "cell_type": "code",
      "source": [
        "random.seed(5)\n",
        "\n",
        "# generador de numeros aleatorios\n",
        "def generate_random_numbers(N=100):\n",
        "  randNumbers = []\n",
        "  for _ in range(N):\n",
        "    randNumbers.append(random.random())\n",
        "  \n",
        "  return randNumbers\n",
        "\n",
        "# formula de distribucion de Weibull\n",
        "def weibull_distribution(l,u,k):\n",
        "    return (1-np.exp(-(l*u) ** k))\n",
        "\n",
        "# transformada inversa de Weibull\n",
        "def weibull_distribution_inverse(l,u,k):\n",
        "    return (((-np.log(1-u))**(1/k))/l)\n",
        "\n",
        "# formula de densidad de distribucion de Weibull\n",
        "def weib_dens(x,n,a):\n",
        "    return (a / n) * (x / n)**(a - 1) * np.exp(-(x / n)**a)"
      ],
      "metadata": {
        "id": "SEfxgliGnMeZ"
      },
      "execution_count": 240,
      "outputs": []
    },
    {
      "cell_type": "code",
      "source": [
        "k = 0.75\n",
        "l = 1 # Representa el 100% del tiempo de vida útil esperado (1500 horas)\n",
        "\n",
        "data = generate_random_numbers()\n",
        "data.sort()"
      ],
      "metadata": {
        "id": "5d3747oTopDu"
      },
      "execution_count": 217,
      "outputs": []
    },
    {
      "cell_type": "markdown",
      "source": [
        "## Densidad de probabilidad"
      ],
      "metadata": {
        "id": "VCQX4xOFHT-c"
      }
    },
    {
      "cell_type": "code",
      "source": [
        "weib_dens_res = []\n",
        "\n",
        "for i in data:\n",
        "  weib_dens_res.append(weib_dens(i,1500,k))\n",
        "\n",
        "plt.plot(data, weib_dens_res) # generación de datos aleatorios\n",
        "plt.ylabel('Weibull')\n",
        "plt.xlabel('Datos')\n",
        "plt.show()"
      ],
      "metadata": {
        "colab": {
          "base_uri": "https://localhost:8080/",
          "height": 279
        },
        "id": "eKdkVJDNDqyQ",
        "outputId": "5e52f2c2-dd99-4dd6-e76e-bd5697013f88"
      },
      "execution_count": 247,
      "outputs": [
        {
          "output_type": "display_data",
          "data": {
            "text/plain": [
              "<Figure size 432x288 with 1 Axes>"
            ],
            "image/png": "[encoded data removed]"
          },
          "metadata": {
            "needs_background": "light"
          }
        }
      ]
    },
    {
      "cell_type": "markdown",
      "source": [
        "## Distribución de probabilidad\n",
        "En este caso los datos aleatorios (data) representan el número de horas y la función me devolverá el procentaje de máquinas que fallarán en ese tiempo\n",
        "\n"
      ],
      "metadata": {
        "id": "JmnM3TtN9WHl"
      }
    },
    {
      "cell_type": "code",
      "source": [
        "weib_res = []\n",
        "\n",
        "for i in data:\n",
        "  weib_res.append(weibull_distribution(l,i,k))\n",
        "\n",
        "plt.plot(data, weib_res)\n",
        "plt.ylabel('Weibull')\n",
        "plt.xlabel('Datos')\n",
        "plt.show()"
      ],
      "metadata": {
        "colab": {
          "base_uri": "https://localhost:8080/",
          "height": 279
        },
        "id": "uaxxgY9OYeyF",
        "outputId": "97b41d0d-8f36-4b2c-a113-f86a17622888"
      },
      "execution_count": 218,
      "outputs": [
        {
          "output_type": "display_data",
          "data": {
            "text/plain": [
              "<Figure size 432x288 with 1 Axes>"
            ],
            "image/png": "[encoded data removed]"
          },
          "metadata": {
            "needs_background": "light"
          }
        }
      ]
    },
    {
      "cell_type": "markdown",
      "source": [
        "## Transformada inversa\n",
        "En este caso los datos aleatorios (data) aleatorios representan un porcentaje da máquinas que fallarán y la función me devolverá el tiempo de vida útil de las máquinas con ese porcentaje"
      ],
      "metadata": {
        "id": "5TYLltHW9bak"
      }
    },
    {
      "cell_type": "code",
      "source": [
        "weib_res_inv = []\n",
        "\n",
        "for i in data:\n",
        "  weib_res_inv.append(weibull_distribution_inverse(l,i,k))\n",
        "\n",
        "plt.plot(data, weib_res_inv)\n",
        "plt.ylabel('Weibull Inversa')\n",
        "plt.xlabel('Datos')\n",
        "plt.show()"
      ],
      "metadata": {
        "colab": {
          "base_uri": "https://localhost:8080/",
          "height": 279
        },
        "id": "qEAoYJ1SoPjl",
        "outputId": "6cd7b35f-dfa0-4d30-d387-7375795a050b"
      },
      "execution_count": 253,
      "outputs": [
        {
          "output_type": "display_data",
          "data": {
            "text/plain": [
              "<Figure size 432x288 with 1 Axes>"
            ],
            "image/png": "[encoded data removed]"
          },
          "metadata": {
            "needs_background": "light"
          }
        }
      ]
    },
    {
      "cell_type": "markdown",
      "source": [
        "## Resultados"
      ],
      "metadata": {
        "id": "-Jrfnfn9_QS0"
      }
    },
    {
      "cell_type": "code",
      "source": [
        "aux = {'ri': data, '% de fallo': weib_res, 'Inversa': weib_res_inv, 'Inversa x1500hr (Vida útil estimada)': [element * 1500 for element in weib_res_inv]}\n",
        "df = pd.DataFrame(aux)\n",
        "df.sample(10) # Tomar una muestra aleatoria de todos los datos"
      ],
      "metadata": {
        "colab": {
          "base_uri": "https://localhost:8080/",
          "height": 363
        },
        "id": "K66fovPvti--",
        "outputId": "834757cf-8810-4b65-c1a8-7a8d15378a7b"
      },
      "execution_count": 260,
      "outputs": [
        {
          "output_type": "execute_result",
          "data": {
            "text/plain": [
              "          ri  % de fallo   Inversa  Inversa x1500hr (Vida útil estimada)\n",
              "56  0.664018    0.520777  1.122725                           1684.086861\n",
              "30  0.441068    0.417966  0.485617                            728.424847\n",
              "54  0.649692    0.515023  1.065784                           1598.675834\n",
              "29  0.434555    0.414461  0.472764                            709.146394\n",
              "55  0.650117    0.515195  1.067428                           1601.142701\n",
              "6   0.130572    0.195242  0.072639                            108.958843\n",
              "98  0.988388    0.628898  7.331959                          10997.938129\n",
              "31  0.453155    0.424383  0.510101                            765.150807\n",
              "23  0.363432    0.373795  0.346540                            519.810194\n",
              "21  0.350045    0.365606  0.325415                            488.122984"
            ],
            "text/html": [
              "\n",
              "  <div id=\"df-618d1e33-248c-4d2c-9803-eb76a9ebca7b\">\n",
              "    <div class=\"colab-df-container\">\n",
              "      <div>\n",
              "<style scoped>\n",
              "    .dataframe tbody tr th:only-of-type {\n",
              "        vertical-align: middle;\n",
              "    }\n",
              "\n",
              "    .dataframe tbody tr th {\n",
              "        vertical-align: top;\n",
              "    }\n",
              "\n",
              "    .dataframe thead th {\n",
              "        text-align: right;\n",
              "    }\n",
              "</style>\n",
              "<table border=\"1\" class=\"dataframe\">\n",
              "  <thead>\n",
              "    <tr style=\"text-align: right;\">\n",
              "      <th></th>\n",
              "      <th>ri</th>\n",
              "      <th>% de fallo</th>\n",
              "      <th>Inversa</th>\n",
              "      <th>Inversa x1500hr (Vida útil estimada)</th>\n",
              "    </tr>\n",
              "  </thead>\n",
              "  <tbody>\n",
              "    <tr>\n",
              "      <th>56</th>\n",
              "      <td>0.664018</td>\n",
              "      <td>0.520777</td>\n",
              "      <td>1.122725</td>\n",
              "      <td>1684.086861</td>\n",
              "    </tr>\n",
              "    <tr>\n",
              "      <th>30</th>\n",
              "      <td>0.441068</td>\n",
              "      <td>0.417966</td>\n",
              "      <td>0.485617</td>\n",
              "      <td>728.424847</td>\n",
              "    </tr>\n",
              "    <tr>\n",
              "      <th>54</th>\n",
              "      <td>0.649692</td>\n",
              "      <td>0.515023</td>\n",
              "      <td>1.065784</td>\n",
              "      <td>1598.675834</td>\n",
              "    </tr>\n",
              "    <tr>\n",
              "      <th>29</th>\n",
              "      <td>0.434555</td>\n",
              "      <td>0.414461</td>\n",
              "      <td>0.472764</td>\n",
              "      <td>709.146394</td>\n",
              "    </tr>\n",
              "    <tr>\n",
              "      <th>55</th>\n",
              "      <td>0.650117</td>\n",
              "      <td>0.515195</td>\n",
              "      <td>1.067428</td>\n",
              "      <td>1601.142701</td>\n",
              "    </tr>\n",
              "    <tr>\n",
              "      <th>6</th>\n",
              "      <td>0.130572</td>\n",
              "      <td>0.195242</td>\n",
              "      <td>0.072639</td>\n",
              "      <td>108.958843</td>\n",
              "    </tr>\n",
              "    <tr>\n",
              "      <th>98</th>\n",
              "      <td>0.988388</td>\n",
              "      <td>0.628898</td>\n",
              "      <td>7.331959</td>\n",
              "      <td>10997.938129</td>\n",
              "    </tr>\n",
              "    <tr>\n",
              "      <th>31</th>\n",
              "      <td>0.453155</td>\n",
              "      <td>0.424383</td>\n",
              "      <td>0.510101</td>\n",
              "      <td>765.150807</td>\n",
              "    </tr>\n",
              "    <tr>\n",
              "      <th>23</th>\n",
              "      <td>0.363432</td>\n",
              "      <td>0.373795</td>\n",
              "      <td>0.346540</td>\n",
              "      <td>519.810194</td>\n",
              "    </tr>\n",
              "    <tr>\n",
              "      <th>21</th>\n",
              "      <td>0.350045</td>\n",
              "      <td>0.365606</td>\n",
              "      <td>0.325415</td>\n",
              "      <td>488.122984</td>\n",
              "    </tr>\n",
              "  </tbody>\n",
              "</table>\n",
              "</div>\n",
              "      <button class=\"colab-df-convert\" onclick=\"convertToInteractive('df-618d1e33-248c-4d2c-9803-eb76a9ebca7b')\"\n",
              "              title=\"Convert this dataframe to an interactive table.\"\n",
              "              style=\"display:none;\">\n",
              "        \n",
              "  <svg xmlns=\"http://www.w3.org/2000/svg\" height=\"24px\"viewBox=\"0 0 24 24\"\n",
              "       width=\"24px\">\n",
              "    <path d=\"M0 0h24v24H0V0z\" fill=\"none\"/>\n",
              "    <path d=\"M18.56 5.44l.94 2.06.94-2.06 2.06-.94-2.06-.94-.94-2.06-.94 2.06-2.06.94zm-11 1L8.5 8.5l.94-2.06 2.06-.94-2.06-.94L8.5 2.5l-.94 2.06-2.06.94zm10 10l.94 2.06.94-2.06 2.06-.94-2.06-.94-.94-2.06-.94 2.06-2.06.94z\"/><path d=\"M17.41 7.96l-1.37-1.37c-.4-.4-.92-.59-1.43-.59-.52 0-1.04.2-1.43.59L10.3 9.45l-7.72 7.72c-.78.78-.78 2.05 0 2.83L4 21.41c.39.39.9.59 1.41.59.51 0 1.02-.2 1.41-.59l7.78-7.78 2.81-2.81c.8-.78.8-2.07 0-2.86zM5.41 20L4 18.59l7.72-7.72 1.47 1.35L5.41 20z\"/>\n",
              "  </svg>\n",
              "      </button>\n",
              "      \n",
              "  <style>\n",
              "    .colab-df-container {\n",
              "      display:flex;\n",
              "      flex-wrap:wrap;\n",
              "      gap: 12px;\n",
              "    }\n",
              "\n",
              "    .colab-df-convert {\n",
              "      background-color: #E8F0FE;\n",
              "      border: none;\n",
              "      border-radius: 50%;\n",
              "      cursor: pointer;\n",
              "      display: none;\n",
              "      fill: #1967D2;\n",
              "      height: 32px;\n",
              "      padding: 0 0 0 0;\n",
              "      width: 32px;\n",
              "    }\n",
              "\n",
              "    .colab-df-convert:hover {\n",
              "      background-color: #E2EBFA;\n",
              "      box-shadow: 0px 1px 2px rgba(60, 64, 67, 0.3), 0px 1px 3px 1px rgba(60, 64, 67, 0.15);\n",
              "      fill: #174EA6;\n",
              "    }\n",
              "\n",
              "    [theme=dark] .colab-df-convert {\n",
              "      background-color: #3B4455;\n",
              "      fill: #D2E3FC;\n",
              "    }\n",
              "\n",
              "    [theme=dark] .colab-df-convert:hover {\n",
              "      background-color: #434B5C;\n",
              "      box-shadow: 0px 1px 3px 1px rgba(0, 0, 0, 0.15);\n",
              "      filter: drop-shadow(0px 1px 2px rgba(0, 0, 0, 0.3));\n",
              "      fill: #FFFFFF;\n",
              "    }\n",
              "  </style>\n",
              "\n",
              "      <script>\n",
              "        const buttonEl =\n",
              "          document.querySelector('#df-618d1e33-248c-4d2c-9803-eb76a9ebca7b button.colab-df-convert');\n",
              "        buttonEl.style.display =\n",
              "          google.colab.kernel.accessAllowed ? 'block' : 'none';\n",
              "\n",
              "        async function convertToInteractive(key) {\n",
              "          const element = document.querySelector('#df-618d1e33-248c-4d2c-9803-eb76a9ebca7b');\n",
              "          const dataTable =\n",
              "            await google.colab.kernel.invokeFunction('convertToInteractive',\n",
              "                                                     [key], {});\n",
              "          if (!dataTable) return;\n",
              "\n",
              "          const docLinkHtml = 'Like what you see? Visit the ' +\n",
              "            '<a target=\"_blank\" href=https://colab.research.google.com/notebooks/data_table.ipynb>data table notebook</a>'\n",
              "            + ' to learn more about interactive tables.';\n",
              "          element.innerHTML = '';\n",
              "          dataTable['output_type'] = 'display_data';\n",
              "          await google.colab.output.renderOutput(dataTable, element);\n",
              "          const docLink = document.createElement('div');\n",
              "          docLink.innerHTML = docLinkHtml;\n",
              "          element.appendChild(docLink);\n",
              "        }\n",
              "      </script>\n",
              "    </div>\n",
              "  </div>\n",
              "  "
            ]
          },
          "metadata": {},
          "execution_count": 260
        }
      ]
    },
    {
      "cell_type": "markdown",
      "source": [
        "## Conlusiones y Recomendaciones\n",
        "\n",
        "La transformada inversa nos ayuda a obtener información del comportamiento de nuestras variables aleatorias al igual que la función de distribución de la que proviene. Esta nos dará información directa al momento de solicitar la vida útil de nuestra máquina dada la proporción de máquinas a falla que puede ser útil para alocar maquinaria que ya tenga cierto número de horas en uso."
      ],
      "metadata": {
        "id": "2XrkkVwIL4Dc"
      }
    }
  ]
}