{
  "nbformat": 4,
  "nbformat_minor": 0,
  "metadata": {
    "colab": {
      "name": "chi_cuadrado.ipynb",
      "provenance": [],
      "collapsed_sections": [],
      "authorship_tag": "ABX9TyMABk63eMUgdlbYxhDiA5wE",
      "include_colab_link": true
    },
    "kernelspec": {
      "name": "python3",
      "display_name": "Python 3"
    },
    "language_info": {
      "name": "python"
    }
  },
  "cells": [
    {
      "cell_type": "markdown",
      "metadata": {
        "id": "view-in-github",
        "colab_type": "text"
      },
      "source": [
        "<a href=\"https://colab.research.google.com/github/IvanUlloa098/simulacion/blob/main/tarea_5/chi_cuadrado.ipynb\" target=\"_parent\"><img src=\"https://colab.research.google.com/assets/colab-badge.svg\" alt=\"Open In Colab\"/></a>"
      ]
    },
    {
      "cell_type": "markdown",
      "source": [
        "#Ejercicios de Chi Cuadrado\n",
        "\n",
        "\n"
      ],
      "metadata": {
        "id": "gjXYkDxCneu4"
      }
    },
    {
      "cell_type": "markdown",
      "source": [
        "*Iván Ulloa*"
      ],
      "metadata": {
        "id": "vFW5x7cnn7IE"
      }
    },
    {
      "cell_type": "code",
      "source": [
        "import random\n",
        "import matplotlib.pyplot as plt\n",
        "import numpy as np"
      ],
      "metadata": {
        "id": "8RsPBJLXztsF"
      },
      "execution_count": 1,
      "outputs": []
    },
    {
      "cell_type": "markdown",
      "source": [
        "**Random de Python semilla (11052022)**"
      ],
      "metadata": {
        "id": "pRF0SoyYol7c"
      }
    },
    {
      "cell_type": "code",
      "source": [
        "def random_python(N=100):\n",
        "  numeros = []\n",
        "  random.seed(11052022)\n",
        "  [numeros.append(random.random())for i in range(N)]\n",
        "  return numeros"
      ],
      "metadata": {
        "id": "-y2oPavK0Slz"
      },
      "execution_count": 2,
      "outputs": []
    },
    {
      "cell_type": "code",
      "source": [
        "def calcular_chi(numeros):\n",
        "  tablas = {}\n",
        "  for i in np.arange(0.1, 1.1, 0.1):\n",
        "    for j in numeros:\n",
        "      if j > i-0.1 and j <= i:\n",
        "        tablas[round(i-0.1,1)] = tablas[round(i-0.1,1)]+1 if round(i-0.1,1) in tablas else 1\n",
        "  return tablas\n",
        "\n",
        "def sumatoria_chi(tabla, E):\n",
        "  return sum([(valor-E)**2/E for valor in tabla.values()])\n",
        "\n",
        "def graficar(tabla):\n",
        "  plt.bar(range(len(tabla)), list(tabla.values()), tick_label=list(tabla.keys()))\n",
        "  plt.show()"
      ],
      "metadata": {
        "id": "gEzAxTaSQSbV"
      },
      "execution_count": 3,
      "outputs": []
    },
    {
      "cell_type": "code",
      "execution_count": null,
      "metadata": {
        "colab": {
          "base_uri": "https://localhost:8080/",
          "height": 407
        },
        "id": "9U_xwlEoyvZd",
        "outputId": "242baea8-42ed-4c13-fb09-b60ddebca99c"
      },
      "outputs": [
        {
          "output_type": "stream",
          "name": "stdout",
          "text": [
            "Los 100 numeros aleatorios generados\n",
            "[0.39122091339712006, 0.08673940245642964, 0.9233776991044218, 0.5643281259214213, 0.5018754578724773, 0.6092906311578306, 0.7944410154604006, 0.4745506456495402, 0.3496767363331855, 0.08044631797968471, 0.6263578731542199, 0.2036014039706825, 0.32266209276724567, 0.1789720571675194, 0.51299029248829, 0.7770010208223913, 0.5449750015006763, 0.6965377945580097, 0.17325150202955186, 0.9000269906696816, 0.7996854776854797, 0.35322968565101953, 0.6711727475466924, 0.28345737390743064, 0.37350518006964006, 0.37916716408773543, 0.17048123118844705, 0.823379948568777, 0.22300266321497408, 0.051569135814649614, 0.1922950198508785, 0.8634191905130083, 0.5439027360115081, 0.12556216958312505, 0.34124337838965746, 0.6811002910449016, 0.07304203459633685, 0.12499764479557629, 0.2036691179102461, 0.5579574657844889, 0.7421399105045708, 0.5911979676257648, 0.985890474077214, 0.36352070742615483, 0.8983386409438613, 0.045274687387145685, 0.010854410020205485, 0.10747868006965788, 0.7310662267223154, 0.6789110128701332, 0.4681284220423234, 0.7487069922157717, 0.04797854000306567, 0.24710709969259748, 0.04930411236665988, 0.0020391251798350662, 0.07593976703716421, 0.28676974817745593, 0.0046998045473188865, 0.994987409240566, 0.9826228155176063, 0.6053241326585376, 0.5849806144858605, 0.22958414513776948, 0.10777536071052607, 0.5808351957143609, 0.572388670521242, 0.008221646874923993, 0.6896864689831648, 0.12846169495459336, 0.2535791939191787, 0.5478308529147088, 0.27120576132569874, 0.7256050877837473, 0.010751622315348097, 0.9426507923902242, 0.715282633312101, 0.5199730077235968, 0.17428944191844298, 0.8915547498465177, 0.24393711031568588, 0.018682015068336, 0.8427798991994951, 0.015499748889723719, 0.7895388047965864, 0.5450205028827372, 0.2964689443835594, 0.577139092833342, 0.3904078855024612, 0.8461885527273011, 0.2598106883020571, 0.3421468366012045, 0.8909448186747102, 0.16447232820424518, 0.20528958200149916, 0.9877596907709568, 0.27006525861806896, 0.5219510602287093, 0.5592011764902934, 0.5556146311555469]\n",
            "Tabla de intervalos y el conteo de numeros dentro de cada intervalo\n",
            "{0.0: 15, 0.1: 11, 0.2: 14, 0.3: 10, 0.4: 2, 0.5: 17, 0.6: 8, 0.7: 9, 0.8: 7, 0.9: 7}\n",
            "Calculamos el valor de chi cuadrado\n",
            "17.8\n",
            "Grafica de barras\n"
          ]
        },
        {
          "output_type": "display_data",
          "data": {
            "text/plain": [
              "<Figure size 432x288 with 1 Axes>"
            ],
            "image/png": "[encoded data removed]"
          },
          "metadata": {
            "needs_background": "light"
          }
        }
      ],
      "source": [
        "numeros = random_python()\n",
        "print(\"Los 100 numeros aleatorios generados\")\n",
        "print(numeros)\n",
        "print(\"Tabla de intervalos y el conteo de numeros dentro de cada intervalo\")\n",
        "tablas = calcular_chi(numeros)\n",
        "print(tablas)\n",
        "print(\"Calculamos el valor de chi cuadrado\")\n",
        "print(sumatoria_chi(tablas, 10))\n",
        "print(\"Grafica de barras\")\n",
        "graficar(tablas)  "
      ]
    },
    {
      "cell_type": "markdown",
      "source": [
        "**Cuadrados medios: Xo=74731897457, D=7**"
      ],
      "metadata": {
        "id": "gDzBq6whoojr"
      }
    },
    {
      "cell_type": "code",
      "source": [
        "def random_middle_square(seed, d, N=100):\n",
        "  numeros = []\n",
        "\n",
        "  n1 = int(seed)\n",
        "  for i in range(N):\n",
        "    n2 = n1**2\n",
        "    sn2 = str(n2)\n",
        "    d2 = len(sn2)\n",
        "    c1 = int((d2 - d) / 2)\n",
        "\n",
        "    sn3 = sn2[c1:c1+d]\n",
        "    n1 = int(sn3)\n",
        "    numeros.append(float(f'0.{n1}'))\n",
        "\n",
        "  return numeros"
      ],
      "metadata": {
        "id": "nqUV3vrL0PE_"
      },
      "execution_count": 6,
      "outputs": []
    },
    {
      "cell_type": "code",
      "source": [
        "seed = '74731897457'\n",
        "d = 7\n",
        "\n",
        "numeros = random_middle_square(seed, d, 100)\n",
        "print(\"Los 100 numeros aleatorios generados\")\n",
        "print(numeros)\n",
        "print(\"Tabla de intervalos y el conteo de numeros dentro de cada intervalo\")\n",
        "tablas = calcular_chi(numeros)\n",
        "print(tablas)\n",
        "print(\"Calculamos el valor de chi cuadrado\")\n",
        "print(sumatoria_chi(tablas, 10))\n",
        "print(\"Grafica de barras\")\n",
        "graficar(tablas)  "
      ],
      "metadata": {
        "colab": {
          "base_uri": "https://localhost:8080/",
          "height": 407
        },
        "id": "vqz7tvPhFQyP",
        "outputId": "5ca926a3-3391-4b2a-988c-f3b077e5712f"
      },
      "execution_count": 7,
      "outputs": [
        {
          "output_type": "stream",
          "name": "stdout",
          "text": [
            "Los 100 numeros aleatorios generados\n",
            "[0.4975235, 0.529633, 0.5111146, 0.2381343, 0.794483, 0.1203237, 0.7779278, 0.171662, 0.6784224, 0.2569528, 0.2474142, 0.1378636, 0.63722, 0.6049328, 0.9436925, 0.5555345, 0.6185806, 0.6419586, 0.1108441, 0.864145, 0.746581, 0.3831895, 0.8341929, 0.8777944, 0.5230086, 0.5379956, 0.4392656, 0.9542673, 0.6260798, 0.9759159, 0.4118438, 0.6153155, 0.6131645, 0.970704, 0.2662556, 0.9204453, 0.2195502, 0.229032, 0.455657, 0.6233016, 0.5048845, 0.9083583, 0.1148011, 0.7929256, 0.7310071, 0.3713802, 0.9232529, 0.3959173, 0.7505084, 0.2628584, 0.9453845, 0.7518528, 0.2826328, 0.8129963, 0.9629838, 0.337799, 0.1081644, 0.9953742, 0.769798, 0.5889608, 0.8748239, 0.316856, 0.3977247, 0.1849369, 0.165698, 0.4558272, 0.7784362, 0.9629174, 0.2099192, 0.6607052, 0.5313613, 0.3448311, 0.9084875, 0.3495376, 0.1765338, 0.6418254, 0.939844, 0.3067443, 0.9206558, 0.607102, 0.5728384, 0.1438325, 0.8778805, 0.6741722, 0.5081552, 0.2217072, 0.5408253, 0.4920051, 0.690184, 0.6353953, 0.7271872, 0.8012238, 0.9595776, 0.7891704, 0.7899202, 0.9739223, 0.5246464, 0.253845, 0.3728402, 0.98147]\n",
            "Tabla de intervalos y el conteo de numeros dentro de cada intervalo\n",
            "{0.1: 10, 0.2: 11, 0.3: 10, 0.4: 6, 0.5: 12, 0.6: 15, 0.7: 12, 0.8: 7, 0.9: 17}\n",
            "Calculamos el valor de chi cuadrado\n",
            "10.8\n",
            "Grafica de barras\n"
          ]
        },
        {
          "output_type": "display_data",
          "data": {
            "text/plain": [
              "<Figure size 432x288 with 1 Axes>"
            ],
            "image/png": "[encoded data removed]"
          },
          "metadata": {
            "needs_background": "light"
          }
        }
      ]
    },
    {
      "cell_type": "markdown",
      "source": [
        "**Tauswoth q=7, r=3, l=5**"
      ],
      "metadata": {
        "id": "IDUWTviAou4J"
      }
    },
    {
      "cell_type": "code",
      "source": [
        "def lfsr_custom(seed, r, q):\n",
        "    A = seed\n",
        "    start = q\n",
        "    end = (2**q)\n",
        "\n",
        "    for i in range(start, end):\n",
        "        pr = i-r\n",
        "        pq = i-q\n",
        "        A.append(A[pr] ^ A[pq])\n",
        "\n",
        "    return A\n",
        "\n",
        "def to_decimal(result, l):\n",
        "    B = []\n",
        "    jump = l\n",
        "    end = len(result)\n",
        "    const = 2**l\n",
        "\n",
        "    for i in range(0, end, l):\n",
        "        dec = ''.join(map(str, result[i:jump]))\n",
        "        B.append(int(dec,2)/const)\n",
        "        \n",
        "        jump = jump + l\n",
        "\n",
        "    return B"
      ],
      "metadata": {
        "id": "R1qxPp4XuYi4"
      },
      "execution_count": null,
      "outputs": []
    },
    {
      "cell_type": "code",
      "source": [
        "q = 7\n",
        "r = 3\n",
        "l = 5\n",
        "\n",
        "seed = [1, 1, 1, 1, 1]\n",
        "\n",
        "result=lfsr_custom(seed, r, q)\n",
        "numeros = to_decimal(result, l)\n",
        "print(\"Los 100 numeros aleatorios generados\")\n",
        "print(numeros)\n",
        "print(\"Tabla de intervalos y el conteo de numeros dentro de cada intervalo\")\n",
        "tablas = calcular_chi(numeros)\n",
        "print(tablas)\n",
        "print(\"Calculamos el valor de chi cuadrado\")\n",
        "print(sumatoria_chi(tablas, len(numeros)/10))\n",
        "print(\"Grafica de barras\")\n",
        "graficar(tablas) "
      ],
      "metadata": {
        "colab": {
          "base_uri": "https://localhost:8080/",
          "height": 407
        },
        "id": "4Osi5gt5z6Ep",
        "outputId": "d3e6b121-d0aa-4d99-cd65-70b0cd0bf3d9"
      },
      "execution_count": null,
      "outputs": [
        {
          "output_type": "stream",
          "name": "stdout",
          "text": [
            "Los 100 numeros aleatorios generados\n",
            "[0.96875, 0.3125, 0.375, 0.25, 0.46875, 0.65625, 0.1875, 0.125, 0.21875, 0.8125, 0.59375, 0.0625, 0.09375, 0.90625, 0.28125, 0.53125, 0.03125, 0.9375, 0.625, 0.75, 0.5, 0.96875, 0.3125, 0.375, 0.25, 0.0]\n",
            "Tabla de intervalos y el conteo de numeros dentro de cada intervalo\n",
            "{0.0: 3, 0.1: 2, 0.2: 4, 0.3: 4, 0.4: 2, 0.5: 2, 0.6: 2, 0.7: 1, 0.8: 1, 0.9: 4}\n",
            "Calculamos el valor de chi cuadrado\n",
            "4.846153846153846\n",
            "Grafica de barras\n"
          ]
        },
        {
          "output_type": "display_data",
          "data": {
            "text/plain": [
              "<Figure size 432x288 with 1 Axes>"
            ],
            "image/png": "[encoded data removed]"
          },
          "metadata": {
            "needs_background": "light"
          }
        }
      ]
    },
    {
      "cell_type": "markdown",
      "source": [
        "**Congruencia lineal: a=74731897457, b=37747318974, Xo=7, M=19**"
      ],
      "metadata": {
        "id": "QNXdyEgpo6Ok"
      }
    },
    {
      "cell_type": "code",
      "source": [
        "def congruencia_lineal(a, b, seed, m, N=100):\n",
        "    x0=seed\n",
        "    numeros=[]\n",
        "\n",
        "    for i in range(N):\n",
        "      x1 = (a*x0+b)%m\n",
        "      numeros.append(float(x1))\n",
        "      x0=x1\n",
        "\n",
        "    return numeros "
      ],
      "metadata": {
        "id": "dWu066YG_8pO"
      },
      "execution_count": null,
      "outputs": []
    },
    {
      "cell_type": "code",
      "source": [
        "a = 74731897457\n",
        "b = 37747318974\n",
        "x0 = 7\n",
        "m = 19\n",
        "\n",
        "# Cambiamos la función para calcular el Chi cuadrado para poder usarlo en cualquier intervalo de valores ingresado, no solo en intervalos de 0.1\n",
        "def calcular_chi(numeros, end):\n",
        "  tablas = {}\n",
        "  intervalo = (end/10)\n",
        "\n",
        "  for i in np.arange(intervalo, end+intervalo, intervalo):\n",
        "    \n",
        "    for j in numeros:\n",
        "      if j >= round(i-intervalo,1) and j <= i:\n",
        "        tablas[round(i-intervalo,1)] = tablas[round(round(i,1)-intervalo,1)]+1 if round(round(i,1)-intervalo,1) in tablas else 1\n",
        "  \n",
        "  return tablas\n",
        "\n",
        "numeros = congruencia_lineal(74731897457, 37747318974, 7, 19, m)\n",
        "print(\"Los numeros aleatorios generados\")\n",
        "print(numeros)\n",
        "print(\"Tabla de intervalos y el conteo de numeros dentro de cada intervalo\")\n",
        "tablas = calcular_chi(numeros, m)\n",
        "print(tablas)\n",
        "print(\"Calculamos el valor de chi cuadrado\")\n",
        "print(sumatoria_chi(tablas, len(numeros)/10))\n",
        "print(\"Grafica de barras\")\n",
        "graficar(tablas)"
      ],
      "metadata": {
        "colab": {
          "base_uri": "https://localhost:8080/",
          "height": 387
        },
        "id": "MD1mhqq8Eg5k",
        "outputId": "c9a75ac6-9d11-450b-8f47-fc5f347c8246"
      },
      "execution_count": null,
      "outputs": [
        {
          "output_type": "stream",
          "name": "stdout",
          "text": [
            "Los numeros aleatorios generados\n",
            "[17.0, 16.0, 18.0, 14.0, 3.0, 6.0, 0.0, 12.0, 7.0, 17.0, 16.0, 18.0, 14.0, 3.0, 6.0, 0.0, 12.0, 7.0, 17.0]\n",
            "Tabla de intervalos y el conteo de numeros dentro de cada intervalo\n",
            "{0.0: 2, 1.9: 2, 5.7: 4, 11.4: 2, 13.3: 2, 15.2: 5, 17.1: 2}\n",
            "Calculamos el valor de chi cuadrado\n",
            "7.405263157894738\n",
            "Grafica de barras\n"
          ]
        },
        {
          "output_type": "display_data",
          "data": {
            "text/plain": [
              "<Figure size 432x288 with 1 Axes>"
            ],
            "image/png": "[encoded data removed]"
          },
          "metadata": {
            "needs_background": "light"
          }
        }
      ]
    }
  ]
}