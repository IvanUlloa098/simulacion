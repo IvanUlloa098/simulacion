{
 "cells": [
  {
   "cell_type": "markdown",
   "metadata": {
    "colab_type": "text",
    "id": "view-in-github"
   },
   "source": [
    "<a href=\"https://colab.research.google.com/github/IvanUlloa098/simulacion/blob/main/tarea_6/Ejercicio2.ipynb\" target=\"_parent\"><img src=\"https://colab.research.google.com/assets/colab-badge.svg\" alt=\"Open In Colab\"/></a>"
   ]
  },
  {
   "cell_type": "markdown",
   "metadata": {
    "id": "qcJg8JhIeZdh"
   },
   "source": [
    "# Ejercicio2 - Pruebas de Validación de NúmerosPseudo-Aleatorios\n",
    "## Iván Ulloa"
   ]
  },
  {
   "cell_type": "code",
   "execution_count": 1,
   "metadata": {
    "id": "7wpGNw3TtCeD"
   },
   "outputs": [],
   "source": [
    "import numpy as np\n",
    "import math\n",
    "import scipy.stats as st\n",
    "import pandas as pd\n",
    "import random\n",
    "import os \n",
    "import struct"
   ]
  },
  {
   "cell_type": "markdown",
   "metadata": {
    "id": "-NN0xP6lQlGz"
   },
   "source": [
    "## Algopritmo para el test de autocorrelación"
   ]
  },
  {
   "cell_type": "code",
   "execution_count": 5,
   "metadata": {
    "id": "5LXBK64suOUN"
   },
   "outputs": [],
   "source": [
    "def autocorrelation_test(numeros, lag, i):\n",
    "  size = (len(numeros))\n",
    "\n",
    "  for k in range(i-1):\n",
    "    aux = np.delete(numeros,[i])\n",
    "\n",
    "  rng_cal = len(aux)/lag\n",
    "\n",
    "  rho = 0\n",
    "  for j in range(int(rng_cal)):\n",
    "    rho += aux[j*lag]*aux[(j*lag)+lag]\n",
    "\n",
    "  m = (size-i)/(lag-1)\n",
    "  m = m-(m-int(m))\n",
    "\n",
    "  m1 = 1/(1+m)\n",
    "  rho_im = m1*rho-0.25\n",
    "  \n",
    "  x = math.sqrt(13*m+1)\n",
    "  s_dev = x/(12*(m+1))\n",
    "  \n",
    "  sigma_im = rho_im/s_dev\n",
    "  z0 = 2*(1-st.norm.cdf(sigma_im))\n",
    "\n",
    "  if z0 <= 0.05:\n",
    "    return f'Rechazada. Z0: {z0}'\n",
    "  else:\n",
    "    return f'Aceptada. Z0: {z0}'"
   ]
  },
  {
   "cell_type": "markdown",
   "metadata": {
    "id": "QAkhbG8qQ11E"
   },
   "source": [
    " ## Productos medios (X0=7363423178943,X1=1324356789532, D=7)"
   ]
  },
  {
   "cell_type": "code",
   "execution_count": 36,
   "metadata": {
    "id": "olu6JoZjyScH"
   },
   "outputs": [],
   "source": [
    "def getMiddleCharacters(x, d): \n",
    "    middle = int(len(x)/2)\n",
    "    if ((len(x)%2) != 0) and ((d%2) != 0):\n",
    "      y = int(d/2)\n",
    "      left = int(middle-y)\n",
    "      right = int(middle+y)+1\n",
    "\n",
    "    else:\n",
    "      y = int(d/2)\n",
    "      left = int(middle-y)\n",
    "      right = int(middle+y)\n",
    "      \n",
    "    return x[left:right]\n",
    "    \n",
    "\n",
    "def random_product(x0, x1, d, N=100):\n",
    "  numeros = []\n",
    "  \n",
    "  for i in range(N):\n",
    "    y0 = x0*x1\n",
    "    x2 = int(getMiddleCharacters(str(y0), d))\n",
    "    numeros.append(float(f'0.{x2}'))\n",
    "\n",
    "    x0=x1\n",
    "    x1=x2\n",
    "\n",
    "  return numeros"
   ]
  },
  {
   "cell_type": "code",
   "execution_count": 40,
   "metadata": {
    "colab": {
     "base_uri": "https://localhost:8080/"
    },
    "id": "CmJtXV_p3-Yw",
    "outputId": "9d25a5a9-02b0-465e-c7e2-f36a73bc8a86"
   },
   "outputs": [
    {
     "name": "stdout",
     "output_type": "stream",
     "text": [
      "Muestra de los números aleatorios generados: [0.1230465 0.4677031 0.4922949 0.478508  0.567048  0.3370043 0.976143\n",
      " 0.9643884 0.3809859]\n",
      "Hipótesis de la autocorrelación: Aceptada. Z0: 0.9086350233027634\n"
     ]
    }
   ],
   "source": [
    "x0 = 7363423178943\n",
    "x1 = 1324356789532\n",
    "d = 7\n",
    "\n",
    "numeros = np.array(random_product(x0, x1, d, 100))\n",
    "res = autocorrelation_test(numeros, 5, 5)\n",
    "print(f'Muestra de los números aleatorios generados: {numeros[0:9]}')\n",
    "print(f'Hipótesis de la autocorrelación: {res}')"
   ]
  },
  {
   "cell_type": "markdown",
   "metadata": {
    "id": "eSgaCrYrQ5Db"
   },
   "source": [
    "## Cuadrados medios (X0=7363423178943)"
   ]
  },
  {
   "cell_type": "code",
   "execution_count": 6,
   "metadata": {
    "id": "0kfGxxuYnr8d"
   },
   "outputs": [],
   "source": [
    "def random_middle_square(seed, N=100):\n",
    "    numeros = []\n",
    "    n1 = int(seed)\n",
    "    d = len(seed)\n",
    "\n",
    "    for i in range(N):\n",
    "        n2 = n1**2\n",
    "        sn2 = str(n2).zfill(8)\n",
    "        d2 = len(sn2)\n",
    "        c1 = int(sn2[int((d2/2)-(d/2)):int((d2/2)+(d/2))])\n",
    "\n",
    "        sn3 = c1 / (int('9'*d)+1)\n",
    "        numeros.append(float(sn3))    \n",
    "        n1 = c1\n",
    "\n",
    "    return numeros"
   ]
  },
  {
   "cell_type": "code",
   "execution_count": 7,
   "metadata": {
    "colab": {
     "base_uri": "https://localhost:8080/"
    },
    "id": "b-BODeW2m6gb",
    "outputId": "6cb5ef30-1348-4d67-e6c1-f584d7e45930"
   },
   "outputs": [
    {
     "name": "stdout",
     "output_type": "stream",
     "text": [
      "Muestra de los números aleatorios generados: [0.00912195 0.9978332  0.09341333 0.50922083 0.85757312 0.64857536\n",
      " 0.00327053 0.63795441 0.82348589 0.00380613]\n",
      "Hipótesis de la autocorrelación: Aceptada. Z0: 1.9961506503282136\n"
     ]
    }
   ],
   "source": [
    "seed = '7363423178943'\n",
    "\n",
    "numeros = np.array(random_middle_square(seed, 100))\n",
    "res = autocorrelation_test(numeros, 5, 5)\n",
    "\n",
    "print(f'Muestra de los números aleatorios generados: {numeros[0:10]}')\n",
    "print(f'Hipótesis de la autocorrelación: {res}')"
   ]
  },
  {
   "cell_type": "markdown",
   "metadata": {
    "id": "_1WxzmQdQ-Qb"
   },
   "source": [
    "## Generador Urand (Método nunca subido al AVAC)"
   ]
  },
  {
   "cell_type": "code",
   "execution_count": 85,
   "metadata": {
    "id": "ie8W0nWQREXD"
   },
   "outputs": [],
   "source": [
    "def urandom_method(size=4, N=100):\n",
    "  numeros = []\n",
    "  \n",
    "  for j in range(N):\n",
    "    result = os.urandom(size) \n",
    "    n = ''\n",
    "\n",
    "    for i in range(size):\n",
    "      n+=str(result[i])\n",
    "    \n",
    "    numeros.append(float(f'0.{n}'))\n",
    "  \n",
    "  return numeros"
   ]
  },
  {
   "cell_type": "code",
   "execution_count": 89,
   "metadata": {
    "colab": {
     "base_uri": "https://localhost:8080/"
    },
    "id": "frHIrS0Scsjk",
    "outputId": "e5764852-93dd-485a-e6ca-97772793e965"
   },
   "outputs": [
    {
     "name": "stdout",
     "output_type": "stream",
     "text": [
      "Muestra de los números aleatorios generados: [0.20318072 0.12611183 0.71552831 0.14081622 0.15882092 0.79731019\n",
      " 0.20910718 0.92170129 0.4816516  0.12022522]\n",
      "Hipótesis de la autocorrelación: Aceptada. Z0: 1.9977631101704985\n"
     ]
    }
   ],
   "source": [
    "size = 4\n",
    "\n",
    "numeros = np.array(urandom_method(size,100))\n",
    "res = autocorrelation_test(numeros, 5, 5)\n",
    "\n",
    "print(f'Muestra de los números aleatorios generados: {numeros[0:10]}')\n",
    "print(f'Hipótesis de la autocorrelación: {res}')"
   ]
  },
  {
   "cell_type": "markdown",
   "metadata": {
    "id": "iVtCkZk0RExb"
   },
   "source": [
    "## RandomNumbers.txt (archivo cargado al AVAC)\n",
    "*El archivo nunca fue subido*"
   ]
  }
 ],
 "metadata": {
  "colab": {
   "authorship_tag": "ABX9TyNaEl4sP/r1FdQrhRt0fJYW",
   "collapsed_sections": [],
   "include_colab_link": true,
   "name": "Ejercicio2.ipynb",
   "provenance": []
  },
  "kernelspec": {
   "display_name": "Python 3",
   "language": "python",
   "name": "python3"
  },
  "language_info": {
   "codemirror_mode": {
    "name": "ipython",
    "version": 3
   },
   "file_extension": ".py",
   "mimetype": "text/x-python",
   "name": "python",
   "nbconvert_exporter": "python",
   "pygments_lexer": "ipython3",
   "version": "3.7.6"
  }
 },
 "nbformat": 4,
 "nbformat_minor": 1
}
