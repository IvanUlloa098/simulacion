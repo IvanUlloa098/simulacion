{
  "nbformat": 4,
  "nbformat_minor": 0,
  "metadata": {
    "colab": {
      "name": "Prueba2.ipynb",
      "provenance": [],
      "collapsed_sections": [],
      "authorship_tag": "ABX9TyNthYGWd+VSvbI13InKotah",
      "include_colab_link": true
    },
    "kernelspec": {
      "name": "python3",
      "display_name": "Python 3"
    },
    "language_info": {
      "name": "python"
    }
  },
  "cells": [
    {
      "cell_type": "markdown",
      "metadata": {
        "id": "view-in-github",
        "colab_type": "text"
      },
      "source": [
        "<a href=\"https://colab.research.google.com/github/IvanUlloa098/simulacion/blob/main/prueba_2/Prueba2.ipynb\" target=\"_parent\"><img src=\"https://colab.research.google.com/assets/colab-badge.svg\" alt=\"Open In Colab\"/></a>"
      ]
    },
    {
      "cell_type": "markdown",
      "source": [
        "Prueba 2\n",
        "Ivan Ulloa"
      ],
      "metadata": {
        "id": "UcCaBnwtB-Vx"
      }
    },
    {
      "cell_type": "code",
      "execution_count": 70,
      "metadata": {
        "id": "V-KPGW0Mrkpp"
      },
      "outputs": [],
      "source": [
        "import matplotlib.pyplot as plt\n",
        "import numpy as np\n",
        "import pandas as pd\n",
        "import random\n",
        "import io\n",
        "from google.colab import files\n",
        "import plotly.express as px\n",
        "from matplotlib.pyplot import figure\n",
        "from matplotlib.ticker import ScalarFormatter"
      ]
    },
    {
      "cell_type": "code",
      "source": [
        "def prueba_corridas(x, a=0.05):\n",
        "  media = 0.5\n",
        "  secuencia = []\n",
        "\n",
        "  secuencia = [1 if i>=media else 0 for i in x]\n",
        "  n0 = int(secuencia.count(0))\n",
        "  n1 = int(secuencia.count(1))\n",
        "  Co = int((np.diff(secuencia)!=0).sum())+1\n",
        "  n = n0+n1\n",
        "\n",
        "  uCo = ((2*n0*n1)/n)+(1/2)\n",
        "  o2Co = ((2*n0*n1)*((2*n0*n1)-n))/((n**2)*(n-1))\n",
        "  z0 = (Co-uCo)/(np.sqrt(o2Co))\n",
        "\n",
        "  if -1.96 < z0 < 1.96:\n",
        "    print(f'Hipótesis Aceptada. Z0 = {z0} C0 = {Co} n0 = {n0} n1 = {n1}')\n",
        "  else:\n",
        "    print(f'Hipótesis Rechazada. Z0 = {z0} C0 = {Co} n0 = {n0} n1 = {n1}')\n",
        "\n",
        "  plt.xlabel(\"0 -1\")\n",
        "  plt.ylabel(\"Cantidad\")\n",
        "  plt.bar([0,1], [n0, n1])\n",
        "  plt.show()"
      ],
      "metadata": {
        "id": "DAUR6YIqty4A"
      },
      "execution_count": 71,
      "outputs": []
    },
    {
      "cell_type": "markdown",
      "source": [
        "Cuadrados Medios"
      ],
      "metadata": {
        "id": "j42JTBUvCDj_"
      }
    },
    {
      "cell_type": "code",
      "source": [
        "def random_middle_square(seed, d, N=100):\n",
        "    xn = seed\n",
        "    numeros=[]\n",
        "    \n",
        "    for i in range(N):\n",
        "        xnn = xn**2\n",
        "        txnn = str(xnn).zfill(8)\n",
        "        tam = len(txnn)\n",
        "        ui = int(txnn[int(tam/2-d/2):int(tam/2+d/2)])\n",
        "        rn = ui / (int('9'*d)+1)\n",
        "        numeros.append(rn)\n",
        "        \n",
        "        xn = ui\n",
        "\n",
        "    return numeros\n",
        "\n",
        "seed = 74731897457\n",
        "d = 7\n",
        "\n",
        "x = random_middle_square(seed, d, 100)\n",
        "prueba_corridas(x)"
      ],
      "metadata": {
        "colab": {
          "base_uri": "https://localhost:8080/",
          "height": 296
        },
        "id": "lwe1VjGnvaRj",
        "outputId": "3f85f3fc-67f4-499c-f219-f72ec49089c6"
      },
      "execution_count": 80,
      "outputs": [
        {
          "output_type": "stream",
          "name": "stdout",
          "text": [
            "Hipótesis Aceptada. Z0 = 0.02493838832056819 C0 = 49 n0 = 41 n1 = 59\n"
          ]
        },
        {
          "output_type": "display_data",
          "data": {
            "text/plain": [
              "<Figure size 432x288 with 1 Axes>"
            ],
            "image/png": "[encoded data removed]"
          },
          "metadata": {
            "needs_background": "light"
          }
        }
      ]
    },
    {
      "cell_type": "markdown",
      "source": [
        "Concurrencias Lineales"
      ],
      "metadata": {
        "id": "-2ZThwj5CF2h"
      }
    },
    {
      "cell_type": "code",
      "source": [
        "def congruencia_lineal(a, b, seed, m, N=100):\n",
        "    xn = seed\n",
        "    numeros=[]\n",
        "\n",
        "    for i in range(N):\n",
        "        xnn = (a*xn+b) % m\n",
        "        ui = xnn/m\n",
        "        \n",
        "        numeros.append(ui)\n",
        "        xn = xnn\n",
        "    return numeros\n",
        "\n",
        "a = 74731897457\n",
        "b = 37747318974\n",
        "x0 = 7\n",
        "m = 19\n",
        "\n",
        "x = congruencia_lineal(74731897457, 37747318974, x0, m, 100)\n",
        "prueba_corridas(x)"
      ],
      "metadata": {
        "colab": {
          "base_uri": "https://localhost:8080/",
          "height": 296
        },
        "id": "2sZeWZyZwz3T",
        "outputId": "b12b8582-5cd4-4470-bb21-f1c16d1282d4"
      },
      "execution_count": 81,
      "outputs": [
        {
          "output_type": "stream",
          "name": "stdout",
          "text": [
            "Hipótesis Aceptada. Z0 = -0.9750491625213825 C0 = 45 n0 = 44 n1 = 56\n"
          ]
        },
        {
          "output_type": "display_data",
          "data": {
            "text/plain": [
              "<Figure size 432x288 with 1 Axes>"
            ],
            "image/png": "[encoded data removed]"
          },
          "metadata": {
            "needs_background": "light"
          }
        }
      ]
    },
    {
      "cell_type": "markdown",
      "source": [
        "Python Random"
      ],
      "metadata": {
        "id": "CURKuBbxCISi"
      }
    },
    {
      "cell_type": "code",
      "source": [
        "def random_python(N=100):\n",
        "  numeros = []\n",
        "  random.seed(1032022)\n",
        "  [numeros.append(random.random())for i in range(N)]\n",
        "  return numeros\n",
        "\n",
        "x= random_python()\n",
        "prueba_corridas(x)"
      ],
      "metadata": {
        "colab": {
          "base_uri": "https://localhost:8080/",
          "height": 296
        },
        "id": "vB82cyqRtLVK",
        "outputId": "a47a7075-2026-4b05-ae9f-c2dbe3ee1b56"
      },
      "execution_count": null,
      "outputs": [
        {
          "output_type": "stream",
          "name": "stdout",
          "text": [
            "Hipótesis Aceptada. Z0 = -0.7218758774415761 C0 = 46 n0 = 57 n1 = 43\n"
          ]
        },
        {
          "output_type": "display_data",
          "data": {
            "text/plain": [
              "<Figure size 432x288 with 1 Axes>"
            ],
            "image/png": "[encoded data removed]"
          },
          "metadata": {
            "needs_background": "light"
          }
        }
      ]
    },
    {
      "cell_type": "markdown",
      "source": [
        "Tausworthe"
      ],
      "metadata": {
        "id": "thxMJUVDCJ-C"
      }
    },
    {
      "cell_type": "code",
      "source": [
        "def lfsr_custom(seed, r, q):\n",
        "    A = seed\n",
        "    start = q\n",
        "    end = (2**q)\n",
        "\n",
        "    for i in range(start, end):\n",
        "        pr = i-r\n",
        "        pq = i-q\n",
        "        A.append(A[pr]^A[pq])\n",
        "\n",
        "    return A\n",
        "\n",
        "def to_decimal(result, l):\n",
        "    B = []\n",
        "    jump = l\n",
        "    end = len(result)\n",
        "    const = 2**l\n",
        "\n",
        "    for i in range(0, end, l):\n",
        "        dec = ''.join(map(str, result[i:jump]))\n",
        "        B.append(int(dec,2)/const)\n",
        "        \n",
        "        jump = jump + l\n",
        "\n",
        "    return B\n",
        "\n",
        "q = 7\n",
        "r = 3\n",
        "l = 5\n",
        "\n",
        "seed = [1 for i in range(l)]\n",
        "print(seed)\n",
        "result=lfsr_custom(seed, r, q)\n",
        "x = to_decimal(result, l)\n",
        "prueba_corridas(x)"
      ],
      "metadata": {
        "colab": {
          "base_uri": "https://localhost:8080/",
          "height": 314
        },
        "id": "714PqNEY2A18",
        "outputId": "936f0eda-5bb2-4fe4-97ba-56ccc75b9541"
      },
      "execution_count": 83,
      "outputs": [
        {
          "output_type": "stream",
          "name": "stdout",
          "text": [
            "[1, 1, 1, 1, 1]\n",
            "Hipótesis Aceptada. Z0 = -0.48937066964888626 C0 = 12 n0 = 15 n1 = 11\n"
          ]
        },
        {
          "output_type": "display_data",
          "data": {
            "text/plain": [
              "<Figure size 432x288 with 1 Axes>"
            ],
            "image/png": "[encoded data removed]"
          },
          "metadata": {
            "needs_background": "light"
          }
        }
      ]
    }
  ]
}