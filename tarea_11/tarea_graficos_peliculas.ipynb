{
  "cells": [
    {
      "cell_type": "markdown",
      "metadata": {
        "id": "OsieHvvt8LMq"
      },
      "source": [
        "**Peliculas/Cine**\n",
        "\n",
        "Topicos:\n",
        "- Recursos\n",
        "- Condiciónes de evnetos\n",
        "- Eventos compartidos\n",
        "\n",
        "**Enunciado**:\n",
        "\n",
        "Modelar una sala de cine  con un mostrador para la venta de entradas a tres tipos de peliculas diferentes, tener en cuenta que se modela solo para un espectáculo.\n",
        "- Las personas llegan en momentos aleatorios e intentan comprar un numero aleatorio de boletos (1-6) para una pelicula al azar.\n",
        "\n",
        "- Cuando se agota las entradas a una pelicula, las personas que esperan por un boleto salen de la cola.\n",
        "\n",
        "- La sala de cine es un Contenedor que abarca todos los procesos.\n",
        "- El mostrador es un Recurso con la capacidad de uno.\n",
        "- Finalmente, si la ultima persona desea comprar más boletos de los existentes se le vende solo los que tiene el mostrador.\n"
      ]
    },
    {
      "cell_type": "code",
      "execution_count": 31,
      "metadata": {
        "colab": {
          "base_uri": "https://localhost:8080/"
        },
        "id": "FRJ2tR8DF9hm",
        "outputId": "26475a61-b6c0-43ce-f19d-5b41a39189d1"
      },
      "outputs": [
        {
          "name": "stdout",
          "output_type": "stream",
          "text": [
            "Teatro Carlos Crespi - UPS\n",
            "Pelicula: Conjuro 3 se agoto en el tiempo 95.8 despues de salir a la venta\n",
            "Numero de personas que salieron de la fila/renegados 0\n",
            "Pelicula: Rapidos y Furiosos 10 se agoto en el tiempo 34.0 despues de salir a la venta\n",
            "Numero de personas que salieron de la fila/renegados 0\n",
            "Pelicula: Pulp Fictions se agoto en el tiempo 19.0 despues de salir a la venta\n",
            "Numero de personas que salieron de la fila/renegados 4\n"
          ]
        }
      ],
      "source": [
        "import collections\n",
        "import random\n",
        "import simpy\n",
        "\n",
        "VELOCIDAD_LLEGADA = 42\n",
        "NUM_BOLETO = 50\n",
        "TIEMPO_SIMULACION = 120\n",
        "QUEUE={}\n",
        "\n",
        "def ventaBoletos(env, num_boletos, pelicula, teatro, id):\n",
        "  with teatro.contador.request() as turno:\n",
        "    resultado = yield turno | teatro.sold_out[pelicula]\n",
        "    if turno not in resultado:\n",
        "      teatro.num_renegados[pelicula] += 1\n",
        "      QUEUE[id]=[0,env.now, '']\n",
        "      return      \n",
        "\n",
        "    if teatro.num_boletos[pelicula] < num_boletos:\n",
        "      yield env.timeout(0.5) \n",
        "      QUEUE[id]=[0,env.now, '']\n",
        "      return\n",
        "    else:\n",
        "      QUEUE[id]=[1,env.now, pelicula]\n",
        "\n",
        "    teatro.num_boletos[pelicula] -= num_boletos\n",
        "    if teatro.num_boletos[pelicula] < 2:\n",
        "      teatro.sold_out[pelicula].succeed()\n",
        "      teatro.tiempo_agotado[pelicula] = env.now\n",
        "      teatro.num_boletos[pelicula] = 0\n",
        "    \n",
        "    yield env.timeout(1)\n",
        "\n",
        "\n",
        "def llegadaClientes(env, teatro):\n",
        "  id=0\n",
        "  while True:\n",
        "    yield env.timeout(random.expovariate(1/0.5))\n",
        "    pelicula = random.choices(teatro.peliculas, teatro.probabilidad, k=1)\n",
        "    num_boletos = random.randint(1, 6)\n",
        "    if teatro.num_boletos[pelicula[0]]:\n",
        "      env.process(ventaBoletos(env, num_boletos, pelicula[0], teatro, id))\n",
        "      id+=1\n",
        "\n",
        "\n",
        "Teatro = collections.namedtuple('Teatro', 'contador, peliculas, probabilidad, num_boletos, sold_out, tiempo_agotado, num_renegados')\n",
        "\n",
        "print('Teatro Carlos Crespi - UPS')\n",
        "env = simpy.Environment()\n",
        "\n",
        "contador = simpy.Resource(env,capacity=1)\n",
        "peliculas = ['Conjuro 3', 'Rapidos y Furiosos 10', 'Pulp Fictions']\n",
        "probabilidad=[0.1, 0.3, 0.6]\n",
        "num_boletos = {pelicula: NUM_BOLETO for pelicula in peliculas}\n",
        "sold_out = {pelicula: env.event() for pelicula in peliculas}\n",
        "tiempo_agotado = {pelicula: None for pelicula in peliculas}\n",
        "num_renegados = {pelicula: 0 for pelicula in peliculas}\n",
        "\n",
        "teatro = Teatro(contador, peliculas, probabilidad, num_boletos, sold_out, tiempo_agotado, num_renegados)\n",
        "env.process(llegadaClientes(env, teatro))\n",
        "env.run(until=TIEMPO_SIMULACION)\n",
        "\n",
        "# Analisis y resultados\n",
        "for pelicula in peliculas:\n",
        "  if teatro.sold_out[pelicula]:\n",
        "    print('Pelicula: %s se agoto en el tiempo %.1f despues de salir a la venta' %(pelicula, teatro.tiempo_agotado[pelicula]))\n",
        "    print('Numero de personas que salieron de la fila/renegados %s' %teatro.num_renegados[pelicula])\n"
      ]
    },
    {
      "cell_type": "markdown",
      "metadata": {
        "id": "g6QbVDV7HN7F"
      },
      "source": [
        "**Tarea/Practica**\n",
        "\n",
        "Al modelo de simulación de la venta de boletos de un teatro/cine agregar la simulación grafica 2D/3D utilizando cualquier libreria grafica, por ejemplo pygame/tkinter, etc. generar un informe en formato PDF que me permita evidenciar la simulación y generar una grafica/reporte de los resultados."
      ]
    },
    {
      "cell_type": "code",
      "execution_count": 37,
      "metadata": {},
      "outputs": [
        {
          "ename": "TclError",
          "evalue": "invalid command name \"pyimage22\"",
          "output_type": "error",
          "traceback": [
            "\u001b[1;31m---------------------------------------------------------------------------\u001b[0m",
            "\u001b[1;31mTclError\u001b[0m                                  Traceback (most recent call last)",
            "\u001b[1;32m<ipython-input-37-1695811a3ae6>\u001b[0m in \u001b[0;36mcreate_clock\u001b[1;34m(env)\u001b[0m\n\u001b[0;32m     60\u001b[0m         \u001b[1;32myield\u001b[0m \u001b[0menv\u001b[0m\u001b[1;33m.\u001b[0m\u001b[0mtimeout\u001b[0m\u001b[1;33m(\u001b[0m\u001b[1;36m1\u001b[0m\u001b[1;33m)\u001b[0m\u001b[1;33m\u001b[0m\u001b[1;33m\u001b[0m\u001b[0m\n\u001b[1;32m---> 61\u001b[1;33m         \u001b[0mclock\u001b[0m\u001b[1;33m.\u001b[0m\u001b[0mtick\u001b[0m\u001b[1;33m(\u001b[0m\u001b[0menv\u001b[0m\u001b[1;33m.\u001b[0m\u001b[0mnow\u001b[0m\u001b[1;33m)\u001b[0m\u001b[1;33m\u001b[0m\u001b[1;33m\u001b[0m\u001b[0m\n\u001b[0m\u001b[0;32m     62\u001b[0m \u001b[1;33m\u001b[0m\u001b[0m\n",
            "\u001b[1;32m<ipython-input-37-1695811a3ae6>\u001b[0m in \u001b[0;36mtick\u001b[1;34m(self, time)\u001b[0m\n\u001b[0;32m     29\u001b[0m \u001b[1;33m\u001b[0m\u001b[0m\n\u001b[1;32m---> 30\u001b[1;33m         \u001b[0mdata_plot\u001b[0m\u001b[1;33m.\u001b[0m\u001b[0mdraw\u001b[0m\u001b[1;33m(\u001b[0m\u001b[1;33m)\u001b[0m\u001b[1;33m\u001b[0m\u001b[1;33m\u001b[0m\u001b[0m\n\u001b[0m\u001b[0;32m     31\u001b[0m         \u001b[0mself\u001b[0m\u001b[1;33m.\u001b[0m\u001b[0mcanvas\u001b[0m\u001b[1;33m.\u001b[0m\u001b[0mupdate\u001b[0m\u001b[1;33m(\u001b[0m\u001b[1;33m)\u001b[0m\u001b[1;33m\u001b[0m\u001b[1;33m\u001b[0m\u001b[0m\n",
            "\u001b[1;32mc:\\Users\\TOSHIBA\\anaconda3\\lib\\site-packages\\matplotlib\\backends\\backend_tkagg.py\u001b[0m in \u001b[0;36mdraw\u001b[1;34m(self)\u001b[0m\n\u001b[0;32m      9\u001b[0m         \u001b[0msuper\u001b[0m\u001b[1;33m(\u001b[0m\u001b[0mFigureCanvasTkAgg\u001b[0m\u001b[1;33m,\u001b[0m \u001b[0mself\u001b[0m\u001b[1;33m)\u001b[0m\u001b[1;33m.\u001b[0m\u001b[0mdraw\u001b[0m\u001b[1;33m(\u001b[0m\u001b[1;33m)\u001b[0m\u001b[1;33m\u001b[0m\u001b[1;33m\u001b[0m\u001b[0m\n\u001b[1;32m---> 10\u001b[1;33m         \u001b[0m_backend_tk\u001b[0m\u001b[1;33m.\u001b[0m\u001b[0mblit\u001b[0m\u001b[1;33m(\u001b[0m\u001b[0mself\u001b[0m\u001b[1;33m.\u001b[0m\u001b[0m_tkphoto\u001b[0m\u001b[1;33m,\u001b[0m \u001b[0mself\u001b[0m\u001b[1;33m.\u001b[0m\u001b[0mrenderer\u001b[0m\u001b[1;33m.\u001b[0m\u001b[0m_renderer\u001b[0m\u001b[1;33m,\u001b[0m \u001b[1;33m(\u001b[0m\u001b[1;36m0\u001b[0m\u001b[1;33m,\u001b[0m \u001b[1;36m1\u001b[0m\u001b[1;33m,\u001b[0m \u001b[1;36m2\u001b[0m\u001b[1;33m,\u001b[0m \u001b[1;36m3\u001b[0m\u001b[1;33m)\u001b[0m\u001b[1;33m)\u001b[0m\u001b[1;33m\u001b[0m\u001b[1;33m\u001b[0m\u001b[0m\n\u001b[0m\u001b[0;32m     11\u001b[0m         \u001b[0mself\u001b[0m\u001b[1;33m.\u001b[0m\u001b[0m_master\u001b[0m\u001b[1;33m.\u001b[0m\u001b[0mupdate_idletasks\u001b[0m\u001b[1;33m(\u001b[0m\u001b[1;33m)\u001b[0m\u001b[1;33m\u001b[0m\u001b[1;33m\u001b[0m\u001b[0m\n",
            "\u001b[1;32mc:\\Users\\TOSHIBA\\anaconda3\\lib\\site-packages\\matplotlib\\backends\\_backend_tk.py\u001b[0m in \u001b[0;36mblit\u001b[1;34m(photoimage, aggimage, offsets, bbox)\u001b[0m\n\u001b[0;32m     79\u001b[0m     \u001b[1;32melse\u001b[0m\u001b[1;33m:\u001b[0m\u001b[1;33m\u001b[0m\u001b[1;33m\u001b[0m\u001b[0m\n\u001b[1;32m---> 80\u001b[1;33m         \u001b[0mphotoimage\u001b[0m\u001b[1;33m.\u001b[0m\u001b[0mblank\u001b[0m\u001b[1;33m(\u001b[0m\u001b[1;33m)\u001b[0m\u001b[1;33m\u001b[0m\u001b[1;33m\u001b[0m\u001b[0m\n\u001b[0m\u001b[0;32m     81\u001b[0m         \u001b[0mbboxptr\u001b[0m \u001b[1;33m=\u001b[0m \u001b[1;33m(\u001b[0m\u001b[1;36m0\u001b[0m\u001b[1;33m,\u001b[0m \u001b[0mwidth\u001b[0m\u001b[1;33m,\u001b[0m \u001b[1;36m0\u001b[0m\u001b[1;33m,\u001b[0m \u001b[0mheight\u001b[0m\u001b[1;33m)\u001b[0m\u001b[1;33m\u001b[0m\u001b[1;33m\u001b[0m\u001b[0m\n",
            "\u001b[1;32mc:\\Users\\TOSHIBA\\anaconda3\\lib\\tkinter\\__init__.py\u001b[0m in \u001b[0;36mblank\u001b[1;34m(self)\u001b[0m\n\u001b[0;32m   3547\u001b[0m         \u001b[1;34m\"\"\"Display a transparent image.\"\"\"\u001b[0m\u001b[1;33m\u001b[0m\u001b[1;33m\u001b[0m\u001b[0m\n\u001b[1;32m-> 3548\u001b[1;33m         \u001b[0mself\u001b[0m\u001b[1;33m.\u001b[0m\u001b[0mtk\u001b[0m\u001b[1;33m.\u001b[0m\u001b[0mcall\u001b[0m\u001b[1;33m(\u001b[0m\u001b[0mself\u001b[0m\u001b[1;33m.\u001b[0m\u001b[0mname\u001b[0m\u001b[1;33m,\u001b[0m \u001b[1;34m'blank'\u001b[0m\u001b[1;33m)\u001b[0m\u001b[1;33m\u001b[0m\u001b[1;33m\u001b[0m\u001b[0m\n\u001b[0m\u001b[0;32m   3549\u001b[0m     \u001b[1;32mdef\u001b[0m \u001b[0mcget\u001b[0m\u001b[1;33m(\u001b[0m\u001b[0mself\u001b[0m\u001b[1;33m,\u001b[0m \u001b[0moption\u001b[0m\u001b[1;33m)\u001b[0m\u001b[1;33m:\u001b[0m\u001b[1;33m\u001b[0m\u001b[1;33m\u001b[0m\u001b[0m\n",
            "\u001b[1;31mTclError\u001b[0m: invalid command name \"pyimage22\"",
            "\nThe above exception was the direct cause of the following exception:\n",
            "\u001b[1;31mTclError\u001b[0m                                  Traceback (most recent call last)",
            "\u001b[1;32m<ipython-input-37-1695811a3ae6>\u001b[0m in \u001b[0;36m<module>\u001b[1;34m\u001b[0m\n\u001b[0;32m     63\u001b[0m \u001b[0menv\u001b[0m \u001b[1;33m=\u001b[0m \u001b[0msimpy\u001b[0m\u001b[1;33m.\u001b[0m\u001b[0mEnvironment\u001b[0m\u001b[1;33m(\u001b[0m\u001b[1;33m)\u001b[0m\u001b[1;33m\u001b[0m\u001b[1;33m\u001b[0m\u001b[0m\n\u001b[0;32m     64\u001b[0m \u001b[0menv\u001b[0m\u001b[1;33m.\u001b[0m\u001b[0mprocess\u001b[0m\u001b[1;33m(\u001b[0m\u001b[0mcreate_clock\u001b[0m\u001b[1;33m(\u001b[0m\u001b[0menv\u001b[0m\u001b[1;33m)\u001b[0m\u001b[1;33m)\u001b[0m\u001b[1;33m\u001b[0m\u001b[1;33m\u001b[0m\u001b[0m\n\u001b[1;32m---> 65\u001b[1;33m \u001b[0menv\u001b[0m\u001b[1;33m.\u001b[0m\u001b[0mrun\u001b[0m\u001b[1;33m(\u001b[0m\u001b[0muntil\u001b[0m \u001b[1;33m=\u001b[0m \u001b[1;36m30\u001b[0m\u001b[1;33m)\u001b[0m\u001b[1;33m\u001b[0m\u001b[1;33m\u001b[0m\u001b[0m\n\u001b[0m\u001b[0;32m     66\u001b[0m \u001b[1;33m\u001b[0m\u001b[0m\n\u001b[0;32m     67\u001b[0m \u001b[0mmain\u001b[0m\u001b[1;33m.\u001b[0m\u001b[0mmainloop\u001b[0m\u001b[1;33m(\u001b[0m\u001b[1;33m)\u001b[0m\u001b[1;33m\u001b[0m\u001b[1;33m\u001b[0m\u001b[0m\n",
            "\u001b[1;32mc:\\Users\\TOSHIBA\\anaconda3\\lib\\site-packages\\simpy\\core.py\u001b[0m in \u001b[0;36mrun\u001b[1;34m(self, until)\u001b[0m\n\u001b[0;32m    252\u001b[0m         \u001b[1;32mtry\u001b[0m\u001b[1;33m:\u001b[0m\u001b[1;33m\u001b[0m\u001b[1;33m\u001b[0m\u001b[0m\n\u001b[0;32m    253\u001b[0m             \u001b[1;32mwhile\u001b[0m \u001b[1;32mTrue\u001b[0m\u001b[1;33m:\u001b[0m\u001b[1;33m\u001b[0m\u001b[1;33m\u001b[0m\u001b[0m\n\u001b[1;32m--> 254\u001b[1;33m                 \u001b[0mself\u001b[0m\u001b[1;33m.\u001b[0m\u001b[0mstep\u001b[0m\u001b[1;33m(\u001b[0m\u001b[1;33m)\u001b[0m\u001b[1;33m\u001b[0m\u001b[1;33m\u001b[0m\u001b[0m\n\u001b[0m\u001b[0;32m    255\u001b[0m         \u001b[1;32mexcept\u001b[0m \u001b[0mStopSimulation\u001b[0m \u001b[1;32mas\u001b[0m \u001b[0mexc\u001b[0m\u001b[1;33m:\u001b[0m\u001b[1;33m\u001b[0m\u001b[1;33m\u001b[0m\u001b[0m\n\u001b[0;32m    256\u001b[0m             \u001b[1;32mreturn\u001b[0m \u001b[0mexc\u001b[0m\u001b[1;33m.\u001b[0m\u001b[0margs\u001b[0m\u001b[1;33m[\u001b[0m\u001b[1;36m0\u001b[0m\u001b[1;33m]\u001b[0m  \u001b[1;31m# == until.value\u001b[0m\u001b[1;33m\u001b[0m\u001b[1;33m\u001b[0m\u001b[0m\n",
            "\u001b[1;32mc:\\Users\\TOSHIBA\\anaconda3\\lib\\site-packages\\simpy\\core.py\u001b[0m in \u001b[0;36mstep\u001b[1;34m(self)\u001b[0m\n\u001b[0;32m    204\u001b[0m             \u001b[0mexc\u001b[0m \u001b[1;33m=\u001b[0m \u001b[0mtype\u001b[0m\u001b[1;33m(\u001b[0m\u001b[0mevent\u001b[0m\u001b[1;33m.\u001b[0m\u001b[0m_value\u001b[0m\u001b[1;33m)\u001b[0m\u001b[1;33m(\u001b[0m\u001b[1;33m*\u001b[0m\u001b[0mevent\u001b[0m\u001b[1;33m.\u001b[0m\u001b[0m_value\u001b[0m\u001b[1;33m.\u001b[0m\u001b[0margs\u001b[0m\u001b[1;33m)\u001b[0m\u001b[1;33m\u001b[0m\u001b[1;33m\u001b[0m\u001b[0m\n\u001b[0;32m    205\u001b[0m             \u001b[0mexc\u001b[0m\u001b[1;33m.\u001b[0m\u001b[0m__cause__\u001b[0m \u001b[1;33m=\u001b[0m \u001b[0mevent\u001b[0m\u001b[1;33m.\u001b[0m\u001b[0m_value\u001b[0m\u001b[1;33m\u001b[0m\u001b[1;33m\u001b[0m\u001b[0m\n\u001b[1;32m--> 206\u001b[1;33m             \u001b[1;32mraise\u001b[0m \u001b[0mexc\u001b[0m\u001b[1;33m\u001b[0m\u001b[1;33m\u001b[0m\u001b[0m\n\u001b[0m\u001b[0;32m    207\u001b[0m \u001b[1;33m\u001b[0m\u001b[0m\n\u001b[0;32m    208\u001b[0m     def run(\n",
            "\u001b[1;31mTclError\u001b[0m: invalid command name \"pyimage22\""
          ]
        }
      ],
      "source": [
        "import simpy\n",
        "import tkinter as tk\n",
        "import matplotlib.pyplot as plt\n",
        "from matplotlib.backends.backend_tkagg import FigureCanvasTkAgg\n",
        "\n",
        "class ClockAndData: \n",
        "    def __init__(self, canvas, x1, y1, x2, y2, time): \n",
        "        self.x1 = x1\n",
        "        self.y1 = y1\n",
        "        self.x2 = x2\n",
        "        self.y2 = y2\n",
        "        self.canvas = canvas\n",
        "        data_plot.draw()\n",
        "        self.canvas.update() \n",
        "\n",
        "    def tick(self, time): \n",
        "        a1.cla()\n",
        "        \n",
        "        self.y1 = self.y1+1\n",
        "        self.y2 = self.y2+2\n",
        "\n",
        "        bars_x = [self.x1, self.x2]\n",
        "        bars_y = [self.y1, self.y2]\n",
        "\n",
        "        a3.cla()\n",
        "        a3.set_xlabel(\"Time\")\n",
        "        a3.set_ylabel(\"Arrivals\")\n",
        "        a3.bar(bars_x, bars_y)\n",
        "\n",
        "        data_plot.draw()\n",
        "        self.canvas.update() \n",
        "        # Re-draw the the clock and data fields on the canvas. Also update the Matplotlib charts. \n",
        "\n",
        "main = tk.Tk()\n",
        "main.title(\"Simulacion Cine\")\n",
        "main.config(bg=\"#fff\")\n",
        "\n",
        "top_frame = tk.Frame(main)\n",
        "top_frame.pack(side=tk.TOP, expand = False)\n",
        "\n",
        "canvas = tk.Canvas(main, width = 1300, height = 350, bg = \"white\")\n",
        "canvas.pack(side=tk.BOTTOM, expand = False)\n",
        "\n",
        "f = plt.Figure(figsize=(1, 2), dpi=72)\n",
        "a3 = f.add_subplot(121)\n",
        "a3.plot()\n",
        "a1 = f.add_subplot(222)\n",
        "a1.plot()\n",
        "\n",
        "data_plot = FigureCanvasTkAgg(f, master=main)\n",
        "data_plot.get_tk_widget().config(height = 400)\n",
        "data_plot.get_tk_widget().pack(side=tk.BOTTOM, fill=tk.BOTH, expand=True)\n",
        "\n",
        "canvas.pack()\n",
        "\n",
        "clock = ClockAndData(canvas, 10, 320, 20, 400, 0) \n",
        "\n",
        "def create_clock(env):\n",
        "    while True: \n",
        "        yield env.timeout(1) \n",
        "        clock.tick(env.now) \n",
        "\n",
        "env = simpy.Environment()\n",
        "env.process(create_clock(env)) \n",
        "env.run(until = 30)\n",
        "\n",
        "main.mainloop()"
      ]
    }
  ],
  "metadata": {
    "colab": {
      "collapsed_sections": [],
      "name": "8. EjemploFinalSympyPeliculas.ipynb",
      "provenance": []
    },
    "kernelspec": {
      "display_name": "Python 3.7.6 ('base')",
      "language": "python",
      "name": "python3"
    },
    "language_info": {
      "codemirror_mode": {
        "name": "ipython",
        "version": 3
      },
      "file_extension": ".py",
      "mimetype": "text/x-python",
      "name": "python",
      "nbconvert_exporter": "python",
      "pygments_lexer": "ipython3",
      "version": "3.7.6"
    },
    "vscode": {
      "interpreter": {
        "hash": "72ac9bc46bde6907b0b214775265cce7138316dca095cf7184d5960928905317"
      }
    }
  },
  "nbformat": 4,
  "nbformat_minor": 0
}
