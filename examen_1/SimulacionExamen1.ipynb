{
  "nbformat": 4,
  "nbformat_minor": 0,
  "metadata": {
    "colab": {
      "name": "SimulacionExamen1.ipynb",
      "provenance": [],
      "collapsed_sections": [],
      "authorship_tag": "ABX9TyO70/CKJs3JPdXA+xNeQoRe",
      "include_colab_link": true
    },
    "kernelspec": {
      "name": "python3",
      "display_name": "Python 3"
    },
    "language_info": {
      "name": "python"
    }
  },
  "cells": [
    {
      "cell_type": "markdown",
      "metadata": {
        "id": "view-in-github",
        "colab_type": "text"
      },
      "source": [
        "<a href=\"https://colab.research.google.com/github/IvanUlloa098/simulacion/blob/main/examen_1/SimulacionExamen1.ipynb\" target=\"_parent\"><img src=\"https://colab.research.google.com/assets/colab-badge.svg\" alt=\"Open In Colab\"/></a>"
      ]
    },
    {
      "cell_type": "code",
      "execution_count": null,
      "metadata": {
        "id": "SQBgtZu9dbRa"
      },
      "outputs": [],
      "source": [
        "import random\n",
        "import matplotlib.pyplot as plt\n",
        "import numpy as np\n",
        "import collections"
      ]
    },
    {
      "cell_type": "code",
      "source": [
        "def prueba_poker(numeros):\n",
        "  allDif = 0\n",
        "  pair = 0\n",
        "  pair2 = 0\n",
        "  three = 0\n",
        "  full = 0\n",
        "  poker = 0\n",
        "  five = 0\n",
        "\n",
        "  for i in numeros:\n",
        "    tx = str(i)\n",
        "\n",
        "    try:\n",
        "      tx = tx[2:7]\n",
        "    except:\n",
        "       tx = tx[2:len(tx)]\n",
        "\n",
        "    ls = [int(char) for char in tx]\n",
        "\n",
        "    count1 = [_ for key, _ in collections.Counter(ls).most_common()]\n",
        "    if (4 in count1) == True:\n",
        "      poker+=1\n",
        "    elif (((3 in count1) == True) and ((2 in count1) == True)):\n",
        "      full+=1\n",
        "    elif((5 in count1) == True):\n",
        "      five+=1\n",
        "    elif (((3 in count1) == True) and ((2 in count1) == False)):\n",
        "      three+=1\n",
        "    elif (((3 in count1) == False) and ((2 in count1) == True)):\n",
        "      pair+=1\n",
        "\n",
        "    aux = count1.count(2)\n",
        "    if aux == 2:\n",
        "      pair2+=1\n",
        "\n",
        "    if(len(set(ls)) == len(ls)):\n",
        "      allDif+=1  \n",
        "\n",
        "  pair = abs(pair-pair2) \n",
        "  print(f'Ninguno: {allDif} Pares: {pair}  Dos Pares: {pair2} Trio: {three} Full: {full} Poker: {poker} Cinco: {five}')\n",
        "\n",
        "  variables = [allDif, pair, pair2, three, full, poker, five]\n",
        "  const = [0.3024, 0.5040, 0.1080, 0.0720, 0.0090, 0.0045, 0.0001]\n",
        "  E = []\n",
        "  F = []\n",
        "  \n",
        "  for k in const:\n",
        "    E.append(k*len(numeros))\n",
        "\n",
        "  for l in range(len(variables)):\n",
        "    F.append(((E[l]-variables[l])**2)/E[l])\n",
        "  \n",
        "  result=sum(F)\n",
        "  \n",
        "  print(f'RESULTADO: {result}')\n",
        "\n",
        "def all_different(ls):\n",
        "  if len(ls) > len(set(ls)):\n",
        "      print('not different')\n",
        "\n",
        "  aux2  = sum(num//2 for num in collections.Counter(ls).values())\n",
        "  aux3  = sum(num//3 for num in collections.Counter(ls).values())\n",
        "  count = [_ for key, _ in collections.Counter(ls).most_common()]\n",
        "  print(ls.pop(0))\n",
        "  print(count)\n"
      ],
      "metadata": {
        "id": "z5pzoD5ZhcoG"
      },
      "execution_count": 168,
      "outputs": []
    },
    {
      "cell_type": "markdown",
      "source": [
        "Python Randon"
      ],
      "metadata": {
        "id": "sBv2RcbrRH9x"
      }
    },
    {
      "cell_type": "code",
      "source": [
        "def random_python(N=100):\n",
        "  numeros = []\n",
        "  random.seed(1032022)\n",
        "  [numeros.append(random.random())for i in range(N)]\n",
        "  return numeros\n",
        "\n",
        "numeros = random_python()\n",
        "prueba_poker(numeros)"
      ],
      "metadata": {
        "colab": {
          "base_uri": "https://localhost:8080/"
        },
        "id": "LAtwvM6rjKDu",
        "outputId": "193ffee4-2b7f-4a3a-d440-c89f7a243e00"
      },
      "execution_count": 169,
      "outputs": [
        {
          "output_type": "stream",
          "name": "stdout",
          "text": [
            "Ninguno: 32 Pares: 52  Dos Pares: 7 Trio: 9 Full: 0 Poker: 0 Cinco: 0\n",
            "RESULTADO: 3.3002645502645507\n"
          ]
        }
      ]
    },
    {
      "cell_type": "markdown",
      "source": [
        "Cuadrados Medios"
      ],
      "metadata": {
        "id": "M3kT3NZERJtz"
      }
    },
    {
      "cell_type": "code",
      "source": [
        "def random_middle_square(seed, d, N=100):\n",
        "  numeros = []\n",
        "  n1 = seed\n",
        "    \n",
        "  for i in range(N):\n",
        "    n2 = n1**2\n",
        "    sn2 = str(n2).zfill(8)\n",
        "    d2 = len(sn2)\n",
        "    c1 = int(sn2[int(d2/2-d/2):int(d2/2+d/2)])\n",
        "\n",
        "    sn3 = c1 / (int('9'*d)+1)\n",
        "    numeros.append(float(sn3))    \n",
        "    n1 = c1\n",
        "\n",
        "  return numeros\n",
        "\n",
        "seed = 74731897457\n",
        "d = 7\n",
        "\n",
        "x = random_middle_square(seed, d, 100)\n",
        "prueba_poker(x)"
      ],
      "metadata": {
        "colab": {
          "base_uri": "https://localhost:8080/"
        },
        "id": "72qPSeG1O91H",
        "outputId": "506c61da-8233-4807-ad5a-48ee45c6cdf5"
      },
      "execution_count": 164,
      "outputs": [
        {
          "output_type": "stream",
          "name": "stdout",
          "text": [
            "Ninguno: 23 Pares: 57  Dos Pares: 14 Trio: 3 Full: 1 Poker: 2 Cinco: 0\n",
            "RESULTADO: 11.355820105820106\n"
          ]
        }
      ]
    },
    {
      "cell_type": "markdown",
      "source": [
        "Congruencia Lineal"
      ],
      "metadata": {
        "id": "4BBIsTTkRMT6"
      }
    },
    {
      "cell_type": "code",
      "source": [
        "def congruencia_lineal(a, b, seed, m, N=100):\n",
        "    x0=seed\n",
        "    numeros=[]\n",
        "\n",
        "    for i in range(N):\n",
        "      x1 = (a*x0+b)%m\n",
        "      x2 = x1/m\n",
        "        \n",
        "      numeros.append(float(x2))\n",
        "      x0=x1\n",
        "\n",
        "    return numeros \n",
        "\n",
        "a = 74731897457\n",
        "b = 37747318974\n",
        "x0 = 7\n",
        "m = 19\n",
        "\n",
        "x = congruencia_lineal(a, b, x0, m, 100)\n",
        "prueba_poker(x)"
      ],
      "metadata": {
        "colab": {
          "base_uri": "https://localhost:8080/"
        },
        "id": "-pt6htiTPXJN",
        "outputId": "7f44db50-3dc9-4a58-b523-5ab5663c9ecf"
      },
      "execution_count": 167,
      "outputs": [
        {
          "output_type": "stream",
          "name": "stdout",
          "text": [
            "Ninguno: 100 Pares: 0  Dos Pares: 0 Trio: 0 Full: 0 Poker: 0 Cinco: 0\n",
            "RESULTADO: 230.68783068783063\n"
          ]
        }
      ]
    },
    {
      "cell_type": "markdown",
      "source": [
        "Tausworthe"
      ],
      "metadata": {
        "id": "vnMOUDN8RVoF"
      }
    },
    {
      "cell_type": "code",
      "source": [
        "def lfsr_custom(seed, r, q, l, N=100):\n",
        "    A = seed\n",
        "\n",
        "    for i in range(1,len(list(range(1,(N*l)+1)))+1):\n",
        "        if i>q:\n",
        "            pr=i-(r+1)\n",
        "            pq=i-(q+1)\n",
        "            A.append(A[pr] ^ A[pq])  \n",
        "\n",
        "    return A\n",
        "\n",
        "def to_decimal(result, l, N=100):\n",
        "    B = []\n",
        "    jump = l\n",
        "    const = 2**l\n",
        "\n",
        "    for i in range(0, len(result), l):\n",
        "        dec = ''.join(map(str, result[i:jump]))\n",
        "        B.append(int(dec,2)/const)\n",
        "        \n",
        "        jump = jump + l\n",
        "\n",
        "    return B\n",
        "\n",
        "q = 15\n",
        "r = 7\n",
        "l = 7\n",
        "\n",
        "seed = [1 for i in range(q)]\n",
        "\n",
        "result=lfsr_custom(seed, r, q, l, 100)\n",
        "x = to_decimal(result,l, 100)\n",
        "prueba_poker(x)"
      ],
      "metadata": {
        "colab": {
          "base_uri": "https://localhost:8080/"
        },
        "id": "Zdpb1TbQQMf0",
        "outputId": "a501bb32-fa24-460c-c2fd-aa0db55005fc"
      },
      "execution_count": 177,
      "outputs": [
        {
          "output_type": "stream",
          "name": "stdout",
          "text": [
            "Ninguno: 53 Pares: 41  Dos Pares: 4 Trio: 2 Full: 0 Poker: 0 Cinco: 0\n",
            "RESULTADO: 28.28042328042328\n"
          ]
        }
      ]
    }
  ]
}