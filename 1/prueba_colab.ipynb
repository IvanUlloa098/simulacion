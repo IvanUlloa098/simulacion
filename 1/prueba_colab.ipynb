{
  "nbformat": 4,
  "nbformat_minor": 0,
  "metadata": {
    "colab": {
      "name": "prueba_colab.ipynb",
      "provenance": [],
      "authorship_tag": "ABX9TyPs1UddpXTuqBVPGG4ykvQw",
      "include_colab_link": true
    },
    "kernelspec": {
      "name": "python3",
      "display_name": "Python 3"
    },
    "language_info": {
      "name": "python"
    }
  },
  "cells": [
    {
      "cell_type": "markdown",
      "metadata": {
        "id": "view-in-github",
        "colab_type": "text"
      },
      "source": [
        "<a href=\"https://colab.research.google.com/github/IvanUlloa098/simulacion/blob/main/1/prueba_colab.ipynb\" target=\"_parent\"><img src=\"https://colab.research.google.com/assets/colab-badge.svg\" alt=\"Open In Colab\"/></a>"
      ]
    },
    {
      "cell_type": "code",
      "execution_count": 1,
      "metadata": {
        "id": "W9jHqcdPRnzL"
      },
      "outputs": [],
      "source": [
        "# Google colab test"
      ]
    }
  ]
}