{
  "nbformat": 4,
  "nbformat_minor": 0,
  "metadata": {
    "colab": {
      "name": "chi_cuadrado.ipynb",
      "provenance": [],
      "collapsed_sections": [],
      "authorship_tag": "ABX9TyOPQ6/cqAazyz8l+H4dEwrG",
      "include_colab_link": true
    },
    "kernelspec": {
      "name": "python3",
      "display_name": "Python 3"
    },
    "language_info": {
      "name": "python"
    }
  },
  "cells": [
    {
      "cell_type": "markdown",
      "metadata": {
        "id": "view-in-github",
        "colab_type": "text"
      },
      "source": [
        "<a href=\"https://colab.research.google.com/github/IvanUlloa098/simulacion/blob/main/tarea_5/chi_cuadrado.ipynb\" target=\"_parent\"><img src=\"https://colab.research.google.com/assets/colab-badge.svg\" alt=\"Open In Colab\"/></a>"
      ]
    },
    {
      "cell_type": "markdown",
      "source": [
        "#Ejercicios de Chi Cuadrado\n",
        "\n",
        "\n"
      ],
      "metadata": {
        "id": "gjXYkDxCneu4"
      }
    },
    {
      "cell_type": "markdown",
      "source": [
        "*Iván Ulloa*"
      ],
      "metadata": {
        "id": "vFW5x7cnn7IE"
      }
    },
    {
      "cell_type": "code",
      "source": [
        "import random\n",
        "import matplotlib.pyplot as plt\n",
        "import numpy as np"
      ],
      "metadata": {
        "id": "8RsPBJLXztsF"
      },
      "execution_count": null,
      "outputs": []
    },
    {
      "cell_type": "markdown",
      "source": [
        "**Random de Python semilla (11052022)**"
      ],
      "metadata": {
        "id": "pRF0SoyYol7c"
      }
    },
    {
      "cell_type": "code",
      "source": [
        "def random_python(N=100):\n",
        "  numeros = []\n",
        "  random.seed(11052022)\n",
        "  [numeros.append(random.random())for i in range(N)]\n",
        "  return numeros"
      ],
      "metadata": {
        "id": "-y2oPavK0Slz"
      },
      "execution_count": null,
      "outputs": []
    },
    {
      "cell_type": "code",
      "source": [
        "def calcular_chi(numeros):\n",
        "  tablas = {}\n",
        "  for i in np.arange(0.1, 1.1, 0.1):\n",
        "    for j in numeros:\n",
        "      if j > i-0.1 and j <= i:\n",
        "        tablas[round(i-0.1,1)] = tablas[round(i-0.1,1)]+1 if round(i-0.1,1) in tablas else 1\n",
        "  return tablas\n",
        "\n",
        "def sumatoria_chi(tabla, E):\n",
        "  return sum([(valor-E)**2/E for valor in tabla.values()])\n",
        "\n",
        "def graficar(tabla):\n",
        "  plt.bar(range(len(tabla)), list(tabla.values()), tick_label=list(tabla.keys()))\n",
        "  plt.show()"
      ],
      "metadata": {
        "id": "gEzAxTaSQSbV"
      },
      "execution_count": null,
      "outputs": []
    },
    {
      "cell_type": "code",
      "execution_count": null,
      "metadata": {
        "colab": {
          "base_uri": "https://localhost:8080/",
          "height": 407
        },
        "id": "9U_xwlEoyvZd",
        "outputId": "242baea8-42ed-4c13-fb09-b60ddebca99c"
      },
      "outputs": [
        {
          "output_type": "stream",
          "name": "stdout",
          "text": [
            "Los 100 numeros aleatorios generados\n",
            "[0.39122091339712006, 0.08673940245642964, 0.9233776991044218, 0.5643281259214213, 0.5018754578724773, 0.6092906311578306, 0.7944410154604006, 0.4745506456495402, 0.3496767363331855, 0.08044631797968471, 0.6263578731542199, 0.2036014039706825, 0.32266209276724567, 0.1789720571675194, 0.51299029248829, 0.7770010208223913, 0.5449750015006763, 0.6965377945580097, 0.17325150202955186, 0.9000269906696816, 0.7996854776854797, 0.35322968565101953, 0.6711727475466924, 0.28345737390743064, 0.37350518006964006, 0.37916716408773543, 0.17048123118844705, 0.823379948568777, 0.22300266321497408, 0.051569135814649614, 0.1922950198508785, 0.8634191905130083, 0.5439027360115081, 0.12556216958312505, 0.34124337838965746, 0.6811002910449016, 0.07304203459633685, 0.12499764479557629, 0.2036691179102461, 0.5579574657844889, 0.7421399105045708, 0.5911979676257648, 0.985890474077214, 0.36352070742615483, 0.8983386409438613, 0.045274687387145685, 0.010854410020205485, 0.10747868006965788, 0.7310662267223154, 0.6789110128701332, 0.4681284220423234, 0.7487069922157717, 0.04797854000306567, 0.24710709969259748, 0.04930411236665988, 0.0020391251798350662, 0.07593976703716421, 0.28676974817745593, 0.0046998045473188865, 0.994987409240566, 0.9826228155176063, 0.6053241326585376, 0.5849806144858605, 0.22958414513776948, 0.10777536071052607, 0.5808351957143609, 0.572388670521242, 0.008221646874923993, 0.6896864689831648, 0.12846169495459336, 0.2535791939191787, 0.5478308529147088, 0.27120576132569874, 0.7256050877837473, 0.010751622315348097, 0.9426507923902242, 0.715282633312101, 0.5199730077235968, 0.17428944191844298, 0.8915547498465177, 0.24393711031568588, 0.018682015068336, 0.8427798991994951, 0.015499748889723719, 0.7895388047965864, 0.5450205028827372, 0.2964689443835594, 0.577139092833342, 0.3904078855024612, 0.8461885527273011, 0.2598106883020571, 0.3421468366012045, 0.8909448186747102, 0.16447232820424518, 0.20528958200149916, 0.9877596907709568, 0.27006525861806896, 0.5219510602287093, 0.5592011764902934, 0.5556146311555469]\n",
            "Tabla de intervalos y el conteo de numeros dentro de cada intervalo\n",
            "{0.0: 15, 0.1: 11, 0.2: 14, 0.3: 10, 0.4: 2, 0.5: 17, 0.6: 8, 0.7: 9, 0.8: 7, 0.9: 7}\n",
            "Calculamos el valor de chi cuadrado\n",
            "17.8\n",
            "Grafica de barras\n"
          ]
        },
        {
          "output_type": "display_data",
          "data": {
            "text/plain": [
              "<Figure size 432x288 with 1 Axes>"
            ],
            "image/png": "[encoded data removed]"
          },
          "metadata": {
            "needs_background": "light"
          }
        }
      ],
      "source": [
        "numeros = random_python()\n",
        "print(\"Los 100 numeros aleatorios generados\")\n",
        "print(numeros)\n",
        "print(\"Tabla de intervalos y el conteo de numeros dentro de cada intervalo\")\n",
        "tablas = calcular_chi(numeros)\n",
        "print(tablas)\n",
        "print(\"Calculamos el valor de chi cuadrado\")\n",
        "print(sumatoria_chi(tablas, 10))\n",
        "print(\"Grafica de barras\")\n",
        "graficar(tablas)  "
      ]
    },
    {
      "cell_type": "markdown",
      "source": [
        "**Cuadrados medios: Xo=74731897457, D=7**"
      ],
      "metadata": {
        "id": "gDzBq6whoojr"
      }
    },
    {
      "cell_type": "code",
      "source": [
        "def random_middle_square(seed, N=100):\n",
        "  d = len(seed)\n",
        "  numeros = []\n",
        "\n",
        "  n1 = int(seed)\n",
        "  for i in range(N):\n",
        "    n2 = n1**2\n",
        "    sn2 = str(n2)\n",
        "    d2 = len(sn2)\n",
        "    c1 = int((d2 - d) / 2)\n",
        "\n",
        "    sn3 = sn2[c1:c1+d]\n",
        "    n1 = int(sn3)\n",
        "    numeros.append(float(f'0.{n1}'))\n",
        "\n",
        "  return numeros"
      ],
      "metadata": {
        "id": "nqUV3vrL0PE_"
      },
      "execution_count": null,
      "outputs": []
    },
    {
      "cell_type": "code",
      "source": [
        "seed = '74731897457'\n",
        "\n",
        "numeros = random_middle_square(seed, 100)\n",
        "print(\"Los 100 numeros aleatorios generados\")\n",
        "print(numeros)\n",
        "print(\"Tabla de intervalos y el conteo de numeros dentro de cada intervalo\")\n",
        "tablas = calcular_chi(numeros)\n",
        "print(tablas)\n",
        "print(\"Calculamos el valor de chi cuadrado\")\n",
        "print(sumatoria_chi(tablas, 10))\n",
        "print(\"Grafica de barras\")\n",
        "graficar(tablas)  "
      ],
      "metadata": {
        "colab": {
          "base_uri": "https://localhost:8080/",
          "height": 407
        },
        "id": "vqz7tvPhFQyP",
        "outputId": "4ba5d465-e6d8-4206-8a24-2ecf92bfaafc"
      },
      "execution_count": null,
      "outputs": [
        {
          "output_type": "stream",
          "name": "stdout",
          "text": [
            "Los 100 numeros aleatorios generados\n",
            "[0.56497523563, 0.7016875174, 0.53720749753, 0.18954024449, 0.50428132897, 0.96587477493, 0.40808460781, 0.30471314415, 0.10021777867, 0.6031615491, 0.38543127117, 0.7264795722, 0.2568823895, 0.56203522971, 0.35994351724, 0.93356031021, 0.48527993914, 0.66193317221, 0.55244719935, 0.79080696586, 0.56572526992, 0.50810260568, 0.82578988055, 0.89268187832, 0.9358809232, 0.73102409684, 0.62301607376, 0.90281633257, 0.73303551448, 0.10654889582, 0.66720046121, 0.64554388367, 0.69057437464, 0.2966909427, 0.51548021468, 0.98517265388, 0.51579529622, 0.47876026775, 0.13939760516, 0.69232434325, 0.29962565438, 0.53276264321, 0.60340001057, 0.15727558761, 0.61045807078, 0.90561804394, 0.40415097117, 0.80074976541, 0.18680417, 0.57979293889, 0.98519867032, 0.6420000296, 0.40380064008, 0.49569290177, 0.14528651628, 0.1718127787, 0.63092461517, 0.58700274125, 0.22182350144, 0.66579110168, 0.7791076268, 0.8694137928, 0.3431108813, 0.25076866462, 0.92315529803, 0.57042808581, 0.82010808607, 0.72728373985, 0.16382502024, 0.6372566364, 0.60206358418, 0.5593956679, 0.23513265287, 0.36444568391, 0.6565206276, 0.19334464297, 0.15096519677, 0.49063580481, 0.34929615564, 0.78043448831, 0.79905436915, 0.78848577044, 0.98101863603, 0.75642381616, 0.69896540574, 0.26384212828, 0.66865531997, 0.9936924183, 0.46221869021, 0.61175794479, 0.77830136846, 0.30201467086, 0.86141467413, 0.5240806494, 0.5270755257, 0.8609791931, 0.85170951127, 0.90915877822, 0.96840144831, 0.13650889056]\n",
            "Tabla de intervalos y el conteo de numeros dentro de cada intervalo\n",
            "{0.1: 12, 0.2: 7, 0.3: 7, 0.4: 8, 0.5: 16, 0.6: 18, 0.7: 12, 0.8: 8, 0.9: 12}\n",
            "Calculamos el valor de chi cuadrado\n",
            "13.800000000000002\n",
            "Grafica de barras\n"
          ]
        },
        {
          "output_type": "display_data",
          "data": {
            "text/plain": [
              "<Figure size 432x288 with 1 Axes>"
            ],
            "image/png": "[encoded data removed]"
          },
          "metadata": {
            "needs_background": "light"
          }
        }
      ]
    },
    {
      "cell_type": "markdown",
      "source": [
        "**Tauswoth q=7, r=3, l=5**"
      ],
      "metadata": {
        "id": "IDUWTviAou4J"
      }
    },
    {
      "cell_type": "code",
      "source": [
        "def lfsr_custom(seed, r, q):\n",
        "    A = seed\n",
        "    start = q\n",
        "    end = (2**q)\n",
        "\n",
        "    for i in range(start, end):\n",
        "        pr = i-r\n",
        "        pq = i-q\n",
        "        A.append(A[pr] ^ A[pq])\n",
        "\n",
        "    return A\n",
        "\n",
        "def to_decimal(result, l):\n",
        "    B = []\n",
        "    jump = l\n",
        "    end = len(result)\n",
        "    const = 2**l\n",
        "\n",
        "    for i in range(0, end, l):\n",
        "        dec = ''.join(map(str, result[i:jump]))\n",
        "        B.append(int(dec,2)/const)\n",
        "        \n",
        "        jump = jump + l\n",
        "\n",
        "    return B"
      ],
      "metadata": {
        "id": "R1qxPp4XuYi4"
      },
      "execution_count": null,
      "outputs": []
    },
    {
      "cell_type": "code",
      "source": [
        "q = 7\n",
        "r = 3\n",
        "l = 5\n",
        "\n",
        "seed = [1, 1, 1, 1, 1]\n",
        "\n",
        "result=lfsr_custom(seed, r, q)\n",
        "numeros = to_decimal(result, l)\n",
        "print(\"Los 100 numeros aleatorios generados\")\n",
        "print(numeros)\n",
        "print(\"Tabla de intervalos y el conteo de numeros dentro de cada intervalo\")\n",
        "tablas = calcular_chi(numeros)\n",
        "print(tablas)\n",
        "print(\"Calculamos el valor de chi cuadrado\")\n",
        "print(sumatoria_chi(tablas, len(numeros)/10))\n",
        "print(\"Grafica de barras\")\n",
        "graficar(tablas) "
      ],
      "metadata": {
        "colab": {
          "base_uri": "https://localhost:8080/",
          "height": 407
        },
        "id": "4Osi5gt5z6Ep",
        "outputId": "d3e6b121-d0aa-4d99-cd65-70b0cd0bf3d9"
      },
      "execution_count": null,
      "outputs": [
        {
          "output_type": "stream",
          "name": "stdout",
          "text": [
            "Los 100 numeros aleatorios generados\n",
            "[0.96875, 0.3125, 0.375, 0.25, 0.46875, 0.65625, 0.1875, 0.125, 0.21875, 0.8125, 0.59375, 0.0625, 0.09375, 0.90625, 0.28125, 0.53125, 0.03125, 0.9375, 0.625, 0.75, 0.5, 0.96875, 0.3125, 0.375, 0.25, 0.0]\n",
            "Tabla de intervalos y el conteo de numeros dentro de cada intervalo\n",
            "{0.0: 3, 0.1: 2, 0.2: 4, 0.3: 4, 0.4: 2, 0.5: 2, 0.6: 2, 0.7: 1, 0.8: 1, 0.9: 4}\n",
            "Calculamos el valor de chi cuadrado\n",
            "4.846153846153846\n",
            "Grafica de barras\n"
          ]
        },
        {
          "output_type": "display_data",
          "data": {
            "text/plain": [
              "<Figure size 432x288 with 1 Axes>"
            ],
            "image/png": "[encoded data removed]"
          },
          "metadata": {
            "needs_background": "light"
          }
        }
      ]
    },
    {
      "cell_type": "markdown",
      "source": [
        "**Congruencia lineal: a=74731897457, b=37747318974, Xo=7, M=19**"
      ],
      "metadata": {
        "id": "QNXdyEgpo6Ok"
      }
    },
    {
      "cell_type": "code",
      "source": [
        "def congruencia_lineal(a, b, seed, m, N=100):\n",
        "    x0=seed\n",
        "    numeros=[]\n",
        "\n",
        "    for i in range(N):\n",
        "      x1 = (a*x0+b)%m\n",
        "      numeros.append(float(x1))\n",
        "      x0=x1\n",
        "\n",
        "    return numeros "
      ],
      "metadata": {
        "id": "dWu066YG_8pO"
      },
      "execution_count": null,
      "outputs": []
    },
    {
      "cell_type": "code",
      "source": [
        "a = 74731897457\n",
        "b = 37747318974\n",
        "x0 = 7\n",
        "m = 19\n",
        "\n",
        "# Cambiamos la función para calcular el Chi cuadrado para poder usarlo en cualquier intervalo de valores ingresado, no solo en intervalos de 0.1\n",
        "def calcular_chi(numeros, end):\n",
        "  tablas = {}\n",
        "  intervalo = (end/10)\n",
        "\n",
        "  for i in np.arange(intervalo, end+intervalo, intervalo):\n",
        "    \n",
        "    for j in numeros:\n",
        "      if j >= round(i-intervalo,1) and j <= i:\n",
        "        tablas[round(i-intervalo,1)] = tablas[round(round(i,1)-intervalo,1)]+1 if round(round(i,1)-intervalo,1) in tablas else 1\n",
        "  \n",
        "  return tablas\n",
        "\n",
        "numeros = congruencia_lineal(74731897457, 37747318974, 7, 19, m)\n",
        "print(\"Los numeros aleatorios generados\")\n",
        "print(numeros)\n",
        "print(\"Tabla de intervalos y el conteo de numeros dentro de cada intervalo\")\n",
        "tablas = calcular_chi(numeros, m)\n",
        "print(tablas)\n",
        "print(\"Calculamos el valor de chi cuadrado\")\n",
        "print(sumatoria_chi(tablas, len(numeros)/10))\n",
        "print(\"Grafica de barras\")\n",
        "graficar(tablas)"
      ],
      "metadata": {
        "colab": {
          "base_uri": "https://localhost:8080/",
          "height": 387
        },
        "id": "MD1mhqq8Eg5k",
        "outputId": "c9a75ac6-9d11-450b-8f47-fc5f347c8246"
      },
      "execution_count": null,
      "outputs": [
        {
          "output_type": "stream",
          "name": "stdout",
          "text": [
            "Los numeros aleatorios generados\n",
            "[17.0, 16.0, 18.0, 14.0, 3.0, 6.0, 0.0, 12.0, 7.0, 17.0, 16.0, 18.0, 14.0, 3.0, 6.0, 0.0, 12.0, 7.0, 17.0]\n",
            "Tabla de intervalos y el conteo de numeros dentro de cada intervalo\n",
            "{0.0: 2, 1.9: 2, 5.7: 4, 11.4: 2, 13.3: 2, 15.2: 5, 17.1: 2}\n",
            "Calculamos el valor de chi cuadrado\n",
            "7.405263157894738\n",
            "Grafica de barras\n"
          ]
        },
        {
          "output_type": "display_data",
          "data": {
            "text/plain": [
              "<Figure size 432x288 with 1 Axes>"
            ],
            "image/png": "[encoded data removed]"
          },
          "metadata": {
            "needs_background": "light"
          }
        }
      ]
    }
  ]
}