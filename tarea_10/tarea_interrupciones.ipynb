{
  "nbformat": 4,
  "nbformat_minor": 0,
  "metadata": {
    "colab": {
      "name": "tarea_interrupciones.ipynb",
      "provenance": [],
      "collapsed_sections": [],
      "authorship_tag": "ABX9TyNu2Zefcda5MJIt+AxcNAN4",
      "include_colab_link": true
    },
    "kernelspec": {
      "name": "python3",
      "display_name": "Python 3"
    },
    "language_info": {
      "name": "python"
    }
  },
  "cells": [
    {
      "cell_type": "markdown",
      "metadata": {
        "id": "view-in-github",
        "colab_type": "text"
      },
      "source": [
        "<a href=\"https://colab.research.google.com/github/IvanUlloa098/simulacion/blob/main/tarea_10/tarea_interrupciones.ipynb\" target=\"_parent\"><img src=\"https://colab.research.google.com/assets/colab-badge.svg\" alt=\"Open In Colab\"/></a>"
      ]
    },
    {
      "cell_type": "markdown",
      "source": [
        "# Practica Interrupciones\n",
        "## Ivan Ulloa"
      ],
      "metadata": {
        "id": "07XGlIKLCE8O"
      }
    },
    {
      "cell_type": "code",
      "execution_count": 1,
      "metadata": {
        "colab": {
          "base_uri": "https://localhost:8080/"
        },
        "id": "jL6wI30u-RAZ",
        "outputId": "223367dd-b7cd-4080-b6b6-909ecc76ff08"
      },
      "outputs": [
        {
          "output_type": "stream",
          "name": "stdout",
          "text": [
            "Looking in indexes: https://pypi.org/simple, https://us-python.pkg.dev/colab-wheels/public/simple/\n",
            "Collecting simpy\n",
            "  Downloading simpy-4.0.1-py2.py3-none-any.whl (29 kB)\n",
            "Installing collected packages: simpy\n",
            "Successfully installed simpy-4.0.1\n"
          ]
        }
      ],
      "source": [
        "!pip install simpy"
      ]
    },
    {
      "cell_type": "code",
      "source": [
        "import simpy\n",
        "import random\n",
        "import matplotlib.pyplot as plt\n",
        "import numpy as np\n",
        "from scipy import stats"
      ],
      "metadata": {
        "id": "2iyhjCjo-Ug0"
      },
      "execution_count": 2,
      "outputs": []
    },
    {
      "cell_type": "code",
      "source": [
        "AFORO=300\n",
        "CONTAGIO=0.1 # Porcentaje de poblacion ya contagiada\n",
        "PROB_CONTAGIO=0.15 # Probabilidad de contagio usando mascarilla\n",
        "TIEMPO_SIMULACION = 30\n",
        "UNIVERSO=AFORO*TIEMPO_SIMULACION"
      ],
      "metadata": {
        "id": "nj0wtCdW-X3w"
      },
      "execution_count": 3,
      "outputs": []
    },
    {
      "cell_type": "code",
      "source": [
        "class Instituto(object):    \n",
        "  def __init__(self, environment, aforo):        \n",
        "    self.env=environment\n",
        "    self.aforo = simpy.Resource(environment, aforo)   \n",
        "    self.listcontagios = LISTCONTAGIOS\n",
        "      \n",
        "  def asistencia_alumno(self, alumno, id,contagio):\n",
        "    if(alumno==0):\n",
        "      distribucion[id]=contagio\n",
        "    yield self.env.timeout(1)\n",
        "  \n",
        "  def generador_contagio(self):\n",
        "    aux = self.listcontagios[0]\n",
        "    self.listcontagios = np.delete(self.listcontagios, 0)\n",
        "    return aux\n",
        "    \n",
        "def llegada_establecimineto(env, alumno, id, contagio, instituto):  \n",
        "  #print(f'El alumno {id} ha llegado al establecimiento')\n",
        "  with instituto.aforo.request() as aforo:        \n",
        "      yield aforo\n",
        "      yield env.process(instituto.asistencia_alumno(alumno,id,contagio))    \n",
        "\n",
        "def run_simulation(env):\n",
        "  instituto=Instituto(env, AFORO)\n",
        "  \n",
        "  DIA=0\n",
        "\n",
        "  while True:\n",
        "    i=0\n",
        "    for k in range(AFORO):\n",
        "      aux = instituto.generador_contagio()\n",
        "      CONT_ACUMULADO.append(aux)\n",
        "      env.process(llegada_establecimineto(env, distribucion[k],k,aux,instituto))\n",
        "      i+=1\n",
        "\n",
        "    if(DIA==(TIEMPO_SIMULACION-1)):\n",
        "      print(f'Similacion concluida en {DIA+1} dias')\n",
        "      break\n",
        "    else:\n",
        "      DIA+=1\n",
        "\n",
        "    t=env.now\n",
        "    #print(CONT_ACUMULADO)\n",
        "    CONTG[t]=CONT_ACUMULADO.count(1)\n",
        "    yield env.timeout(1)\n"
      ],
      "metadata": {
        "id": "jlts4l7K-g6o"
      },
      "execution_count": 4,
      "outputs": []
    },
    {
      "cell_type": "code",
      "source": [
        "CONT_ACUMULADO=[]\n",
        "CONTG={}\n",
        "\n",
        "bernoulli = stats.bernoulli(CONTAGIO)\n",
        "distribucion = bernoulli.rvs(UNIVERSO)\n",
        "\n",
        "contagios=stats.bernoulli(PROB_CONTAGIO)\n",
        "LISTCONTAGIOS=contagios.rvs(UNIVERSO)\n",
        "\n",
        "env=simpy.Environment()\n",
        "env.process(run_simulation(env))\n",
        "# Ejecutamos el proceso durante el tiempo de simulacion\n",
        "env.run(until = TIEMPO_SIMULACION)"
      ],
      "metadata": {
        "id": "wqYNoB7mwkKh",
        "colab": {
          "base_uri": "https://localhost:8080/"
        },
        "outputId": "d331c35f-89e4-4772-d27d-e8687fb717d3"
      },
      "execution_count": 10,
      "outputs": [
        {
          "output_type": "stream",
          "name": "stdout",
          "text": [
            "Similacion concluida en 30 dias\n"
          ]
        }
      ]
    },
    {
      "cell_type": "code",
      "source": [
        "etiqueta = list(CONTG.keys())\n",
        "valores = list(CONTG.values())\n",
        "\n",
        "plt.bar(range(len(CONTG)), valores, align=\"center\", tick_label=etiqueta)\n",
        "plt.title(\"Numero de contagios por dia\")\n",
        "plt.xlabel(\"Dia\")\n",
        "plt.ylabel(\"Nro. de alumnos contagiados\")\n",
        "plt.show()"
      ],
      "metadata": {
        "colab": {
          "base_uri": "https://localhost:8080/",
          "height": 295
        },
        "id": "MnLQlZTX-mjY",
        "outputId": "856304bc-6054-434c-c37b-aa212dde85ba"
      },
      "execution_count": 11,
      "outputs": [
        {
          "output_type": "display_data",
          "data": {
            "text/plain": [
              "<Figure size 432x288 with 1 Axes>"
            ],
            "image/png": "[encoded data removed]"
          },
          "metadata": {
            "needs_background": "light"
          }
        }
      ]
    }
  ]
}