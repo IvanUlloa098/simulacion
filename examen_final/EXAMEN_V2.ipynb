{
  "nbformat": 4,
  "nbformat_minor": 0,
  "metadata": {
    "colab": {
      "name": "EXAMEN_V2.ipynb",
      "provenance": [],
      "collapsed_sections": [],
      "authorship_tag": "ABX9TyNLxYp4UUUmOBczZQ6JfKOD",
      "include_colab_link": true
    },
    "kernelspec": {
      "name": "python3",
      "display_name": "Python 3"
    },
    "language_info": {
      "name": "python"
    }
  },
  "cells": [
    {
      "cell_type": "markdown",
      "metadata": {
        "id": "view-in-github",
        "colab_type": "text"
      },
      "source": [
        "<a href=\"https://colab.research.google.com/github/IvanUlloa098/simulacion/blob/main/examen_final/EXAMEN_V2.ipynb\" target=\"_parent\"><img src=\"https://colab.research.google.com/assets/colab-badge.svg\" alt=\"Open In Colab\"/></a>"
      ]
    },
    {
      "cell_type": "code",
      "execution_count": null,
      "metadata": {
        "colab": {
          "base_uri": "https://localhost:8080/"
        },
        "id": "RlS1GfbNIe-U",
        "outputId": "9b0f8f34-fdcb-40d7-ca00-eae918f1811a"
      },
      "outputs": [
        {
          "output_type": "stream",
          "name": "stdout",
          "text": [
            "Looking in indexes: https://pypi.org/simple, https://us-python.pkg.dev/colab-wheels/public/simple/\n",
            "Collecting simpy\n",
            "  Downloading simpy-4.0.1-py2.py3-none-any.whl (29 kB)\n",
            "Installing collected packages: simpy\n",
            "Successfully installed simpy-4.0.1\n"
          ]
        }
      ],
      "source": [
        "!pip install simpy"
      ]
    },
    {
      "cell_type": "code",
      "source": [
        "import simpy\n",
        "import random\n",
        "import matplotlib.pyplot as plt\n",
        "from scipy import stats\n",
        "import matplotlib.pyplot as plt\n",
        "import numpy as np"
      ],
      "metadata": {
        "id": "3cpmXjoZLPVQ"
      },
      "execution_count": null,
      "outputs": []
    },
    {
      "cell_type": "code",
      "source": [
        "LUGARES_DESTINO = ['GUAYAQUIL', 'QUITO', 'CUENCA', 'PORTOVIEJO','MACHALA', 'AMBATO']\n",
        "PESOS_LUG_DES = (30, 20, 20, 15, 10, 5)\n",
        "POBL_FEM = 0.53\n",
        "PROB_MAS = 0.47\n",
        "MEDIA_EDAD = 35\n",
        "MEDIA_COMPRA = 10\n",
        "DESVIACION_COMPRA = 2\n",
        "MEDIA_VIAJE = 6 * 60\n",
        "DESVIACION_VIAJE = 4 * 60\n",
        "CAPACIDAD_BUS = 40\n",
        "LLEGADA = 10\n",
        "NUM_BUSES = 5\n",
        "\n",
        "DIAS = 7\n",
        "TIEMPO_SIMULACION = DIAS * 24 * 60\n",
        "\n",
        "bernoulli = stats.bernoulli(POBL_FEM)\n",
        "distribucion = bernoulli.rvs(100) # Universo arbitrario"
      ],
      "metadata": {
        "id": "Q6qguJ_bLQvn"
      },
      "execution_count": null,
      "outputs": []
    },
    {
      "cell_type": "code",
      "source": [
        "def escoger_lugar():\n",
        "  return random.choices(LUGARES_DESTINO, weights=PESOS_LUG_DES, k=1)[0]\n",
        "\n",
        "def generar_sexo():\n",
        "    poblacion=stats.bernoulli(PROB_MAS)\n",
        "    if poblacion.rvs(1)[0] == 1:\n",
        "      return 'M'\n",
        "    else:\n",
        "      return 'F'\n",
        "\n",
        "def generar_edad():\n",
        "  return np.random.poisson(MEDIA_EDAD, 1)[0]\n",
        "\n",
        "def tiempo_compra():\n",
        "    return abs(random.normalvariate(MEDIA_COMPRA, DESVIACION_COMPRA))\n",
        "\n",
        "def tiempo_viaje():\n",
        "    return abs(random.normalvariate(MEDIA_VIAJE, DESVIACION_VIAJE))\n",
        "\n",
        "def num_boletos():\n",
        "  return random.randint(1,6)"
      ],
      "metadata": {
        "id": "G-rgHLrrLSge"
      },
      "execution_count": null,
      "outputs": []
    },
    {
      "cell_type": "code",
      "source": [
        "class AgenciaTurismo():\n",
        "    \n",
        "    def __init__(self, environment, nombre):\n",
        "        self.env = environment\n",
        "        self.bus = simpy.Resource(self.env, capacity=CAPACIDAD_BUS+1) # mas uno para realizar una peticion como conductor\n",
        "        self.nombre = nombre\n",
        "        self.capacidad = CAPACIDAD_BUS\n",
        "        self.con_ticket = 0\n",
        "        self.accion = env.process(self.run())\n",
        "        self.traveling=False\n",
        "    \n",
        "    def comprar_ticket(self, cliente, tickets):\n",
        "        yield self.env.timeout(tiempo_compra())\n",
        "        if self.capacidad < tickets: \n",
        "          print(f'BOLETOS AGOTADOS para el cliente {cliente} compra {self.capacidad} boletos. TIEMPO={self.env.now}')\n",
        "          tickets = self.capacidad\n",
        "          self.capacidad = 0          \n",
        "          return tickets\n",
        "\n",
        "        if self.traveling == False:        \n",
        "          self.capacidad -= tickets\n",
        "          self.con_ticket +=1\n",
        "          print(f'Cliente {cliente} compra {tickets} boletos {self.env.now}')\n",
        "          return tickets\n",
        "        \n",
        "        return 0\n",
        "\n",
        "    def ingreso_bus(self, cliente, ticket):\n",
        "        with self.bus.request() as peticion:\n",
        "          yield peticion   \n",
        "          yield self.env.timeout(1)\n",
        "          print(f'Pasajero con el ticket {ticket} comprado por {cliente} sube al transporte {self.nombre} TIEMPO={self.env.now}')\n",
        "          self.bus.release(peticion)       \n",
        "\n",
        "    def bus_deja_estacion(self):\n",
        "       with self.bus.request() as peticion:\n",
        "          t = tiempo_viaje()\n",
        "          self.traveling=True\n",
        "          yield peticion\n",
        "          bus_uso[self.env.now] = [self.nombre, CAPACIDAD_BUS - self.capacidad]\n",
        "          yield self.env.timeout(t)\n",
        "          print(f'Transporte {self.nombre} deja la estacion en {self.env.now} con {CAPACIDAD_BUS - self.capacidad} pasajeros')\n",
        "          yield self.env.timeout(t)\n",
        "          bus_uso[self.env.now] = [self.nombre, CAPACIDAD_BUS - self.capacidad]\n",
        "          self.bus = simpy.Resource(self.env, capacity=CAPACIDAD_BUS)\n",
        "          self.capacidad = CAPACIDAD_BUS\n",
        "          self.traveling=False\n",
        "          print(f'Transporte {self.nombre} llega nuevamente a la estacion en el tiempo {self.env.now}')\n",
        "\n",
        "    def run(self):\n",
        "      i=0\n",
        "      pasajeros=0\n",
        "      tiempo_partida = 0\n",
        "      \n",
        "      while True:\n",
        "        time_now = int(self.env.now/60)\n",
        "        i+=1\n",
        "        pasajeros+=1\n",
        "\n",
        "        if (time_now > tiempo_partida and self.traveling == False):\n",
        "          tiempo_partida = time_now\n",
        "          aux = self.env.now\n",
        "          yield env.process(self.bus_deja_estacion())\n",
        "          pasajeros+=int((self.env.now-aux)/tiempo_compra())\n",
        "        \n",
        "        yield self.env.timeout(LLEGADA)\n",
        "        cliente = {'id': f'cliente {i}', 'sexo':generar_sexo(), 'edad':f'{generar_edad()}','origen': escoger_lugar(), 'destino':escoger_lugar()}\n",
        "        cliente_origen.append(cliente['origen'])\n",
        "        cliente_destino.append(cliente['destino'])\n",
        "        print(f'Llegada de {cliente} a la agencia TIEMPO={self.env.now}')\n",
        "        res = yield self.env.process(self.comprar_ticket(cliente, num_boletos()))\n",
        "        for j in range(res):\n",
        "          yield self.env.process(self.ingreso_bus(cliente, j+1))\n",
        "\n",
        "        cliente_total[self.nombre] = pasajeros\n",
        "\n",
        "      print(f'TOTAL DE CLIENTES>> {i}')\n",
        "      print(f'TOTAL DE PASAJEROS>> {pasajeros}')"
      ],
      "metadata": {
        "id": "jfHuLkCzLUWO"
      },
      "execution_count": null,
      "outputs": []
    },
    {
      "cell_type": "code",
      "source": [
        "cliente_total = {}\n",
        "cliente_origen= []\n",
        "cliente_destino= []\n",
        "bus_uso = {}\n",
        "\n",
        "env = simpy.Environment()\n",
        "bus1 = AgenciaTurismo(env, 'bus 1')\n",
        "bus2 = AgenciaTurismo(env, 'bus 2')\n",
        "bus3 = AgenciaTurismo(env, 'bus 3')\n",
        "bus4 = AgenciaTurismo(env, 'bus 4')\n",
        "bus5 = AgenciaTurismo(env, 'bus 5')\n",
        "\n",
        "env.run(until = TIEMPO_SIMULACION)"
      ],
      "metadata": {
        "colab": {
          "base_uri": "https://localhost:8080/"
        },
        "id": "_VfrZeHELYm2",
        "outputId": "7d9fedb6-1498-41e0-a937-a3d54848c800"
      },
      "execution_count": null,
      "outputs": [
        {
          "output_type": "stream",
          "name": "stdout",
          "text": [
            "Llegada de {'id': 'cliente 1', 'sexo': 'F', 'edad': '32', 'origen': 'QUITO', 'destino': 'AMBATO'} a la agencia TIEMPO=10\n",
            "Llegada de {'id': 'cliente 1', 'sexo': 'F', 'edad': '34', 'origen': 'QUITO', 'destino': 'PORTOVIEJO'} a la agencia TIEMPO=10\n",
            "Llegada de {'id': 'cliente 1', 'sexo': 'F', 'edad': '39', 'origen': 'GUAYAQUIL', 'destino': 'GUAYAQUIL'} a la agencia TIEMPO=10\n",
            "Llegada de {'id': 'cliente 1', 'sexo': 'M', 'edad': '38', 'origen': 'PORTOVIEJO', 'destino': 'MACHALA'} a la agencia TIEMPO=10\n",
            "Llegada de {'id': 'cliente 1', 'sexo': 'M', 'edad': '35', 'origen': 'MACHALA', 'destino': 'PORTOVIEJO'} a la agencia TIEMPO=10\n",
            "Cliente {'id': 'cliente 1', 'sexo': 'M', 'edad': '38', 'origen': 'PORTOVIEJO', 'destino': 'MACHALA'} compra 5 boletos 17.809546678858986\n",
            "Cliente {'id': 'cliente 1', 'sexo': 'M', 'edad': '35', 'origen': 'MACHALA', 'destino': 'PORTOVIEJO'} compra 4 boletos 18.622130314044433\n",
            "Pasajero con el ticket 1 comprado por {'id': 'cliente 1', 'sexo': 'M', 'edad': '38', 'origen': 'PORTOVIEJO', 'destino': 'MACHALA'} sube al transporte bus 4 TIEMPO=18.809546678858986\n",
            "Pasajero con el ticket 1 comprado por {'id': 'cliente 1', 'sexo': 'M', 'edad': '35', 'origen': 'MACHALA', 'destino': 'PORTOVIEJO'} sube al transporte bus 5 TIEMPO=19.622130314044433\n",
            "Pasajero con el ticket 2 comprado por {'id': 'cliente 1', 'sexo': 'M', 'edad': '38', 'origen': 'PORTOVIEJO', 'destino': 'MACHALA'} sube al transporte bus 4 TIEMPO=19.809546678858986\n",
            "Cliente {'id': 'cliente 1', 'sexo': 'F', 'edad': '39', 'origen': 'GUAYAQUIL', 'destino': 'GUAYAQUIL'} compra 3 boletos 20.053615220552814\n",
            "Cliente {'id': 'cliente 1', 'sexo': 'F', 'edad': '34', 'origen': 'QUITO', 'destino': 'PORTOVIEJO'} compra 1 boletos 20.447746263052974\n",
            "Pasajero con el ticket 2 comprado por {'id': 'cliente 1', 'sexo': 'M', 'edad': '35', 'origen': 'MACHALA', 'destino': 'PORTOVIEJO'} sube al transporte bus 5 TIEMPO=20.622130314044433\n",
            "Cliente {'id': 'cliente 1', 'sexo': 'F', 'edad': '32', 'origen': 'QUITO', 'destino': 'AMBATO'} compra 4 boletos 20.714023032113552\n",
            "Pasajero con el ticket 3 comprado por {'id': 'cliente 1', 'sexo': 'M', 'edad': '38', 'origen': 'PORTOVIEJO', 'destino': 'MACHALA'} sube al transporte bus 4 TIEMPO=20.809546678858986\n",
            "Pasajero con el ticket 1 comprado por {'id': 'cliente 1', 'sexo': 'F', 'edad': '39', 'origen': 'GUAYAQUIL', 'destino': 'GUAYAQUIL'} sube al transporte bus 3 TIEMPO=21.053615220552814\n",
            "Pasajero con el ticket 1 comprado por {'id': 'cliente 1', 'sexo': 'F', 'edad': '34', 'origen': 'QUITO', 'destino': 'PORTOVIEJO'} sube al transporte bus 2 TIEMPO=21.447746263052974\n",
            "Pasajero con el ticket 3 comprado por {'id': 'cliente 1', 'sexo': 'M', 'edad': '35', 'origen': 'MACHALA', 'destino': 'PORTOVIEJO'} sube al transporte bus 5 TIEMPO=21.622130314044433\n",
            "Pasajero con el ticket 1 comprado por {'id': 'cliente 1', 'sexo': 'F', 'edad': '32', 'origen': 'QUITO', 'destino': 'AMBATO'} sube al transporte bus 1 TIEMPO=21.714023032113552\n",
            "Pasajero con el ticket 4 comprado por {'id': 'cliente 1', 'sexo': 'M', 'edad': '38', 'origen': 'PORTOVIEJO', 'destino': 'MACHALA'} sube al transporte bus 4 TIEMPO=21.809546678858986\n",
            "Pasajero con el ticket 2 comprado por {'id': 'cliente 1', 'sexo': 'F', 'edad': '39', 'origen': 'GUAYAQUIL', 'destino': 'GUAYAQUIL'} sube al transporte bus 3 TIEMPO=22.053615220552814\n",
            "Pasajero con el ticket 4 comprado por {'id': 'cliente 1', 'sexo': 'M', 'edad': '35', 'origen': 'MACHALA', 'destino': 'PORTOVIEJO'} sube al transporte bus 5 TIEMPO=22.622130314044433\n",
            "Pasajero con el ticket 2 comprado por {'id': 'cliente 1', 'sexo': 'F', 'edad': '32', 'origen': 'QUITO', 'destino': 'AMBATO'} sube al transporte bus 1 TIEMPO=22.714023032113552\n",
            "Pasajero con el ticket 5 comprado por {'id': 'cliente 1', 'sexo': 'M', 'edad': '38', 'origen': 'PORTOVIEJO', 'destino': 'MACHALA'} sube al transporte bus 4 TIEMPO=22.809546678858986\n",
            "Pasajero con el ticket 3 comprado por {'id': 'cliente 1', 'sexo': 'F', 'edad': '39', 'origen': 'GUAYAQUIL', 'destino': 'GUAYAQUIL'} sube al transporte bus 3 TIEMPO=23.053615220552814\n",
            "Pasajero con el ticket 3 comprado por {'id': 'cliente 1', 'sexo': 'F', 'edad': '32', 'origen': 'QUITO', 'destino': 'AMBATO'} sube al transporte bus 1 TIEMPO=23.714023032113552\n",
            "Pasajero con el ticket 4 comprado por {'id': 'cliente 1', 'sexo': 'F', 'edad': '32', 'origen': 'QUITO', 'destino': 'AMBATO'} sube al transporte bus 1 TIEMPO=24.714023032113552\n",
            "Llegada de {'id': 'cliente 2', 'sexo': 'M', 'edad': '38', 'origen': 'PORTOVIEJO', 'destino': 'AMBATO'} a la agencia TIEMPO=31.447746263052974\n",
            "Llegada de {'id': 'cliente 2', 'sexo': 'M', 'edad': '44', 'origen': 'QUITO', 'destino': 'PORTOVIEJO'} a la agencia TIEMPO=32.62213031404443\n",
            "Llegada de {'id': 'cliente 2', 'sexo': 'M', 'edad': '38', 'origen': 'MACHALA', 'destino': 'CUENCA'} a la agencia TIEMPO=32.809546678858986\n",
            "Llegada de {'id': 'cliente 2', 'sexo': 'F', 'edad': '36', 'origen': 'QUITO', 'destino': 'GUAYAQUIL'} a la agencia TIEMPO=33.053615220552814\n",
            "Llegada de {'id': 'cliente 2', 'sexo': 'F', 'edad': '26', 'origen': 'CUENCA', 'destino': 'QUITO'} a la agencia TIEMPO=34.71402303211355\n",
            "Cliente {'id': 'cliente 2', 'sexo': 'M', 'edad': '38', 'origen': 'PORTOVIEJO', 'destino': 'AMBATO'} compra 1 boletos 41.708762530962964\n",
            "Cliente {'id': 'cliente 2', 'sexo': 'F', 'edad': '36', 'origen': 'QUITO', 'destino': 'GUAYAQUIL'} compra 4 boletos 41.92535947837231\n",
            "Cliente {'id': 'cliente 2', 'sexo': 'M', 'edad': '44', 'origen': 'QUITO', 'destino': 'PORTOVIEJO'} compra 5 boletos 42.537634778033905\n",
            "Pasajero con el ticket 1 comprado por {'id': 'cliente 2', 'sexo': 'M', 'edad': '38', 'origen': 'PORTOVIEJO', 'destino': 'AMBATO'} sube al transporte bus 2 TIEMPO=42.708762530962964\n",
            "Pasajero con el ticket 1 comprado por {'id': 'cliente 2', 'sexo': 'F', 'edad': '36', 'origen': 'QUITO', 'destino': 'GUAYAQUIL'} sube al transporte bus 3 TIEMPO=42.92535947837231\n",
            "Pasajero con el ticket 1 comprado por {'id': 'cliente 2', 'sexo': 'M', 'edad': '44', 'origen': 'QUITO', 'destino': 'PORTOVIEJO'} sube al transporte bus 5 TIEMPO=43.537634778033905\n",
            "Pasajero con el ticket 2 comprado por {'id': 'cliente 2', 'sexo': 'F', 'edad': '36', 'origen': 'QUITO', 'destino': 'GUAYAQUIL'} sube al transporte bus 3 TIEMPO=43.92535947837231\n",
            "Cliente {'id': 'cliente 2', 'sexo': 'M', 'edad': '38', 'origen': 'MACHALA', 'destino': 'CUENCA'} compra 1 boletos 44.381436420785604\n",
            "Cliente {'id': 'cliente 2', 'sexo': 'F', 'edad': '26', 'origen': 'CUENCA', 'destino': 'QUITO'} compra 3 boletos 44.42247501844108\n",
            "Pasajero con el ticket 2 comprado por {'id': 'cliente 2', 'sexo': 'M', 'edad': '44', 'origen': 'QUITO', 'destino': 'PORTOVIEJO'} sube al transporte bus 5 TIEMPO=44.537634778033905\n",
            "Pasajero con el ticket 3 comprado por {'id': 'cliente 2', 'sexo': 'F', 'edad': '36', 'origen': 'QUITO', 'destino': 'GUAYAQUIL'} sube al transporte bus 3 TIEMPO=44.92535947837231\n",
            "Pasajero con el ticket 1 comprado por {'id': 'cliente 2', 'sexo': 'M', 'edad': '38', 'origen': 'MACHALA', 'destino': 'CUENCA'} sube al transporte bus 4 TIEMPO=45.381436420785604\n",
            "Pasajero con el ticket 1 comprado por {'id': 'cliente 2', 'sexo': 'F', 'edad': '26', 'origen': 'CUENCA', 'destino': 'QUITO'} sube al transporte bus 1 TIEMPO=45.42247501844108\n",
            "Pasajero con el ticket 3 comprado por {'id': 'cliente 2', 'sexo': 'M', 'edad': '44', 'origen': 'QUITO', 'destino': 'PORTOVIEJO'} sube al transporte bus 5 TIEMPO=45.537634778033905\n",
            "Pasajero con el ticket 4 comprado por {'id': 'cliente 2', 'sexo': 'F', 'edad': '36', 'origen': 'QUITO', 'destino': 'GUAYAQUIL'} sube al transporte bus 3 TIEMPO=45.92535947837231\n",
            "Pasajero con el ticket 2 comprado por {'id': 'cliente 2', 'sexo': 'F', 'edad': '26', 'origen': 'CUENCA', 'destino': 'QUITO'} sube al transporte bus 1 TIEMPO=46.42247501844108\n",
            "Pasajero con el ticket 4 comprado por {'id': 'cliente 2', 'sexo': 'M', 'edad': '44', 'origen': 'QUITO', 'destino': 'PORTOVIEJO'} sube al transporte bus 5 TIEMPO=46.537634778033905\n",
            "Pasajero con el ticket 3 comprado por {'id': 'cliente 2', 'sexo': 'F', 'edad': '26', 'origen': 'CUENCA', 'destino': 'QUITO'} sube al transporte bus 1 TIEMPO=47.42247501844108\n",
            "Pasajero con el ticket 5 comprado por {'id': 'cliente 2', 'sexo': 'M', 'edad': '44', 'origen': 'QUITO', 'destino': 'PORTOVIEJO'} sube al transporte bus 5 TIEMPO=47.537634778033905\n",
            "Llegada de {'id': 'cliente 3', 'sexo': 'F', 'edad': '34', 'origen': 'GUAYAQUIL', 'destino': 'AMBATO'} a la agencia TIEMPO=52.708762530962964\n",
            "Llegada de {'id': 'cliente 3', 'sexo': 'M', 'edad': '27', 'origen': 'PORTOVIEJO', 'destino': 'GUAYAQUIL'} a la agencia TIEMPO=55.381436420785604\n",
            "Llegada de {'id': 'cliente 3', 'sexo': 'F', 'edad': '32', 'origen': 'MACHALA', 'destino': 'QUITO'} a la agencia TIEMPO=55.92535947837231\n",
            "Llegada de {'id': 'cliente 3', 'sexo': 'M', 'edad': '32', 'origen': 'QUITO', 'destino': 'QUITO'} a la agencia TIEMPO=57.42247501844108\n",
            "Llegada de {'id': 'cliente 3', 'sexo': 'F', 'edad': '46', 'origen': 'AMBATO', 'destino': 'GUAYAQUIL'} a la agencia TIEMPO=57.537634778033905\n",
            "Cliente {'id': 'cliente 3', 'sexo': 'F', 'edad': '34', 'origen': 'GUAYAQUIL', 'destino': 'AMBATO'} compra 4 boletos 60.82553450506157\n",
            "Pasajero con el ticket 1 comprado por {'id': 'cliente 3', 'sexo': 'F', 'edad': '34', 'origen': 'GUAYAQUIL', 'destino': 'AMBATO'} sube al transporte bus 2 TIEMPO=61.82553450506157\n",
            "Pasajero con el ticket 2 comprado por {'id': 'cliente 3', 'sexo': 'F', 'edad': '34', 'origen': 'GUAYAQUIL', 'destino': 'AMBATO'} sube al transporte bus 2 TIEMPO=62.82553450506157\n",
            "Pasajero con el ticket 3 comprado por {'id': 'cliente 3', 'sexo': 'F', 'edad': '34', 'origen': 'GUAYAQUIL', 'destino': 'AMBATO'} sube al transporte bus 2 TIEMPO=63.82553450506157\n",
            "Pasajero con el ticket 4 comprado por {'id': 'cliente 3', 'sexo': 'F', 'edad': '34', 'origen': 'GUAYAQUIL', 'destino': 'AMBATO'} sube al transporte bus 2 TIEMPO=64.82553450506157\n",
            "Cliente {'id': 'cliente 3', 'sexo': 'F', 'edad': '46', 'origen': 'AMBATO', 'destino': 'GUAYAQUIL'} compra 1 boletos 64.93068629134189\n",
            "Pasajero con el ticket 1 comprado por {'id': 'cliente 3', 'sexo': 'F', 'edad': '46', 'origen': 'AMBATO', 'destino': 'GUAYAQUIL'} sube al transporte bus 5 TIEMPO=65.93068629134189\n",
            "Cliente {'id': 'cliente 3', 'sexo': 'M', 'edad': '32', 'origen': 'QUITO', 'destino': 'QUITO'} compra 6 boletos 68.07665119240845\n",
            "Cliente {'id': 'cliente 3', 'sexo': 'F', 'edad': '32', 'origen': 'MACHALA', 'destino': 'QUITO'} compra 4 boletos 68.18301345936764\n",
            "Pasajero con el ticket 1 comprado por {'id': 'cliente 3', 'sexo': 'M', 'edad': '32', 'origen': 'QUITO', 'destino': 'QUITO'} sube al transporte bus 1 TIEMPO=69.07665119240845\n",
            "Pasajero con el ticket 1 comprado por {'id': 'cliente 3', 'sexo': 'F', 'edad': '32', 'origen': 'MACHALA', 'destino': 'QUITO'} sube al transporte bus 3 TIEMPO=69.18301345936764\n",
            "Cliente {'id': 'cliente 3', 'sexo': 'M', 'edad': '27', 'origen': 'PORTOVIEJO', 'destino': 'GUAYAQUIL'} compra 6 boletos 69.98152530241111\n",
            "Pasajero con el ticket 2 comprado por {'id': 'cliente 3', 'sexo': 'M', 'edad': '32', 'origen': 'QUITO', 'destino': 'QUITO'} sube al transporte bus 1 TIEMPO=70.07665119240845\n",
            "Pasajero con el ticket 2 comprado por {'id': 'cliente 3', 'sexo': 'F', 'edad': '32', 'origen': 'MACHALA', 'destino': 'QUITO'} sube al transporte bus 3 TIEMPO=70.18301345936764\n",
            "Pasajero con el ticket 1 comprado por {'id': 'cliente 3', 'sexo': 'M', 'edad': '27', 'origen': 'PORTOVIEJO', 'destino': 'GUAYAQUIL'} sube al transporte bus 4 TIEMPO=70.98152530241111\n",
            "Pasajero con el ticket 3 comprado por {'id': 'cliente 3', 'sexo': 'M', 'edad': '32', 'origen': 'QUITO', 'destino': 'QUITO'} sube al transporte bus 1 TIEMPO=71.07665119240845\n",
            "Pasajero con el ticket 3 comprado por {'id': 'cliente 3', 'sexo': 'F', 'edad': '32', 'origen': 'MACHALA', 'destino': 'QUITO'} sube al transporte bus 3 TIEMPO=71.18301345936764\n",
            "Pasajero con el ticket 2 comprado por {'id': 'cliente 3', 'sexo': 'M', 'edad': '27', 'origen': 'PORTOVIEJO', 'destino': 'GUAYAQUIL'} sube al transporte bus 4 TIEMPO=71.98152530241111\n",
            "Pasajero con el ticket 4 comprado por {'id': 'cliente 3', 'sexo': 'M', 'edad': '32', 'origen': 'QUITO', 'destino': 'QUITO'} sube al transporte bus 1 TIEMPO=72.07665119240845\n",
            "Pasajero con el ticket 4 comprado por {'id': 'cliente 3', 'sexo': 'F', 'edad': '32', 'origen': 'MACHALA', 'destino': 'QUITO'} sube al transporte bus 3 TIEMPO=72.18301345936764\n",
            "Pasajero con el ticket 3 comprado por {'id': 'cliente 3', 'sexo': 'M', 'edad': '27', 'origen': 'PORTOVIEJO', 'destino': 'GUAYAQUIL'} sube al transporte bus 4 TIEMPO=72.98152530241111\n",
            "Pasajero con el ticket 5 comprado por {'id': 'cliente 3', 'sexo': 'M', 'edad': '32', 'origen': 'QUITO', 'destino': 'QUITO'} sube al transporte bus 1 TIEMPO=73.07665119240845\n",
            "Pasajero con el ticket 4 comprado por {'id': 'cliente 3', 'sexo': 'M', 'edad': '27', 'origen': 'PORTOVIEJO', 'destino': 'GUAYAQUIL'} sube al transporte bus 4 TIEMPO=73.98152530241111\n",
            "Pasajero con el ticket 6 comprado por {'id': 'cliente 3', 'sexo': 'M', 'edad': '32', 'origen': 'QUITO', 'destino': 'QUITO'} sube al transporte bus 1 TIEMPO=74.07665119240845\n",
            "Pasajero con el ticket 5 comprado por {'id': 'cliente 3', 'sexo': 'M', 'edad': '27', 'origen': 'PORTOVIEJO', 'destino': 'GUAYAQUIL'} sube al transporte bus 4 TIEMPO=74.98152530241111\n",
            "Pasajero con el ticket 6 comprado por {'id': 'cliente 3', 'sexo': 'M', 'edad': '27', 'origen': 'PORTOVIEJO', 'destino': 'GUAYAQUIL'} sube al transporte bus 4 TIEMPO=75.98152530241111\n",
            "Transporte bus 3 deja la estacion en 178.4671640479167 con 11 pasajeros\n",
            "Transporte bus 3 llega nuevamente a la estacion en el tiempo 284.75131463646574\n",
            "Transporte bus 2 deja la estacion en 286.1075181740432 con 6 pasajeros\n",
            "Llegada de {'id': 'cliente 4', 'sexo': 'M', 'edad': '41', 'origen': 'PORTOVIEJO', 'destino': 'GUAYAQUIL'} a la agencia TIEMPO=294.75131463646574\n",
            "Cliente {'id': 'cliente 4', 'sexo': 'M', 'edad': '41', 'origen': 'PORTOVIEJO', 'destino': 'GUAYAQUIL'} compra 5 boletos 303.2226698345617\n",
            "Pasajero con el ticket 1 comprado por {'id': 'cliente 4', 'sexo': 'M', 'edad': '41', 'origen': 'PORTOVIEJO', 'destino': 'GUAYAQUIL'} sube al transporte bus 3 TIEMPO=304.2226698345617\n",
            "Pasajero con el ticket 2 comprado por {'id': 'cliente 4', 'sexo': 'M', 'edad': '41', 'origen': 'PORTOVIEJO', 'destino': 'GUAYAQUIL'} sube al transporte bus 3 TIEMPO=305.2226698345617\n",
            "Pasajero con el ticket 3 comprado por {'id': 'cliente 4', 'sexo': 'M', 'edad': '41', 'origen': 'PORTOVIEJO', 'destino': 'GUAYAQUIL'} sube al transporte bus 3 TIEMPO=306.2226698345617\n",
            "Pasajero con el ticket 4 comprado por {'id': 'cliente 4', 'sexo': 'M', 'edad': '41', 'origen': 'PORTOVIEJO', 'destino': 'GUAYAQUIL'} sube al transporte bus 3 TIEMPO=307.2226698345617\n",
            "Pasajero con el ticket 5 comprado por {'id': 'cliente 4', 'sexo': 'M', 'edad': '41', 'origen': 'PORTOVIEJO', 'destino': 'GUAYAQUIL'} sube al transporte bus 3 TIEMPO=308.2226698345617\n",
            "Transporte bus 4 deja la estacion en 391.88538028972783 con 12 pasajeros\n",
            "Transporte bus 5 deja la estacion en 481.1130623669354 con 10 pasajeros\n",
            "Transporte bus 3 deja la estacion en 494.2539977806474 con 5 pasajeros\n",
            "Transporte bus 2 llega nuevamente a la estacion en el tiempo 507.38950184302485\n",
            "Llegada de {'id': 'cliente 4', 'sexo': 'F', 'edad': '34', 'origen': 'GUAYAQUIL', 'destino': 'CUENCA'} a la agencia TIEMPO=517.3895018430248\n",
            "Cliente {'id': 'cliente 4', 'sexo': 'F', 'edad': '34', 'origen': 'GUAYAQUIL', 'destino': 'CUENCA'} compra 4 boletos 527.4281675220652\n",
            "Pasajero con el ticket 1 comprado por {'id': 'cliente 4', 'sexo': 'F', 'edad': '34', 'origen': 'GUAYAQUIL', 'destino': 'CUENCA'} sube al transporte bus 2 TIEMPO=528.4281675220652\n",
            "Pasajero con el ticket 2 comprado por {'id': 'cliente 4', 'sexo': 'F', 'edad': '34', 'origen': 'GUAYAQUIL', 'destino': 'CUENCA'} sube al transporte bus 2 TIEMPO=529.4281675220652\n",
            "Pasajero con el ticket 3 comprado por {'id': 'cliente 4', 'sexo': 'F', 'edad': '34', 'origen': 'GUAYAQUIL', 'destino': 'CUENCA'} sube al transporte bus 2 TIEMPO=530.4281675220652\n",
            "Pasajero con el ticket 4 comprado por {'id': 'cliente 4', 'sexo': 'F', 'edad': '34', 'origen': 'GUAYAQUIL', 'destino': 'CUENCA'} sube al transporte bus 2 TIEMPO=531.4281675220652\n",
            "Transporte bus 1 deja la estacion en 623.983251152296 con 13 pasajeros\n",
            "Transporte bus 3 llega nuevamente a la estacion en el tiempo 680.2853257267332\n",
            "Llegada de {'id': 'cliente 5', 'sexo': 'M', 'edad': '36', 'origen': 'CUENCA', 'destino': 'GUAYAQUIL'} a la agencia TIEMPO=690.2853257267332\n",
            "Cliente {'id': 'cliente 5', 'sexo': 'M', 'edad': '36', 'origen': 'CUENCA', 'destino': 'GUAYAQUIL'} compra 6 boletos 698.3633796156721\n",
            "Pasajero con el ticket 1 comprado por {'id': 'cliente 5', 'sexo': 'M', 'edad': '36', 'origen': 'CUENCA', 'destino': 'GUAYAQUIL'} sube al transporte bus 3 TIEMPO=699.3633796156721\n",
            "Pasajero con el ticket 2 comprado por {'id': 'cliente 5', 'sexo': 'M', 'edad': '36', 'origen': 'CUENCA', 'destino': 'GUAYAQUIL'} sube al transporte bus 3 TIEMPO=700.3633796156721\n",
            "Pasajero con el ticket 3 comprado por {'id': 'cliente 5', 'sexo': 'M', 'edad': '36', 'origen': 'CUENCA', 'destino': 'GUAYAQUIL'} sube al transporte bus 3 TIEMPO=701.3633796156721\n",
            "Pasajero con el ticket 4 comprado por {'id': 'cliente 5', 'sexo': 'M', 'edad': '36', 'origen': 'CUENCA', 'destino': 'GUAYAQUIL'} sube al transporte bus 3 TIEMPO=702.3633796156721\n",
            "Pasajero con el ticket 5 comprado por {'id': 'cliente 5', 'sexo': 'M', 'edad': '36', 'origen': 'CUENCA', 'destino': 'GUAYAQUIL'} sube al transporte bus 3 TIEMPO=703.3633796156721\n",
            "Pasajero con el ticket 6 comprado por {'id': 'cliente 5', 'sexo': 'M', 'edad': '36', 'origen': 'CUENCA', 'destino': 'GUAYAQUIL'} sube al transporte bus 3 TIEMPO=704.3633796156721\n",
            "Transporte bus 4 llega nuevamente a la estacion en el tiempo 707.7892352770446\n",
            "Llegada de {'id': 'cliente 4', 'sexo': 'M', 'edad': '32', 'origen': 'AMBATO', 'destino': 'CUENCA'} a la agencia TIEMPO=717.7892352770446\n",
            "Cliente {'id': 'cliente 4', 'sexo': 'M', 'edad': '32', 'origen': 'AMBATO', 'destino': 'CUENCA'} compra 3 boletos 730.2011767320931\n",
            "Pasajero con el ticket 1 comprado por {'id': 'cliente 4', 'sexo': 'M', 'edad': '32', 'origen': 'AMBATO', 'destino': 'CUENCA'} sube al transporte bus 4 TIEMPO=731.2011767320931\n",
            "Pasajero con el ticket 2 comprado por {'id': 'cliente 4', 'sexo': 'M', 'edad': '32', 'origen': 'AMBATO', 'destino': 'CUENCA'} sube al transporte bus 4 TIEMPO=732.2011767320931\n",
            "Pasajero con el ticket 3 comprado por {'id': 'cliente 4', 'sexo': 'M', 'edad': '32', 'origen': 'AMBATO', 'destino': 'CUENCA'} sube al transporte bus 4 TIEMPO=733.2011767320931\n",
            "Transporte bus 5 llega nuevamente a la estacion en el tiempo 896.295438442529\n",
            "Llegada de {'id': 'cliente 4', 'sexo': 'F', 'edad': '33', 'origen': 'CUENCA', 'destino': 'CUENCA'} a la agencia TIEMPO=906.295438442529\n",
            "Cliente {'id': 'cliente 4', 'sexo': 'F', 'edad': '33', 'origen': 'CUENCA', 'destino': 'CUENCA'} compra 5 boletos 913.9292344847617\n",
            "Pasajero con el ticket 1 comprado por {'id': 'cliente 4', 'sexo': 'F', 'edad': '33', 'origen': 'CUENCA', 'destino': 'CUENCA'} sube al transporte bus 5 TIEMPO=914.9292344847617\n",
            "Pasajero con el ticket 2 comprado por {'id': 'cliente 4', 'sexo': 'F', 'edad': '33', 'origen': 'CUENCA', 'destino': 'CUENCA'} sube al transporte bus 5 TIEMPO=915.9292344847617\n",
            "Pasajero con el ticket 3 comprado por {'id': 'cliente 4', 'sexo': 'F', 'edad': '33', 'origen': 'CUENCA', 'destino': 'CUENCA'} sube al transporte bus 5 TIEMPO=916.9292344847617\n",
            "Pasajero con el ticket 4 comprado por {'id': 'cliente 4', 'sexo': 'F', 'edad': '33', 'origen': 'CUENCA', 'destino': 'CUENCA'} sube al transporte bus 5 TIEMPO=917.9292344847617\n",
            "Pasajero con el ticket 5 comprado por {'id': 'cliente 4', 'sexo': 'F', 'edad': '33', 'origen': 'CUENCA', 'destino': 'CUENCA'} sube al transporte bus 5 TIEMPO=918.9292344847617\n",
            "Transporte bus 4 deja la estacion en 1054.8062689712356 con 3 pasajeros\n",
            "Transporte bus 2 deja la estacion en 1099.5107322287733 con 4 pasajeros\n",
            "Transporte bus 5 deja la estacion en 1101.6093645230953 con 5 pasajeros\n",
            "Transporte bus 1 llega nuevamente a la estacion en el tiempo 1173.8898511121836\n",
            "Llegada de {'id': 'cliente 4', 'sexo': 'M', 'edad': '32', 'origen': 'MACHALA', 'destino': 'PORTOVIEJO'} a la agencia TIEMPO=1183.8898511121836\n",
            "Cliente {'id': 'cliente 4', 'sexo': 'M', 'edad': '32', 'origen': 'MACHALA', 'destino': 'PORTOVIEJO'} compra 3 boletos 1194.3778553640545\n",
            "Pasajero con el ticket 1 comprado por {'id': 'cliente 4', 'sexo': 'M', 'edad': '32', 'origen': 'MACHALA', 'destino': 'PORTOVIEJO'} sube al transporte bus 1 TIEMPO=1195.3778553640545\n",
            "Pasajero con el ticket 2 comprado por {'id': 'cliente 4', 'sexo': 'M', 'edad': '32', 'origen': 'MACHALA', 'destino': 'PORTOVIEJO'} sube al transporte bus 1 TIEMPO=1196.3778553640545\n",
            "Pasajero con el ticket 3 comprado por {'id': 'cliente 4', 'sexo': 'M', 'edad': '32', 'origen': 'MACHALA', 'destino': 'PORTOVIEJO'} sube al transporte bus 1 TIEMPO=1197.3778553640545\n",
            "Transporte bus 5 llega nuevamente a la estacion en el tiempo 1284.289494561429\n",
            "Llegada de {'id': 'cliente 5', 'sexo': 'M', 'edad': '32', 'origen': 'GUAYAQUIL', 'destino': 'GUAYAQUIL'} a la agencia TIEMPO=1294.289494561429\n",
            "Cliente {'id': 'cliente 5', 'sexo': 'M', 'edad': '32', 'origen': 'GUAYAQUIL', 'destino': 'GUAYAQUIL'} compra 5 boletos 1306.4035139526331\n",
            "Pasajero con el ticket 1 comprado por {'id': 'cliente 5', 'sexo': 'M', 'edad': '32', 'origen': 'GUAYAQUIL', 'destino': 'GUAYAQUIL'} sube al transporte bus 5 TIEMPO=1307.4035139526331\n",
            "Pasajero con el ticket 2 comprado por {'id': 'cliente 5', 'sexo': 'M', 'edad': '32', 'origen': 'GUAYAQUIL', 'destino': 'GUAYAQUIL'} sube al transporte bus 5 TIEMPO=1308.4035139526331\n",
            "Pasajero con el ticket 3 comprado por {'id': 'cliente 5', 'sexo': 'M', 'edad': '32', 'origen': 'GUAYAQUIL', 'destino': 'GUAYAQUIL'} sube al transporte bus 5 TIEMPO=1309.4035139526331\n",
            "Pasajero con el ticket 4 comprado por {'id': 'cliente 5', 'sexo': 'M', 'edad': '32', 'origen': 'GUAYAQUIL', 'destino': 'GUAYAQUIL'} sube al transporte bus 5 TIEMPO=1310.4035139526331\n",
            "Pasajero con el ticket 5 comprado por {'id': 'cliente 5', 'sexo': 'M', 'edad': '32', 'origen': 'GUAYAQUIL', 'destino': 'GUAYAQUIL'} sube al transporte bus 5 TIEMPO=1311.4035139526331\n",
            "Transporte bus 4 llega nuevamente a la estacion en el tiempo 1376.4113612103781\n",
            "Llegada de {'id': 'cliente 5', 'sexo': 'M', 'edad': '41', 'origen': 'GUAYAQUIL', 'destino': 'GUAYAQUIL'} a la agencia TIEMPO=1386.4113612103781\n",
            "Cliente {'id': 'cliente 5', 'sexo': 'M', 'edad': '41', 'origen': 'GUAYAQUIL', 'destino': 'GUAYAQUIL'} compra 2 boletos 1399.3649768081466\n",
            "Pasajero con el ticket 1 comprado por {'id': 'cliente 5', 'sexo': 'M', 'edad': '41', 'origen': 'GUAYAQUIL', 'destino': 'GUAYAQUIL'} sube al transporte bus 4 TIEMPO=1400.3649768081466\n",
            "Pasajero con el ticket 2 comprado por {'id': 'cliente 5', 'sexo': 'M', 'edad': '41', 'origen': 'GUAYAQUIL', 'destino': 'GUAYAQUIL'} sube al transporte bus 4 TIEMPO=1401.3649768081466\n",
            "Transporte bus 5 deja la estacion en 1452.9296792671967 con 5 pasajeros\n",
            "Transporte bus 5 llega nuevamente a la estacion en el tiempo 1594.4558445817602\n",
            "Llegada de {'id': 'cliente 6', 'sexo': 'F', 'edad': '25', 'origen': 'MACHALA', 'destino': 'CUENCA'} a la agencia TIEMPO=1604.4558445817602\n",
            "Cliente {'id': 'cliente 6', 'sexo': 'F', 'edad': '25', 'origen': 'MACHALA', 'destino': 'CUENCA'} compra 2 boletos 1610.6999381057947\n",
            "Pasajero con el ticket 1 comprado por {'id': 'cliente 6', 'sexo': 'F', 'edad': '25', 'origen': 'MACHALA', 'destino': 'CUENCA'} sube al transporte bus 5 TIEMPO=1611.6999381057947\n",
            "Pasajero con el ticket 2 comprado por {'id': 'cliente 6', 'sexo': 'F', 'edad': '25', 'origen': 'MACHALA', 'destino': 'CUENCA'} sube al transporte bus 5 TIEMPO=1612.6999381057947\n",
            "Transporte bus 3 deja la estacion en 1635.7618303014328 con 6 pasajeros\n",
            "Transporte bus 2 llega nuevamente a la estacion en el tiempo 1667.5932969354815\n",
            "Llegada de {'id': 'cliente 5', 'sexo': 'F', 'edad': '30', 'origen': 'MACHALA', 'destino': 'QUITO'} a la agencia TIEMPO=1677.5932969354815\n",
            "Cliente {'id': 'cliente 5', 'sexo': 'F', 'edad': '30', 'origen': 'MACHALA', 'destino': 'QUITO'} compra 6 boletos 1684.9428000858286\n",
            "Pasajero con el ticket 1 comprado por {'id': 'cliente 5', 'sexo': 'F', 'edad': '30', 'origen': 'MACHALA', 'destino': 'QUITO'} sube al transporte bus 2 TIEMPO=1685.9428000858286\n",
            "Pasajero con el ticket 2 comprado por {'id': 'cliente 5', 'sexo': 'F', 'edad': '30', 'origen': 'MACHALA', 'destino': 'QUITO'} sube al transporte bus 2 TIEMPO=1686.9428000858286\n",
            "Pasajero con el ticket 3 comprado por {'id': 'cliente 5', 'sexo': 'F', 'edad': '30', 'origen': 'MACHALA', 'destino': 'QUITO'} sube al transporte bus 2 TIEMPO=1687.9428000858286\n",
            "Pasajero con el ticket 4 comprado por {'id': 'cliente 5', 'sexo': 'F', 'edad': '30', 'origen': 'MACHALA', 'destino': 'QUITO'} sube al transporte bus 2 TIEMPO=1688.9428000858286\n",
            "Pasajero con el ticket 5 comprado por {'id': 'cliente 5', 'sexo': 'F', 'edad': '30', 'origen': 'MACHALA', 'destino': 'QUITO'} sube al transporte bus 2 TIEMPO=1689.9428000858286\n",
            "Pasajero con el ticket 6 comprado por {'id': 'cliente 5', 'sexo': 'F', 'edad': '30', 'origen': 'MACHALA', 'destino': 'QUITO'} sube al transporte bus 2 TIEMPO=1690.9428000858286\n",
            "Transporte bus 1 deja la estacion en 1942.2511523950543 con 3 pasajeros\n",
            "Transporte bus 5 deja la estacion en 2058.934697985824 con 2 pasajeros\n",
            "Transporte bus 2 deja la estacion en 2304.7163269005705 con 6 pasajeros\n",
            "Transporte bus 4 deja la estacion en 2382.113358442972 con 2 pasajeros\n",
            "Transporte bus 5 llega nuevamente a la estacion en el tiempo 2505.1694578658535\n",
            "Llegada de {'id': 'cliente 7', 'sexo': 'M', 'edad': '30', 'origen': 'QUITO', 'destino': 'CUENCA'} a la agencia TIEMPO=2515.1694578658535\n",
            "Cliente {'id': 'cliente 7', 'sexo': 'M', 'edad': '30', 'origen': 'QUITO', 'destino': 'CUENCA'} compra 2 boletos 2522.860712551451\n",
            "Pasajero con el ticket 1 comprado por {'id': 'cliente 7', 'sexo': 'M', 'edad': '30', 'origen': 'QUITO', 'destino': 'CUENCA'} sube al transporte bus 5 TIEMPO=2523.860712551451\n",
            "Pasajero con el ticket 2 comprado por {'id': 'cliente 7', 'sexo': 'M', 'edad': '30', 'origen': 'QUITO', 'destino': 'CUENCA'} sube al transporte bus 5 TIEMPO=2524.860712551451\n",
            "Transporte bus 3 llega nuevamente a la estacion en el tiempo 2567.160280987194\n",
            "Llegada de {'id': 'cliente 6', 'sexo': 'M', 'edad': '40', 'origen': 'PORTOVIEJO', 'destino': 'CUENCA'} a la agencia TIEMPO=2577.160280987194\n",
            "Cliente {'id': 'cliente 6', 'sexo': 'M', 'edad': '40', 'origen': 'PORTOVIEJO', 'destino': 'CUENCA'} compra 6 boletos 2587.668279462728\n",
            "Pasajero con el ticket 1 comprado por {'id': 'cliente 6', 'sexo': 'M', 'edad': '40', 'origen': 'PORTOVIEJO', 'destino': 'CUENCA'} sube al transporte bus 3 TIEMPO=2588.668279462728\n",
            "Pasajero con el ticket 2 comprado por {'id': 'cliente 6', 'sexo': 'M', 'edad': '40', 'origen': 'PORTOVIEJO', 'destino': 'CUENCA'} sube al transporte bus 3 TIEMPO=2589.668279462728\n",
            "Pasajero con el ticket 3 comprado por {'id': 'cliente 6', 'sexo': 'M', 'edad': '40', 'origen': 'PORTOVIEJO', 'destino': 'CUENCA'} sube al transporte bus 3 TIEMPO=2590.668279462728\n",
            "Pasajero con el ticket 4 comprado por {'id': 'cliente 6', 'sexo': 'M', 'edad': '40', 'origen': 'PORTOVIEJO', 'destino': 'CUENCA'} sube al transporte bus 3 TIEMPO=2591.668279462728\n",
            "Pasajero con el ticket 5 comprado por {'id': 'cliente 6', 'sexo': 'M', 'edad': '40', 'origen': 'PORTOVIEJO', 'destino': 'CUENCA'} sube al transporte bus 3 TIEMPO=2592.668279462728\n",
            "Pasajero con el ticket 6 comprado por {'id': 'cliente 6', 'sexo': 'M', 'edad': '40', 'origen': 'PORTOVIEJO', 'destino': 'CUENCA'} sube al transporte bus 3 TIEMPO=2593.668279462728\n",
            "Transporte bus 5 deja la estacion en 2617.9482347242065 con 2 pasajeros\n",
            "Transporte bus 1 llega nuevamente a la estacion en el tiempo 2687.124449426054\n",
            "Llegada de {'id': 'cliente 5', 'sexo': 'M', 'edad': '27', 'origen': 'PORTOVIEJO', 'destino': 'QUITO'} a la agencia TIEMPO=2697.124449426054\n",
            "Cliente {'id': 'cliente 5', 'sexo': 'M', 'edad': '27', 'origen': 'PORTOVIEJO', 'destino': 'QUITO'} compra 4 boletos 2704.984964931022\n",
            "Pasajero con el ticket 1 comprado por {'id': 'cliente 5', 'sexo': 'M', 'edad': '27', 'origen': 'PORTOVIEJO', 'destino': 'QUITO'} sube al transporte bus 1 TIEMPO=2705.984964931022\n",
            "Pasajero con el ticket 2 comprado por {'id': 'cliente 5', 'sexo': 'M', 'edad': '27', 'origen': 'PORTOVIEJO', 'destino': 'QUITO'} sube al transporte bus 1 TIEMPO=2706.984964931022\n",
            "Pasajero con el ticket 3 comprado por {'id': 'cliente 5', 'sexo': 'M', 'edad': '27', 'origen': 'PORTOVIEJO', 'destino': 'QUITO'} sube al transporte bus 1 TIEMPO=2707.984964931022\n",
            "Pasajero con el ticket 4 comprado por {'id': 'cliente 5', 'sexo': 'M', 'edad': '27', 'origen': 'PORTOVIEJO', 'destino': 'QUITO'} sube al transporte bus 1 TIEMPO=2708.984964931022\n",
            "Transporte bus 5 llega nuevamente a la estacion en el tiempo 2711.035756896962\n",
            "Llegada de {'id': 'cliente 8', 'sexo': 'F', 'edad': '30', 'origen': 'GUAYAQUIL', 'destino': 'GUAYAQUIL'} a la agencia TIEMPO=2721.035756896962\n",
            "Cliente {'id': 'cliente 8', 'sexo': 'F', 'edad': '30', 'origen': 'GUAYAQUIL', 'destino': 'GUAYAQUIL'} compra 2 boletos 2729.446056560684\n",
            "Pasajero con el ticket 1 comprado por {'id': 'cliente 8', 'sexo': 'F', 'edad': '30', 'origen': 'GUAYAQUIL', 'destino': 'GUAYAQUIL'} sube al transporte bus 5 TIEMPO=2730.446056560684\n",
            "Pasajero con el ticket 2 comprado por {'id': 'cliente 8', 'sexo': 'F', 'edad': '30', 'origen': 'GUAYAQUIL', 'destino': 'GUAYAQUIL'} sube al transporte bus 5 TIEMPO=2731.446056560684\n",
            "Transporte bus 3 deja la estacion en 2775.6183923422745 con 6 pasajeros\n",
            "Transporte bus 2 llega nuevamente a la estacion en el tiempo 2918.489853715312\n",
            "Llegada de {'id': 'cliente 6', 'sexo': 'F', 'edad': '41', 'origen': 'PORTOVIEJO', 'destino': 'GUAYAQUIL'} a la agencia TIEMPO=2928.489853715312\n",
            "Cliente {'id': 'cliente 6', 'sexo': 'F', 'edad': '41', 'origen': 'PORTOVIEJO', 'destino': 'GUAYAQUIL'} compra 5 boletos 2937.661460643401\n",
            "Pasajero con el ticket 1 comprado por {'id': 'cliente 6', 'sexo': 'F', 'edad': '41', 'origen': 'PORTOVIEJO', 'destino': 'GUAYAQUIL'} sube al transporte bus 2 TIEMPO=2938.661460643401\n",
            "Pasajero con el ticket 2 comprado por {'id': 'cliente 6', 'sexo': 'F', 'edad': '41', 'origen': 'PORTOVIEJO', 'destino': 'GUAYAQUIL'} sube al transporte bus 2 TIEMPO=2939.661460643401\n",
            "Pasajero con el ticket 3 comprado por {'id': 'cliente 6', 'sexo': 'F', 'edad': '41', 'origen': 'PORTOVIEJO', 'destino': 'GUAYAQUIL'} sube al transporte bus 2 TIEMPO=2940.661460643401\n",
            "Pasajero con el ticket 4 comprado por {'id': 'cliente 6', 'sexo': 'F', 'edad': '41', 'origen': 'PORTOVIEJO', 'destino': 'GUAYAQUIL'} sube al transporte bus 2 TIEMPO=2941.661460643401\n",
            "Transporte bus 5 deja la estacion en 2941.714574134411 con 2 pasajeros\n",
            "Pasajero con el ticket 5 comprado por {'id': 'cliente 6', 'sexo': 'F', 'edad': '41', 'origen': 'PORTOVIEJO', 'destino': 'GUAYAQUIL'} sube al transporte bus 2 TIEMPO=2942.661460643401\n",
            "Transporte bus 3 llega nuevamente a la estacion en el tiempo 2957.568505221821\n",
            "Llegada de {'id': 'cliente 7', 'sexo': 'F', 'edad': '43', 'origen': 'PORTOVIEJO', 'destino': 'PORTOVIEJO'} a la agencia TIEMPO=2967.568505221821\n",
            "Cliente {'id': 'cliente 7', 'sexo': 'F', 'edad': '43', 'origen': 'PORTOVIEJO', 'destino': 'PORTOVIEJO'} compra 3 boletos 2975.0958490310413\n",
            "Pasajero con el ticket 1 comprado por {'id': 'cliente 7', 'sexo': 'F', 'edad': '43', 'origen': 'PORTOVIEJO', 'destino': 'PORTOVIEJO'} sube al transporte bus 3 TIEMPO=2976.0958490310413\n",
            "Pasajero con el ticket 2 comprado por {'id': 'cliente 7', 'sexo': 'F', 'edad': '43', 'origen': 'PORTOVIEJO', 'destino': 'PORTOVIEJO'} sube al transporte bus 3 TIEMPO=2977.0958490310413\n",
            "Pasajero con el ticket 3 comprado por {'id': 'cliente 7', 'sexo': 'F', 'edad': '43', 'origen': 'PORTOVIEJO', 'destino': 'PORTOVIEJO'} sube al transporte bus 3 TIEMPO=2978.0958490310413\n",
            "Transporte bus 1 deja la estacion en 3017.7465645513303 con 4 pasajeros\n",
            "Transporte bus 2 deja la estacion en 3044.5974710818855 con 5 pasajeros\n",
            "Transporte bus 2 llega nuevamente a la estacion en el tiempo 3146.5334815203696\n",
            "Transporte bus 5 llega nuevamente a la estacion en el tiempo 3151.983091708138\n",
            "Llegada de {'id': 'cliente 7', 'sexo': 'M', 'edad': '46', 'origen': 'CUENCA', 'destino': 'QUITO'} a la agencia TIEMPO=3156.5334815203696\n",
            "Llegada de {'id': 'cliente 9', 'sexo': 'F', 'edad': '25', 'origen': 'GUAYAQUIL', 'destino': 'CUENCA'} a la agencia TIEMPO=3161.983091708138\n",
            "Cliente {'id': 'cliente 7', 'sexo': 'M', 'edad': '46', 'origen': 'CUENCA', 'destino': 'QUITO'} compra 5 boletos 3164.262975364379\n",
            "Pasajero con el ticket 1 comprado por {'id': 'cliente 7', 'sexo': 'M', 'edad': '46', 'origen': 'CUENCA', 'destino': 'QUITO'} sube al transporte bus 2 TIEMPO=3165.262975364379\n",
            "Pasajero con el ticket 2 comprado por {'id': 'cliente 7', 'sexo': 'M', 'edad': '46', 'origen': 'CUENCA', 'destino': 'QUITO'} sube al transporte bus 2 TIEMPO=3166.262975364379\n",
            "Pasajero con el ticket 3 comprado por {'id': 'cliente 7', 'sexo': 'M', 'edad': '46', 'origen': 'CUENCA', 'destino': 'QUITO'} sube al transporte bus 2 TIEMPO=3167.262975364379\n",
            "Pasajero con el ticket 4 comprado por {'id': 'cliente 7', 'sexo': 'M', 'edad': '46', 'origen': 'CUENCA', 'destino': 'QUITO'} sube al transporte bus 2 TIEMPO=3168.262975364379\n",
            "Pasajero con el ticket 5 comprado por {'id': 'cliente 7', 'sexo': 'M', 'edad': '46', 'origen': 'CUENCA', 'destino': 'QUITO'} sube al transporte bus 2 TIEMPO=3169.262975364379\n",
            "Cliente {'id': 'cliente 9', 'sexo': 'F', 'edad': '25', 'origen': 'GUAYAQUIL', 'destino': 'CUENCA'} compra 2 boletos 3174.413112010641\n",
            "Pasajero con el ticket 1 comprado por {'id': 'cliente 9', 'sexo': 'F', 'edad': '25', 'origen': 'GUAYAQUIL', 'destino': 'CUENCA'} sube al transporte bus 5 TIEMPO=3175.413112010641\n",
            "Pasajero con el ticket 2 comprado por {'id': 'cliente 9', 'sexo': 'F', 'edad': '25', 'origen': 'GUAYAQUIL', 'destino': 'CUENCA'} sube al transporte bus 5 TIEMPO=3176.413112010641\n",
            "Transporte bus 1 llega nuevamente a la estacion en el tiempo 3326.5081641716383\n",
            "Llegada de {'id': 'cliente 6', 'sexo': 'F', 'edad': '41', 'origen': 'AMBATO', 'destino': 'GUAYAQUIL'} a la agencia TIEMPO=3336.5081641716383\n",
            "Cliente {'id': 'cliente 6', 'sexo': 'F', 'edad': '41', 'origen': 'AMBATO', 'destino': 'GUAYAQUIL'} compra 4 boletos 3344.808260130927\n",
            "Pasajero con el ticket 1 comprado por {'id': 'cliente 6', 'sexo': 'F', 'edad': '41', 'origen': 'AMBATO', 'destino': 'GUAYAQUIL'} sube al transporte bus 1 TIEMPO=3345.808260130927\n",
            "Pasajero con el ticket 2 comprado por {'id': 'cliente 6', 'sexo': 'F', 'edad': '41', 'origen': 'AMBATO', 'destino': 'GUAYAQUIL'} sube al transporte bus 1 TIEMPO=3346.808260130927\n",
            "Pasajero con el ticket 3 comprado por {'id': 'cliente 6', 'sexo': 'F', 'edad': '41', 'origen': 'AMBATO', 'destino': 'GUAYAQUIL'} sube al transporte bus 1 TIEMPO=3347.808260130927\n",
            "Pasajero con el ticket 4 comprado por {'id': 'cliente 6', 'sexo': 'F', 'edad': '41', 'origen': 'AMBATO', 'destino': 'GUAYAQUIL'} sube al transporte bus 1 TIEMPO=3348.808260130927\n",
            "Transporte bus 4 llega nuevamente a la estacion en el tiempo 3362.8617400777975\n",
            "Llegada de {'id': 'cliente 6', 'sexo': 'M', 'edad': '28', 'origen': 'PORTOVIEJO', 'destino': 'MACHALA'} a la agencia TIEMPO=3372.8617400777975\n",
            "Cliente {'id': 'cliente 6', 'sexo': 'M', 'edad': '28', 'origen': 'PORTOVIEJO', 'destino': 'MACHALA'} compra 6 boletos 3383.9940859971457\n",
            "Pasajero con el ticket 1 comprado por {'id': 'cliente 6', 'sexo': 'M', 'edad': '28', 'origen': 'PORTOVIEJO', 'destino': 'MACHALA'} sube al transporte bus 4 TIEMPO=3384.9940859971457\n",
            "Pasajero con el ticket 2 comprado por {'id': 'cliente 6', 'sexo': 'M', 'edad': '28', 'origen': 'PORTOVIEJO', 'destino': 'MACHALA'} sube al transporte bus 4 TIEMPO=3385.9940859971457\n",
            "Pasajero con el ticket 3 comprado por {'id': 'cliente 6', 'sexo': 'M', 'edad': '28', 'origen': 'PORTOVIEJO', 'destino': 'MACHALA'} sube al transporte bus 4 TIEMPO=3386.9940859971457\n",
            "Pasajero con el ticket 4 comprado por {'id': 'cliente 6', 'sexo': 'M', 'edad': '28', 'origen': 'PORTOVIEJO', 'destino': 'MACHALA'} sube al transporte bus 4 TIEMPO=3387.9940859971457\n",
            "Pasajero con el ticket 5 comprado por {'id': 'cliente 6', 'sexo': 'M', 'edad': '28', 'origen': 'PORTOVIEJO', 'destino': 'MACHALA'} sube al transporte bus 4 TIEMPO=3388.9940859971457\n",
            "Pasajero con el ticket 6 comprado por {'id': 'cliente 6', 'sexo': 'M', 'edad': '28', 'origen': 'PORTOVIEJO', 'destino': 'MACHALA'} sube al transporte bus 4 TIEMPO=3389.9940859971457\n",
            "Transporte bus 1 deja la estacion en 3407.34928680062 con 4 pasajeros\n",
            "Transporte bus 1 llega nuevamente a la estacion en el tiempo 3465.8903134703132\n",
            "Llegada de {'id': 'cliente 7', 'sexo': 'F', 'edad': '39', 'origen': 'CUENCA', 'destino': 'CUENCA'} a la agencia TIEMPO=3475.8903134703132\n",
            "Cliente {'id': 'cliente 7', 'sexo': 'F', 'edad': '39', 'origen': 'CUENCA', 'destino': 'CUENCA'} compra 2 boletos 3485.534813715168\n",
            "Pasajero con el ticket 1 comprado por {'id': 'cliente 7', 'sexo': 'F', 'edad': '39', 'origen': 'CUENCA', 'destino': 'CUENCA'} sube al transporte bus 1 TIEMPO=3486.534813715168\n",
            "Pasajero con el ticket 2 comprado por {'id': 'cliente 7', 'sexo': 'F', 'edad': '39', 'origen': 'CUENCA', 'destino': 'CUENCA'} sube al transporte bus 1 TIEMPO=3487.534813715168\n",
            "Transporte bus 1 deja la estacion en 3506.3540435854848 con 2 pasajeros\n",
            "Transporte bus 1 llega nuevamente a la estacion en el tiempo 3525.1732734558013\n",
            "Llegada de {'id': 'cliente 8', 'sexo': 'F', 'edad': '36', 'origen': 'PORTOVIEJO', 'destino': 'QUITO'} a la agencia TIEMPO=3535.1732734558013\n",
            "Cliente {'id': 'cliente 8', 'sexo': 'F', 'edad': '36', 'origen': 'PORTOVIEJO', 'destino': 'QUITO'} compra 4 boletos 3544.918732167901\n",
            "Pasajero con el ticket 1 comprado por {'id': 'cliente 8', 'sexo': 'F', 'edad': '36', 'origen': 'PORTOVIEJO', 'destino': 'QUITO'} sube al transporte bus 1 TIEMPO=3545.918732167901\n",
            "Pasajero con el ticket 2 comprado por {'id': 'cliente 8', 'sexo': 'F', 'edad': '36', 'origen': 'PORTOVIEJO', 'destino': 'QUITO'} sube al transporte bus 1 TIEMPO=3546.918732167901\n",
            "Pasajero con el ticket 3 comprado por {'id': 'cliente 8', 'sexo': 'F', 'edad': '36', 'origen': 'PORTOVIEJO', 'destino': 'QUITO'} sube al transporte bus 1 TIEMPO=3547.918732167901\n",
            "Pasajero con el ticket 4 comprado por {'id': 'cliente 8', 'sexo': 'F', 'edad': '36', 'origen': 'PORTOVIEJO', 'destino': 'QUITO'} sube al transporte bus 1 TIEMPO=3548.918732167901\n",
            "Transporte bus 3 deja la estacion en 3551.6386737489233 con 3 pasajeros\n",
            "Transporte bus 4 deja la estacion en 3642.7745451773226 con 6 pasajeros\n",
            "Transporte bus 5 deja la estacion en 3728.936996416799 con 2 pasajeros\n",
            "Transporte bus 4 llega nuevamente a la estacion en el tiempo 3895.5550043574995\n",
            "Llegada de {'id': 'cliente 7', 'sexo': 'F', 'edad': '38', 'origen': 'PORTOVIEJO', 'destino': 'PORTOVIEJO'} a la agencia TIEMPO=3905.5550043574995\n",
            "Cliente {'id': 'cliente 7', 'sexo': 'F', 'edad': '38', 'origen': 'PORTOVIEJO', 'destino': 'PORTOVIEJO'} compra 3 boletos 3915.6983070797073\n",
            "Pasajero con el ticket 1 comprado por {'id': 'cliente 7', 'sexo': 'F', 'edad': '38', 'origen': 'PORTOVIEJO', 'destino': 'PORTOVIEJO'} sube al transporte bus 4 TIEMPO=3916.6983070797073\n",
            "Pasajero con el ticket 2 comprado por {'id': 'cliente 7', 'sexo': 'F', 'edad': '38', 'origen': 'PORTOVIEJO', 'destino': 'PORTOVIEJO'} sube al transporte bus 4 TIEMPO=3917.6983070797073\n",
            "Pasajero con el ticket 3 comprado por {'id': 'cliente 7', 'sexo': 'F', 'edad': '38', 'origen': 'PORTOVIEJO', 'destino': 'PORTOVIEJO'} sube al transporte bus 4 TIEMPO=3918.6983070797073\n",
            "Transporte bus 2 deja la estacion en 4068.3321400369955 con 5 pasajeros\n",
            "Transporte bus 3 llega nuevamente a la estacion en el tiempo 4125.181498466805\n",
            "Transporte bus 1 deja la estacion en 4133.377660385086 con 4 pasajeros\n",
            "Llegada de {'id': 'cliente 8', 'sexo': 'F', 'edad': '47', 'origen': 'CUENCA', 'destino': 'GUAYAQUIL'} a la agencia TIEMPO=4135.181498466805\n",
            "Cliente {'id': 'cliente 8', 'sexo': 'F', 'edad': '47', 'origen': 'CUENCA', 'destino': 'GUAYAQUIL'} compra 4 boletos 4144.612064615635\n",
            "Pasajero con el ticket 1 comprado por {'id': 'cliente 8', 'sexo': 'F', 'edad': '47', 'origen': 'CUENCA', 'destino': 'GUAYAQUIL'} sube al transporte bus 3 TIEMPO=4145.612064615635\n",
            "Pasajero con el ticket 2 comprado por {'id': 'cliente 8', 'sexo': 'F', 'edad': '47', 'origen': 'CUENCA', 'destino': 'GUAYAQUIL'} sube al transporte bus 3 TIEMPO=4146.612064615635\n",
            "Pasajero con el ticket 3 comprado por {'id': 'cliente 8', 'sexo': 'F', 'edad': '47', 'origen': 'CUENCA', 'destino': 'GUAYAQUIL'} sube al transporte bus 3 TIEMPO=4147.612064615635\n",
            "Pasajero con el ticket 4 comprado por {'id': 'cliente 8', 'sexo': 'F', 'edad': '47', 'origen': 'CUENCA', 'destino': 'GUAYAQUIL'} sube al transporte bus 3 TIEMPO=4148.612064615635\n",
            "Transporte bus 5 llega nuevamente a la estacion en el tiempo 4281.460880822957\n",
            "Llegada de {'id': 'cliente 10', 'sexo': 'F', 'edad': '45', 'origen': 'CUENCA', 'destino': 'CUENCA'} a la agencia TIEMPO=4291.460880822957\n",
            "Cliente {'id': 'cliente 10', 'sexo': 'F', 'edad': '45', 'origen': 'CUENCA', 'destino': 'CUENCA'} compra 1 boletos 4305.852076502896\n",
            "Pasajero con el ticket 1 comprado por {'id': 'cliente 10', 'sexo': 'F', 'edad': '45', 'origen': 'CUENCA', 'destino': 'CUENCA'} sube al transporte bus 5 TIEMPO=4306.852076502896\n",
            "Transporte bus 3 deja la estacion en 4501.54334131366 con 4 pasajeros\n",
            "Transporte bus 4 deja la estacion en 4678.613781352357 con 3 pasajeros\n",
            "Transporte bus 1 llega nuevamente a la estacion en el tiempo 4717.83658860227\n",
            "Llegada de {'id': 'cliente 9', 'sexo': 'F', 'edad': '44', 'origen': 'CUENCA', 'destino': 'PORTOVIEJO'} a la agencia TIEMPO=4727.83658860227\n",
            "Cliente {'id': 'cliente 9', 'sexo': 'F', 'edad': '44', 'origen': 'CUENCA', 'destino': 'PORTOVIEJO'} compra 1 boletos 4739.655489918153\n",
            "Pasajero con el ticket 1 comprado por {'id': 'cliente 9', 'sexo': 'F', 'edad': '44', 'origen': 'CUENCA', 'destino': 'PORTOVIEJO'} sube al transporte bus 1 TIEMPO=4740.655489918153\n",
            "Transporte bus 3 llega nuevamente a la estacion en el tiempo 4854.4746180116845\n",
            "Transporte bus 5 deja la estacion en 4859.839487683189 con 1 pasajeros\n",
            "Llegada de {'id': 'cliente 9', 'sexo': 'F', 'edad': '36', 'origen': 'MACHALA', 'destino': 'MACHALA'} a la agencia TIEMPO=4864.4746180116845\n",
            "Cliente {'id': 'cliente 9', 'sexo': 'F', 'edad': '36', 'origen': 'MACHALA', 'destino': 'MACHALA'} compra 4 boletos 4874.14912455426\n",
            "Pasajero con el ticket 1 comprado por {'id': 'cliente 9', 'sexo': 'F', 'edad': '36', 'origen': 'MACHALA', 'destino': 'MACHALA'} sube al transporte bus 3 TIEMPO=4875.14912455426\n",
            "Pasajero con el ticket 2 comprado por {'id': 'cliente 9', 'sexo': 'F', 'edad': '36', 'origen': 'MACHALA', 'destino': 'MACHALA'} sube al transporte bus 3 TIEMPO=4876.14912455426\n",
            "Pasajero con el ticket 3 comprado por {'id': 'cliente 9', 'sexo': 'F', 'edad': '36', 'origen': 'MACHALA', 'destino': 'MACHALA'} sube al transporte bus 3 TIEMPO=4877.14912455426\n",
            "Pasajero con el ticket 4 comprado por {'id': 'cliente 9', 'sexo': 'F', 'edad': '36', 'origen': 'MACHALA', 'destino': 'MACHALA'} sube al transporte bus 3 TIEMPO=4878.14912455426\n",
            "Transporte bus 2 llega nuevamente a la estacion en el tiempo 4967.401304709611\n",
            "Llegada de {'id': 'cliente 8', 'sexo': 'F', 'edad': '30', 'origen': 'QUITO', 'destino': 'QUITO'} a la agencia TIEMPO=4977.401304709611\n",
            "Cliente {'id': 'cliente 8', 'sexo': 'F', 'edad': '30', 'origen': 'QUITO', 'destino': 'QUITO'} compra 5 boletos 4988.9320563949395\n",
            "Pasajero con el ticket 1 comprado por {'id': 'cliente 8', 'sexo': 'F', 'edad': '30', 'origen': 'QUITO', 'destino': 'QUITO'} sube al transporte bus 2 TIEMPO=4989.9320563949395\n",
            "Pasajero con el ticket 2 comprado por {'id': 'cliente 8', 'sexo': 'F', 'edad': '30', 'origen': 'QUITO', 'destino': 'QUITO'} sube al transporte bus 2 TIEMPO=4990.9320563949395\n",
            "Pasajero con el ticket 3 comprado por {'id': 'cliente 8', 'sexo': 'F', 'edad': '30', 'origen': 'QUITO', 'destino': 'QUITO'} sube al transporte bus 2 TIEMPO=4991.9320563949395\n",
            "Pasajero con el ticket 4 comprado por {'id': 'cliente 8', 'sexo': 'F', 'edad': '30', 'origen': 'QUITO', 'destino': 'QUITO'} sube al transporte bus 2 TIEMPO=4992.9320563949395\n",
            "Pasajero con el ticket 5 comprado por {'id': 'cliente 8', 'sexo': 'F', 'edad': '30', 'origen': 'QUITO', 'destino': 'QUITO'} sube al transporte bus 2 TIEMPO=4993.9320563949395\n",
            "Transporte bus 1 deja la estacion en 5001.413919664466 con 1 pasajeros\n",
            "Transporte bus 3 deja la estacion en 5057.8977602762725 con 4 pasajeros\n",
            "Transporte bus 3 llega nuevamente a la estacion en el tiempo 5237.646395998285\n",
            "Llegada de {'id': 'cliente 10', 'sexo': 'M', 'edad': '40', 'origen': 'AMBATO', 'destino': 'PORTOVIEJO'} a la agencia TIEMPO=5247.646395998285\n",
            "Cliente {'id': 'cliente 10', 'sexo': 'M', 'edad': '40', 'origen': 'AMBATO', 'destino': 'PORTOVIEJO'} compra 3 boletos 5258.973360420319\n",
            "Pasajero con el ticket 1 comprado por {'id': 'cliente 10', 'sexo': 'M', 'edad': '40', 'origen': 'AMBATO', 'destino': 'PORTOVIEJO'} sube al transporte bus 3 TIEMPO=5259.973360420319\n",
            "Pasajero con el ticket 2 comprado por {'id': 'cliente 10', 'sexo': 'M', 'edad': '40', 'origen': 'AMBATO', 'destino': 'PORTOVIEJO'} sube al transporte bus 3 TIEMPO=5260.973360420319\n",
            "Pasajero con el ticket 3 comprado por {'id': 'cliente 10', 'sexo': 'M', 'edad': '40', 'origen': 'AMBATO', 'destino': 'PORTOVIEJO'} sube al transporte bus 3 TIEMPO=5261.973360420319\n",
            "Transporte bus 1 llega nuevamente a la estacion en el tiempo 5262.17234941078\n",
            "Llegada de {'id': 'cliente 10', 'sexo': 'M', 'edad': '22', 'origen': 'CUENCA', 'destino': 'AMBATO'} a la agencia TIEMPO=5272.17234941078\n",
            "Cliente {'id': 'cliente 10', 'sexo': 'M', 'edad': '22', 'origen': 'CUENCA', 'destino': 'AMBATO'} compra 3 boletos 5279.612456531774\n",
            "Pasajero con el ticket 1 comprado por {'id': 'cliente 10', 'sexo': 'M', 'edad': '22', 'origen': 'CUENCA', 'destino': 'AMBATO'} sube al transporte bus 1 TIEMPO=5280.612456531774\n",
            "Pasajero con el ticket 2 comprado por {'id': 'cliente 10', 'sexo': 'M', 'edad': '22', 'origen': 'CUENCA', 'destino': 'AMBATO'} sube al transporte bus 1 TIEMPO=5281.612456531774\n",
            "Pasajero con el ticket 3 comprado por {'id': 'cliente 10', 'sexo': 'M', 'edad': '22', 'origen': 'CUENCA', 'destino': 'AMBATO'} sube al transporte bus 1 TIEMPO=5282.612456531774\n",
            "Transporte bus 3 deja la estacion en 5312.6672384156145 con 3 pasajeros\n",
            "Transporte bus 3 llega nuevamente a la estacion en el tiempo 5363.36111641091\n",
            "Llegada de {'id': 'cliente 11', 'sexo': 'M', 'edad': '34', 'origen': 'GUAYAQUIL', 'destino': 'GUAYAQUIL'} a la agencia TIEMPO=5373.36111641091\n",
            "Transporte bus 1 deja la estacion en 5374.205531956366 con 3 pasajeros\n",
            "Cliente {'id': 'cliente 11', 'sexo': 'M', 'edad': '34', 'origen': 'GUAYAQUIL', 'destino': 'GUAYAQUIL'} compra 3 boletos 5384.108747539023\n",
            "Pasajero con el ticket 1 comprado por {'id': 'cliente 11', 'sexo': 'M', 'edad': '34', 'origen': 'GUAYAQUIL', 'destino': 'GUAYAQUIL'} sube al transporte bus 3 TIEMPO=5385.108747539023\n",
            "Pasajero con el ticket 2 comprado por {'id': 'cliente 11', 'sexo': 'M', 'edad': '34', 'origen': 'GUAYAQUIL', 'destino': 'GUAYAQUIL'} sube al transporte bus 3 TIEMPO=5386.108747539023\n",
            "Pasajero con el ticket 3 comprado por {'id': 'cliente 11', 'sexo': 'M', 'edad': '34', 'origen': 'GUAYAQUIL', 'destino': 'GUAYAQUIL'} sube al transporte bus 3 TIEMPO=5387.108747539023\n",
            "Transporte bus 5 llega nuevamente a la estacion en el tiempo 5412.826898863482\n",
            "Llegada de {'id': 'cliente 11', 'sexo': 'M', 'edad': '32', 'origen': 'GUAYAQUIL', 'destino': 'QUITO'} a la agencia TIEMPO=5422.826898863482\n",
            "Cliente {'id': 'cliente 11', 'sexo': 'M', 'edad': '32', 'origen': 'GUAYAQUIL', 'destino': 'QUITO'} compra 5 boletos 5429.473522075709\n",
            "Pasajero con el ticket 1 comprado por {'id': 'cliente 11', 'sexo': 'M', 'edad': '32', 'origen': 'GUAYAQUIL', 'destino': 'QUITO'} sube al transporte bus 5 TIEMPO=5430.473522075709\n",
            "Pasajero con el ticket 2 comprado por {'id': 'cliente 11', 'sexo': 'M', 'edad': '32', 'origen': 'GUAYAQUIL', 'destino': 'QUITO'} sube al transporte bus 5 TIEMPO=5431.473522075709\n",
            "Pasajero con el ticket 3 comprado por {'id': 'cliente 11', 'sexo': 'M', 'edad': '32', 'origen': 'GUAYAQUIL', 'destino': 'QUITO'} sube al transporte bus 5 TIEMPO=5432.473522075709\n",
            "Pasajero con el ticket 4 comprado por {'id': 'cliente 11', 'sexo': 'M', 'edad': '32', 'origen': 'GUAYAQUIL', 'destino': 'QUITO'} sube al transporte bus 5 TIEMPO=5433.473522075709\n",
            "Pasajero con el ticket 5 comprado por {'id': 'cliente 11', 'sexo': 'M', 'edad': '32', 'origen': 'GUAYAQUIL', 'destino': 'QUITO'} sube al transporte bus 5 TIEMPO=5434.473522075709\n",
            "Transporte bus 4 llega nuevamente a la estacion en el tiempo 5438.529255625007\n",
            "Llegada de {'id': 'cliente 8', 'sexo': 'M', 'edad': '34', 'origen': 'AMBATO', 'destino': 'CUENCA'} a la agencia TIEMPO=5448.529255625007\n",
            "Cliente {'id': 'cliente 8', 'sexo': 'M', 'edad': '34', 'origen': 'AMBATO', 'destino': 'CUENCA'} compra 5 boletos 5459.5641637124345\n",
            "Pasajero con el ticket 1 comprado por {'id': 'cliente 8', 'sexo': 'M', 'edad': '34', 'origen': 'AMBATO', 'destino': 'CUENCA'} sube al transporte bus 4 TIEMPO=5460.5641637124345\n",
            "Pasajero con el ticket 2 comprado por {'id': 'cliente 8', 'sexo': 'M', 'edad': '34', 'origen': 'AMBATO', 'destino': 'CUENCA'} sube al transporte bus 4 TIEMPO=5461.5641637124345\n",
            "Pasajero con el ticket 3 comprado por {'id': 'cliente 8', 'sexo': 'M', 'edad': '34', 'origen': 'AMBATO', 'destino': 'CUENCA'} sube al transporte bus 4 TIEMPO=5462.5641637124345\n",
            "Pasajero con el ticket 4 comprado por {'id': 'cliente 8', 'sexo': 'M', 'edad': '34', 'origen': 'AMBATO', 'destino': 'CUENCA'} sube al transporte bus 4 TIEMPO=5463.5641637124345\n",
            "Pasajero con el ticket 5 comprado por {'id': 'cliente 8', 'sexo': 'M', 'edad': '34', 'origen': 'AMBATO', 'destino': 'CUENCA'} sube al transporte bus 4 TIEMPO=5464.5641637124345\n",
            "Transporte bus 1 llega nuevamente a la estacion en el tiempo 5465.798607380958\n",
            "Llegada de {'id': 'cliente 11', 'sexo': 'F', 'edad': '35', 'origen': 'GUAYAQUIL', 'destino': 'GUAYAQUIL'} a la agencia TIEMPO=5475.798607380958\n",
            "Cliente {'id': 'cliente 11', 'sexo': 'F', 'edad': '35', 'origen': 'GUAYAQUIL', 'destino': 'GUAYAQUIL'} compra 5 boletos 5482.0834922772665\n",
            "Pasajero con el ticket 1 comprado por {'id': 'cliente 11', 'sexo': 'F', 'edad': '35', 'origen': 'GUAYAQUIL', 'destino': 'GUAYAQUIL'} sube al transporte bus 1 TIEMPO=5483.0834922772665\n",
            "Pasajero con el ticket 2 comprado por {'id': 'cliente 11', 'sexo': 'F', 'edad': '35', 'origen': 'GUAYAQUIL', 'destino': 'GUAYAQUIL'} sube al transporte bus 1 TIEMPO=5484.0834922772665\n",
            "Pasajero con el ticket 3 comprado por {'id': 'cliente 11', 'sexo': 'F', 'edad': '35', 'origen': 'GUAYAQUIL', 'destino': 'GUAYAQUIL'} sube al transporte bus 1 TIEMPO=5485.0834922772665\n",
            "Pasajero con el ticket 4 comprado por {'id': 'cliente 11', 'sexo': 'F', 'edad': '35', 'origen': 'GUAYAQUIL', 'destino': 'GUAYAQUIL'} sube al transporte bus 1 TIEMPO=5486.0834922772665\n",
            "Pasajero con el ticket 5 comprado por {'id': 'cliente 11', 'sexo': 'F', 'edad': '35', 'origen': 'GUAYAQUIL', 'destino': 'GUAYAQUIL'} sube al transporte bus 1 TIEMPO=5487.0834922772665\n",
            "Transporte bus 2 deja la estacion en 5714.231912695244 con 5 pasajeros\n",
            "Transporte bus 4 deja la estacion en 5891.534910428685 con 5 pasajeros\n",
            "Transporte bus 3 deja la estacion en 5961.03119087745 con 3 pasajeros\n",
            "Transporte bus 5 deja la estacion en 6057.004541106064 con 5 pasajeros\n",
            "Transporte bus 4 llega nuevamente a la estacion en el tiempo 6318.505657144937\n",
            "Llegada de {'id': 'cliente 9', 'sexo': 'F', 'edad': '37', 'origen': 'QUITO', 'destino': 'MACHALA'} a la agencia TIEMPO=6328.505657144937\n",
            "Cliente {'id': 'cliente 9', 'sexo': 'F', 'edad': '37', 'origen': 'QUITO', 'destino': 'MACHALA'} compra 3 boletos 6340.539197887564\n",
            "Pasajero con el ticket 1 comprado por {'id': 'cliente 9', 'sexo': 'F', 'edad': '37', 'origen': 'QUITO', 'destino': 'MACHALA'} sube al transporte bus 4 TIEMPO=6341.539197887564\n",
            "Pasajero con el ticket 2 comprado por {'id': 'cliente 9', 'sexo': 'F', 'edad': '37', 'origen': 'QUITO', 'destino': 'MACHALA'} sube al transporte bus 4 TIEMPO=6342.539197887564\n",
            "Pasajero con el ticket 3 comprado por {'id': 'cliente 9', 'sexo': 'F', 'edad': '37', 'origen': 'QUITO', 'destino': 'MACHALA'} sube al transporte bus 4 TIEMPO=6343.539197887564\n",
            "Transporte bus 2 llega nuevamente a la estacion en el tiempo 6434.531768995549\n",
            "Llegada de {'id': 'cliente 9', 'sexo': 'F', 'edad': '33', 'origen': 'MACHALA', 'destino': 'GUAYAQUIL'} a la agencia TIEMPO=6444.531768995549\n",
            "Cliente {'id': 'cliente 9', 'sexo': 'F', 'edad': '33', 'origen': 'MACHALA', 'destino': 'GUAYAQUIL'} compra 4 boletos 6457.1416706505825\n",
            "Pasajero con el ticket 1 comprado por {'id': 'cliente 9', 'sexo': 'F', 'edad': '33', 'origen': 'MACHALA', 'destino': 'GUAYAQUIL'} sube al transporte bus 2 TIEMPO=6458.1416706505825\n",
            "Pasajero con el ticket 2 comprado por {'id': 'cliente 9', 'sexo': 'F', 'edad': '33', 'origen': 'MACHALA', 'destino': 'GUAYAQUIL'} sube al transporte bus 2 TIEMPO=6459.1416706505825\n",
            "Pasajero con el ticket 3 comprado por {'id': 'cliente 9', 'sexo': 'F', 'edad': '33', 'origen': 'MACHALA', 'destino': 'GUAYAQUIL'} sube al transporte bus 2 TIEMPO=6460.1416706505825\n",
            "Pasajero con el ticket 4 comprado por {'id': 'cliente 9', 'sexo': 'F', 'edad': '33', 'origen': 'MACHALA', 'destino': 'GUAYAQUIL'} sube al transporte bus 2 TIEMPO=6461.1416706505825\n",
            "Transporte bus 3 llega nuevamente a la estacion en el tiempo 6534.953634215877\n",
            "Llegada de {'id': 'cliente 12', 'sexo': 'F', 'edad': '30', 'origen': 'PORTOVIEJO', 'destino': 'PORTOVIEJO'} a la agencia TIEMPO=6544.953634215877\n",
            "Cliente {'id': 'cliente 12', 'sexo': 'F', 'edad': '30', 'origen': 'PORTOVIEJO', 'destino': 'PORTOVIEJO'} compra 6 boletos 6553.441331829271\n",
            "Pasajero con el ticket 1 comprado por {'id': 'cliente 12', 'sexo': 'F', 'edad': '30', 'origen': 'PORTOVIEJO', 'destino': 'PORTOVIEJO'} sube al transporte bus 3 TIEMPO=6554.441331829271\n",
            "Pasajero con el ticket 2 comprado por {'id': 'cliente 12', 'sexo': 'F', 'edad': '30', 'origen': 'PORTOVIEJO', 'destino': 'PORTOVIEJO'} sube al transporte bus 3 TIEMPO=6555.441331829271\n",
            "Pasajero con el ticket 3 comprado por {'id': 'cliente 12', 'sexo': 'F', 'edad': '30', 'origen': 'PORTOVIEJO', 'destino': 'PORTOVIEJO'} sube al transporte bus 3 TIEMPO=6556.441331829271\n",
            "Pasajero con el ticket 4 comprado por {'id': 'cliente 12', 'sexo': 'F', 'edad': '30', 'origen': 'PORTOVIEJO', 'destino': 'PORTOVIEJO'} sube al transporte bus 3 TIEMPO=6557.441331829271\n",
            "Pasajero con el ticket 5 comprado por {'id': 'cliente 12', 'sexo': 'F', 'edad': '30', 'origen': 'PORTOVIEJO', 'destino': 'PORTOVIEJO'} sube al transporte bus 3 TIEMPO=6558.441331829271\n",
            "Pasajero con el ticket 6 comprado por {'id': 'cliente 12', 'sexo': 'F', 'edad': '30', 'origen': 'PORTOVIEJO', 'destino': 'PORTOVIEJO'} sube al transporte bus 3 TIEMPO=6559.441331829271\n",
            "Transporte bus 1 deja la estacion en 6602.839400903383 con 5 pasajeros\n",
            "Transporte bus 2 deja la estacion en 6652.369634528406 con 4 pasajeros\n",
            "Transporte bus 5 llega nuevamente a la estacion en el tiempo 6679.535560136417\n",
            "Llegada de {'id': 'cliente 12', 'sexo': 'M', 'edad': '34', 'origen': 'MACHALA', 'destino': 'QUITO'} a la agencia TIEMPO=6689.535560136417\n",
            "Cliente {'id': 'cliente 12', 'sexo': 'M', 'edad': '34', 'origen': 'MACHALA', 'destino': 'QUITO'} compra 5 boletos 6696.8607089430925\n",
            "Pasajero con el ticket 1 comprado por {'id': 'cliente 12', 'sexo': 'M', 'edad': '34', 'origen': 'MACHALA', 'destino': 'QUITO'} sube al transporte bus 5 TIEMPO=6697.8607089430925\n",
            "Pasajero con el ticket 2 comprado por {'id': 'cliente 12', 'sexo': 'M', 'edad': '34', 'origen': 'MACHALA', 'destino': 'QUITO'} sube al transporte bus 5 TIEMPO=6698.8607089430925\n",
            "Pasajero con el ticket 3 comprado por {'id': 'cliente 12', 'sexo': 'M', 'edad': '34', 'origen': 'MACHALA', 'destino': 'QUITO'} sube al transporte bus 5 TIEMPO=6699.8607089430925\n",
            "Pasajero con el ticket 4 comprado por {'id': 'cliente 12', 'sexo': 'M', 'edad': '34', 'origen': 'MACHALA', 'destino': 'QUITO'} sube al transporte bus 5 TIEMPO=6700.8607089430925\n",
            "Pasajero con el ticket 5 comprado por {'id': 'cliente 12', 'sexo': 'M', 'edad': '34', 'origen': 'MACHALA', 'destino': 'QUITO'} sube al transporte bus 5 TIEMPO=6701.8607089430925\n",
            "Transporte bus 4 deja la estacion en 6829.946470781521 con 3 pasajeros\n",
            "Transporte bus 2 llega nuevamente a la estacion en el tiempo 6843.59759840623\n",
            "Llegada de {'id': 'cliente 10', 'sexo': 'M', 'edad': '38', 'origen': 'PORTOVIEJO', 'destino': 'QUITO'} a la agencia TIEMPO=6853.59759840623\n",
            "Cliente {'id': 'cliente 10', 'sexo': 'M', 'edad': '38', 'origen': 'PORTOVIEJO', 'destino': 'QUITO'} compra 3 boletos 6861.862914189076\n",
            "Pasajero con el ticket 1 comprado por {'id': 'cliente 10', 'sexo': 'M', 'edad': '38', 'origen': 'PORTOVIEJO', 'destino': 'QUITO'} sube al transporte bus 2 TIEMPO=6862.862914189076\n",
            "Pasajero con el ticket 2 comprado por {'id': 'cliente 10', 'sexo': 'M', 'edad': '38', 'origen': 'PORTOVIEJO', 'destino': 'QUITO'} sube al transporte bus 2 TIEMPO=6863.862914189076\n",
            "Pasajero con el ticket 3 comprado por {'id': 'cliente 10', 'sexo': 'M', 'edad': '38', 'origen': 'PORTOVIEJO', 'destino': 'QUITO'} sube al transporte bus 2 TIEMPO=6864.862914189076\n",
            "Transporte bus 5 deja la estacion en 7005.708097071735 con 5 pasajeros\n",
            "Transporte bus 5 llega nuevamente a la estacion en el tiempo 7309.555485200378\n",
            "Transporte bus 4 llega nuevamente a la estacion en el tiempo 7316.353743675479\n",
            "Llegada de {'id': 'cliente 13', 'sexo': 'M', 'edad': '37', 'origen': 'PORTOVIEJO', 'destino': 'GUAYAQUIL'} a la agencia TIEMPO=7319.555485200378\n",
            "Llegada de {'id': 'cliente 10', 'sexo': 'F', 'edad': '40', 'origen': 'CUENCA', 'destino': 'GUAYAQUIL'} a la agencia TIEMPO=7326.353743675479\n",
            "Cliente {'id': 'cliente 13', 'sexo': 'M', 'edad': '37', 'origen': 'PORTOVIEJO', 'destino': 'GUAYAQUIL'} compra 5 boletos 7328.889556493948\n",
            "Pasajero con el ticket 1 comprado por {'id': 'cliente 13', 'sexo': 'M', 'edad': '37', 'origen': 'PORTOVIEJO', 'destino': 'GUAYAQUIL'} sube al transporte bus 5 TIEMPO=7329.889556493948\n",
            "Transporte bus 2 deja la estacion en 7330.8115948825925 con 3 pasajeros\n",
            "Pasajero con el ticket 2 comprado por {'id': 'cliente 13', 'sexo': 'M', 'edad': '37', 'origen': 'PORTOVIEJO', 'destino': 'GUAYAQUIL'} sube al transporte bus 5 TIEMPO=7330.889556493948\n",
            "Pasajero con el ticket 3 comprado por {'id': 'cliente 13', 'sexo': 'M', 'edad': '37', 'origen': 'PORTOVIEJO', 'destino': 'GUAYAQUIL'} sube al transporte bus 5 TIEMPO=7331.889556493948\n",
            "Pasajero con el ticket 4 comprado por {'id': 'cliente 13', 'sexo': 'M', 'edad': '37', 'origen': 'PORTOVIEJO', 'destino': 'GUAYAQUIL'} sube al transporte bus 5 TIEMPO=7332.889556493948\n",
            "Pasajero con el ticket 5 comprado por {'id': 'cliente 13', 'sexo': 'M', 'edad': '37', 'origen': 'PORTOVIEJO', 'destino': 'GUAYAQUIL'} sube al transporte bus 5 TIEMPO=7333.889556493948\n",
            "Cliente {'id': 'cliente 10', 'sexo': 'F', 'edad': '40', 'origen': 'CUENCA', 'destino': 'GUAYAQUIL'} compra 1 boletos 7337.327587516116\n",
            "Pasajero con el ticket 1 comprado por {'id': 'cliente 10', 'sexo': 'F', 'edad': '40', 'origen': 'CUENCA', 'destino': 'GUAYAQUIL'} sube al transporte bus 4 TIEMPO=7338.327587516116\n",
            "Transporte bus 3 deja la estacion en 7499.278027571472 con 6 pasajeros\n",
            "Transporte bus 1 llega nuevamente a la estacion en el tiempo 7718.595309529499\n",
            "Llegada de {'id': 'cliente 12', 'sexo': 'M', 'edad': '36', 'origen': 'MACHALA', 'destino': 'GUAYAQUIL'} a la agencia TIEMPO=7728.595309529499\n",
            "Cliente {'id': 'cliente 12', 'sexo': 'M', 'edad': '36', 'origen': 'MACHALA', 'destino': 'GUAYAQUIL'} compra 2 boletos 7735.987819676492\n",
            "Pasajero con el ticket 1 comprado por {'id': 'cliente 12', 'sexo': 'M', 'edad': '36', 'origen': 'MACHALA', 'destino': 'GUAYAQUIL'} sube al transporte bus 1 TIEMPO=7736.987819676492\n",
            "Pasajero con el ticket 2 comprado por {'id': 'cliente 12', 'sexo': 'M', 'edad': '36', 'origen': 'MACHALA', 'destino': 'GUAYAQUIL'} sube al transporte bus 1 TIEMPO=7737.987819676492\n",
            "Transporte bus 2 llega nuevamente a la estacion en el tiempo 7796.760275576109\n",
            "Llegada de {'id': 'cliente 11', 'sexo': 'M', 'edad': '38', 'origen': 'CUENCA', 'destino': 'MACHALA'} a la agencia TIEMPO=7806.760275576109\n",
            "Cliente {'id': 'cliente 11', 'sexo': 'M', 'edad': '38', 'origen': 'CUENCA', 'destino': 'MACHALA'} compra 1 boletos 7815.51363471443\n",
            "Pasajero con el ticket 1 comprado por {'id': 'cliente 11', 'sexo': 'M', 'edad': '38', 'origen': 'CUENCA', 'destino': 'MACHALA'} sube al transporte bus 2 TIEMPO=7816.51363471443\n",
            "Transporte bus 5 deja la estacion en 7934.903553408263 con 5 pasajeros\n",
            "Transporte bus 1 deja la estacion en 8114.367655590087 con 2 pasajeros\n",
            "Transporte bus 4 deja la estacion en 8238.172135759212 con 1 pasajeros\n",
            "Transporte bus 3 llega nuevamente a la estacion en el tiempo 8439.114723313674\n",
            "Llegada de {'id': 'cliente 13', 'sexo': 'F', 'edad': '31', 'origen': 'GUAYAQUIL', 'destino': 'GUAYAQUIL'} a la agencia TIEMPO=8449.114723313674\n",
            "Cliente {'id': 'cliente 13', 'sexo': 'F', 'edad': '31', 'origen': 'GUAYAQUIL', 'destino': 'GUAYAQUIL'} compra 5 boletos 8460.191916378286\n",
            "Pasajero con el ticket 1 comprado por {'id': 'cliente 13', 'sexo': 'F', 'edad': '31', 'origen': 'GUAYAQUIL', 'destino': 'GUAYAQUIL'} sube al transporte bus 3 TIEMPO=8461.191916378286\n",
            "Pasajero con el ticket 2 comprado por {'id': 'cliente 13', 'sexo': 'F', 'edad': '31', 'origen': 'GUAYAQUIL', 'destino': 'GUAYAQUIL'} sube al transporte bus 3 TIEMPO=8462.191916378286\n",
            "Pasajero con el ticket 3 comprado por {'id': 'cliente 13', 'sexo': 'F', 'edad': '31', 'origen': 'GUAYAQUIL', 'destino': 'GUAYAQUIL'} sube al transporte bus 3 TIEMPO=8463.191916378286\n",
            "Pasajero con el ticket 4 comprado por {'id': 'cliente 13', 'sexo': 'F', 'edad': '31', 'origen': 'GUAYAQUIL', 'destino': 'GUAYAQUIL'} sube al transporte bus 3 TIEMPO=8464.191916378286\n",
            "Pasajero con el ticket 5 comprado por {'id': 'cliente 13', 'sexo': 'F', 'edad': '31', 'origen': 'GUAYAQUIL', 'destino': 'GUAYAQUIL'} sube al transporte bus 3 TIEMPO=8465.191916378286\n",
            "Transporte bus 1 llega nuevamente a la estacion en el tiempo 8490.747491503682\n",
            "Llegada de {'id': 'cliente 13', 'sexo': 'M', 'edad': '36', 'origen': 'PORTOVIEJO', 'destino': 'GUAYAQUIL'} a la agencia TIEMPO=8500.747491503682\n",
            "Cliente {'id': 'cliente 13', 'sexo': 'M', 'edad': '36', 'origen': 'PORTOVIEJO', 'destino': 'GUAYAQUIL'} compra 3 boletos 8509.054732582106\n",
            "Pasajero con el ticket 1 comprado por {'id': 'cliente 13', 'sexo': 'M', 'edad': '36', 'origen': 'PORTOVIEJO', 'destino': 'GUAYAQUIL'} sube al transporte bus 1 TIEMPO=8510.054732582106\n",
            "Pasajero con el ticket 2 comprado por {'id': 'cliente 13', 'sexo': 'M', 'edad': '36', 'origen': 'PORTOVIEJO', 'destino': 'GUAYAQUIL'} sube al transporte bus 1 TIEMPO=8511.054732582106\n",
            "Pasajero con el ticket 3 comprado por {'id': 'cliente 13', 'sexo': 'M', 'edad': '36', 'origen': 'PORTOVIEJO', 'destino': 'GUAYAQUIL'} sube al transporte bus 1 TIEMPO=8512.054732582106\n",
            "Transporte bus 2 deja la estacion en 8526.849945781985 con 1 pasajeros\n",
            "Transporte bus 5 llega nuevamente a la estacion en el tiempo 8535.91755032258\n",
            "Llegada de {'id': 'cliente 14', 'sexo': 'F', 'edad': '37', 'origen': 'GUAYAQUIL', 'destino': 'QUITO'} a la agencia TIEMPO=8545.91755032258\n",
            "Cliente {'id': 'cliente 14', 'sexo': 'F', 'edad': '37', 'origen': 'GUAYAQUIL', 'destino': 'QUITO'} compra 2 boletos 8558.222098895661\n",
            "Pasajero con el ticket 1 comprado por {'id': 'cliente 14', 'sexo': 'F', 'edad': '37', 'origen': 'GUAYAQUIL', 'destino': 'QUITO'} sube al transporte bus 5 TIEMPO=8559.222098895661\n",
            "Pasajero con el ticket 2 comprado por {'id': 'cliente 14', 'sexo': 'F', 'edad': '37', 'origen': 'GUAYAQUIL', 'destino': 'QUITO'} sube al transporte bus 5 TIEMPO=8560.222098895661\n",
            "Transporte bus 1 deja la estacion en 8567.733047671765 con 3 pasajeros\n",
            "Transporte bus 1 llega nuevamente a la estacion en el tiempo 8623.411362761424\n",
            "Llegada de {'id': 'cliente 14', 'sexo': 'M', 'edad': '27', 'origen': 'QUITO', 'destino': 'GUAYAQUIL'} a la agencia TIEMPO=8633.411362761424\n",
            "Cliente {'id': 'cliente 14', 'sexo': 'M', 'edad': '27', 'origen': 'QUITO', 'destino': 'GUAYAQUIL'} compra 3 boletos 8642.587492144738\n",
            "Pasajero con el ticket 1 comprado por {'id': 'cliente 14', 'sexo': 'M', 'edad': '27', 'origen': 'QUITO', 'destino': 'GUAYAQUIL'} sube al transporte bus 1 TIEMPO=8643.587492144738\n",
            "Pasajero con el ticket 2 comprado por {'id': 'cliente 14', 'sexo': 'M', 'edad': '27', 'origen': 'QUITO', 'destino': 'GUAYAQUIL'} sube al transporte bus 1 TIEMPO=8644.587492144738\n",
            "Pasajero con el ticket 3 comprado por {'id': 'cliente 14', 'sexo': 'M', 'edad': '27', 'origen': 'QUITO', 'destino': 'GUAYAQUIL'} sube al transporte bus 1 TIEMPO=8645.587492144738\n",
            "Transporte bus 3 deja la estacion en 8838.696797192233 con 5 pasajeros\n",
            "Transporte bus 5 deja la estacion en 8937.672013599597 con 2 pasajeros\n",
            "Transporte bus 1 deja la estacion en 9068.702703991234 con 3 pasajeros\n",
            "Transporte bus 4 llega nuevamente a la estacion en el tiempo 9138.016684002308\n",
            "Llegada de {'id': 'cliente 11', 'sexo': 'F', 'edad': '36', 'origen': 'CUENCA', 'destino': 'CUENCA'} a la agencia TIEMPO=9148.016684002308\n",
            "Cliente {'id': 'cliente 11', 'sexo': 'F', 'edad': '36', 'origen': 'CUENCA', 'destino': 'CUENCA'} compra 4 boletos 9156.233822277936\n",
            "Pasajero con el ticket 1 comprado por {'id': 'cliente 11', 'sexo': 'F', 'edad': '36', 'origen': 'CUENCA', 'destino': 'CUENCA'} sube al transporte bus 4 TIEMPO=9157.233822277936\n",
            "Pasajero con el ticket 2 comprado por {'id': 'cliente 11', 'sexo': 'F', 'edad': '36', 'origen': 'CUENCA', 'destino': 'CUENCA'} sube al transporte bus 4 TIEMPO=9158.233822277936\n",
            "Pasajero con el ticket 3 comprado por {'id': 'cliente 11', 'sexo': 'F', 'edad': '36', 'origen': 'CUENCA', 'destino': 'CUENCA'} sube al transporte bus 4 TIEMPO=9159.233822277936\n",
            "Pasajero con el ticket 4 comprado por {'id': 'cliente 11', 'sexo': 'F', 'edad': '36', 'origen': 'CUENCA', 'destino': 'CUENCA'} sube al transporte bus 4 TIEMPO=9160.233822277936\n",
            "Transporte bus 3 llega nuevamente a la estacion en el tiempo 9212.20167800618\n",
            "Llegada de {'id': 'cliente 14', 'sexo': 'F', 'edad': '52', 'origen': 'GUAYAQUIL', 'destino': 'CUENCA'} a la agencia TIEMPO=9222.20167800618\n",
            "Cliente {'id': 'cliente 14', 'sexo': 'F', 'edad': '52', 'origen': 'GUAYAQUIL', 'destino': 'CUENCA'} compra 1 boletos 9234.243255005564\n",
            "Pasajero con el ticket 1 comprado por {'id': 'cliente 14', 'sexo': 'F', 'edad': '52', 'origen': 'GUAYAQUIL', 'destino': 'CUENCA'} sube al transporte bus 3 TIEMPO=9235.243255005564\n",
            "Transporte bus 2 llega nuevamente a la estacion en el tiempo 9237.186256849542\n",
            "Llegada de {'id': 'cliente 12', 'sexo': 'M', 'edad': '39', 'origen': 'QUITO', 'destino': 'GUAYAQUIL'} a la agencia TIEMPO=9247.186256849542\n",
            "Cliente {'id': 'cliente 12', 'sexo': 'M', 'edad': '39', 'origen': 'QUITO', 'destino': 'GUAYAQUIL'} compra 1 boletos 9255.168716715569\n",
            "Pasajero con el ticket 1 comprado por {'id': 'cliente 12', 'sexo': 'M', 'edad': '39', 'origen': 'QUITO', 'destino': 'GUAYAQUIL'} sube al transporte bus 2 TIEMPO=9256.168716715569\n",
            "Transporte bus 3 deja la estacion en 9302.66041486882 con 1 pasajeros\n",
            "Transporte bus 5 llega nuevamente a la estacion en el tiempo 9315.121928303532\n",
            "Llegada de {'id': 'cliente 15', 'sexo': 'F', 'edad': '38', 'origen': 'PORTOVIEJO', 'destino': 'GUAYAQUIL'} a la agencia TIEMPO=9325.121928303532\n",
            "Cliente {'id': 'cliente 15', 'sexo': 'F', 'edad': '38', 'origen': 'PORTOVIEJO', 'destino': 'GUAYAQUIL'} compra 6 boletos 9334.479051185637\n",
            "Pasajero con el ticket 1 comprado por {'id': 'cliente 15', 'sexo': 'F', 'edad': '38', 'origen': 'PORTOVIEJO', 'destino': 'GUAYAQUIL'} sube al transporte bus 5 TIEMPO=9335.479051185637\n",
            "Pasajero con el ticket 2 comprado por {'id': 'cliente 15', 'sexo': 'F', 'edad': '38', 'origen': 'PORTOVIEJO', 'destino': 'GUAYAQUIL'} sube al transporte bus 5 TIEMPO=9336.479051185637\n",
            "Pasajero con el ticket 3 comprado por {'id': 'cliente 15', 'sexo': 'F', 'edad': '38', 'origen': 'PORTOVIEJO', 'destino': 'GUAYAQUIL'} sube al transporte bus 5 TIEMPO=9337.479051185637\n",
            "Pasajero con el ticket 4 comprado por {'id': 'cliente 15', 'sexo': 'F', 'edad': '38', 'origen': 'PORTOVIEJO', 'destino': 'GUAYAQUIL'} sube al transporte bus 5 TIEMPO=9338.479051185637\n",
            "Pasajero con el ticket 5 comprado por {'id': 'cliente 15', 'sexo': 'F', 'edad': '38', 'origen': 'PORTOVIEJO', 'destino': 'GUAYAQUIL'} sube al transporte bus 5 TIEMPO=9339.479051185637\n",
            "Pasajero con el ticket 6 comprado por {'id': 'cliente 15', 'sexo': 'F', 'edad': '38', 'origen': 'PORTOVIEJO', 'destino': 'GUAYAQUIL'} sube al transporte bus 5 TIEMPO=9340.479051185637\n",
            "Transporte bus 3 llega nuevamente a la estacion en el tiempo 9370.077574732077\n",
            "Llegada de {'id': 'cliente 15', 'sexo': 'M', 'edad': '46', 'origen': 'GUAYAQUIL', 'destino': 'MACHALA'} a la agencia TIEMPO=9380.077574732077\n",
            "Cliente {'id': 'cliente 15', 'sexo': 'M', 'edad': '46', 'origen': 'GUAYAQUIL', 'destino': 'MACHALA'} compra 1 boletos 9388.813829956967\n",
            "Pasajero con el ticket 1 comprado por {'id': 'cliente 15', 'sexo': 'M', 'edad': '46', 'origen': 'GUAYAQUIL', 'destino': 'MACHALA'} sube al transporte bus 3 TIEMPO=9389.813829956967\n",
            "Transporte bus 1 llega nuevamente a la estacion en el tiempo 9491.81791583773\n",
            "Llegada de {'id': 'cliente 15', 'sexo': 'F', 'edad': '40', 'origen': 'GUAYAQUIL', 'destino': 'MACHALA'} a la agencia TIEMPO=9501.81791583773\n",
            "Cliente {'id': 'cliente 15', 'sexo': 'F', 'edad': '40', 'origen': 'GUAYAQUIL', 'destino': 'MACHALA'} compra 3 boletos 9512.234637622001\n",
            "Pasajero con el ticket 1 comprado por {'id': 'cliente 15', 'sexo': 'F', 'edad': '40', 'origen': 'GUAYAQUIL', 'destino': 'MACHALA'} sube al transporte bus 1 TIEMPO=9513.234637622001\n",
            "Pasajero con el ticket 2 comprado por {'id': 'cliente 15', 'sexo': 'F', 'edad': '40', 'origen': 'GUAYAQUIL', 'destino': 'MACHALA'} sube al transporte bus 1 TIEMPO=9514.234637622001\n",
            "Pasajero con el ticket 3 comprado por {'id': 'cliente 15', 'sexo': 'F', 'edad': '40', 'origen': 'GUAYAQUIL', 'destino': 'MACHALA'} sube al transporte bus 1 TIEMPO=9515.234637622001\n",
            "Transporte bus 4 deja la estacion en 9553.623441622134 con 4 pasajeros\n",
            "Transporte bus 3 deja la estacion en 9692.494059607287 con 1 pasajeros\n",
            "Transporte bus 5 deja la estacion en 9842.42527829356 con 6 pasajeros\n",
            "Transporte bus 4 llega nuevamente a la estacion en el tiempo 9947.013060966332\n",
            "Llegada de {'id': 'cliente 12', 'sexo': 'M', 'edad': '40', 'origen': 'QUITO', 'destino': 'GUAYAQUIL'} a la agencia TIEMPO=9957.013060966332\n",
            "Cliente {'id': 'cliente 12', 'sexo': 'M', 'edad': '40', 'origen': 'QUITO', 'destino': 'GUAYAQUIL'} compra 3 boletos 9967.512868430014\n",
            "Pasajero con el ticket 1 comprado por {'id': 'cliente 12', 'sexo': 'M', 'edad': '40', 'origen': 'QUITO', 'destino': 'GUAYAQUIL'} sube al transporte bus 4 TIEMPO=9968.512868430014\n",
            "Pasajero con el ticket 2 comprado por {'id': 'cliente 12', 'sexo': 'M', 'edad': '40', 'origen': 'QUITO', 'destino': 'GUAYAQUIL'} sube al transporte bus 4 TIEMPO=9969.512868430014\n",
            "Pasajero con el ticket 3 comprado por {'id': 'cliente 12', 'sexo': 'M', 'edad': '40', 'origen': 'QUITO', 'destino': 'GUAYAQUIL'} sube al transporte bus 4 TIEMPO=9970.512868430014\n",
            "Transporte bus 2 deja la estacion en 9974.399452426476 con 1 pasajeros\n",
            "Transporte bus 3 llega nuevamente a la estacion en el tiempo 9995.174289257606\n",
            "Llegada de {'id': 'cliente 16', 'sexo': 'F', 'edad': '40', 'origen': 'QUITO', 'destino': 'MACHALA'} a la agencia TIEMPO=10005.174289257606\n",
            "Cliente {'id': 'cliente 16', 'sexo': 'F', 'edad': '40', 'origen': 'QUITO', 'destino': 'MACHALA'} compra 5 boletos 10020.462300280537\n",
            "Pasajero con el ticket 1 comprado por {'id': 'cliente 16', 'sexo': 'F', 'edad': '40', 'origen': 'QUITO', 'destino': 'MACHALA'} sube al transporte bus 3 TIEMPO=10021.462300280537\n",
            "Pasajero con el ticket 2 comprado por {'id': 'cliente 16', 'sexo': 'F', 'edad': '40', 'origen': 'QUITO', 'destino': 'MACHALA'} sube al transporte bus 3 TIEMPO=10022.462300280537\n",
            "Pasajero con el ticket 3 comprado por {'id': 'cliente 16', 'sexo': 'F', 'edad': '40', 'origen': 'QUITO', 'destino': 'MACHALA'} sube al transporte bus 3 TIEMPO=10023.462300280537\n",
            "Pasajero con el ticket 4 comprado por {'id': 'cliente 16', 'sexo': 'F', 'edad': '40', 'origen': 'QUITO', 'destino': 'MACHALA'} sube al transporte bus 3 TIEMPO=10024.462300280537\n",
            "Pasajero con el ticket 5 comprado por {'id': 'cliente 16', 'sexo': 'F', 'edad': '40', 'origen': 'QUITO', 'destino': 'MACHALA'} sube al transporte bus 3 TIEMPO=10025.462300280537\n"
          ]
        }
      ]
    },
    {
      "cell_type": "code",
      "source": [
        "plt.bar(cliente_total.keys(), cliente_total.values())\n",
        "plt.title(\"Numero de clientes sin boleto\")\n",
        "plt.xlabel(\"Transporte\")\n",
        "plt.ylabel(\"Nro. de clientes\")\n",
        "plt.show()"
      ],
      "metadata": {
        "colab": {
          "base_uri": "https://localhost:8080/",
          "height": 295
        },
        "id": "JyU5uaYXc-59",
        "outputId": "e3453d93-99c3-44a5-c4d0-67514a4b785d"
      },
      "execution_count": null,
      "outputs": [
        {
          "output_type": "display_data",
          "data": {
            "text/plain": [
              "<Figure size 432x288 with 1 Axes>"
            ],
            "image/png": "[encoded data removed]"
          },
          "metadata": {
            "needs_background": "light"
          }
        }
      ]
    },
    {
      "cell_type": "code",
      "source": [
        "len_aux =  len(cliente_origen)\n",
        "y = np.array([(cliente_origen.count('GUAYAQUIL')*100)/len_aux, (cliente_origen.count('QUITO')*100)/len_aux, (cliente_origen.count('CUENCA')*100)/len_aux, (cliente_origen.count('PORTOVIEJO')*100)/len_aux, (cliente_origen.count('MACHALA')*100)/len_aux, (cliente_origen.count('AMBATO')*100)/len_aux])\n",
        "plt.title(\"Origenes de los clientes\")\n",
        "plt.pie(y, labels = LUGARES_DESTINO)\n",
        "plt.show() "
      ],
      "metadata": {
        "colab": {
          "base_uri": "https://localhost:8080/",
          "height": 264
        },
        "id": "v4xHrpfJgWgd",
        "outputId": "d5e458c6-1000-4dee-8699-c48e222d3a25"
      },
      "execution_count": null,
      "outputs": [
        {
          "output_type": "display_data",
          "data": {
            "text/plain": [
              "<Figure size 432x288 with 1 Axes>"
            ],
            "image/png": "[encoded data removed]"
          },
          "metadata": {}
        }
      ]
    },
    {
      "cell_type": "code",
      "source": [
        "len_aux =  len(cliente_destino)\n",
        "y = np.array([(cliente_destino.count('GUAYAQUIL')*100)/len_aux, (cliente_destino.count('QUITO')*100)/len_aux, (cliente_destino.count('CUENCA')*100)/len_aux, (cliente_destino.count('PORTOVIEJO')*100)/len_aux, (cliente_destino.count('MACHALA')*100)/len_aux, (cliente_destino.count('AMBATO')*100)/len_aux])\n",
        "plt.title(\"Destinos de los clientes\")\n",
        "plt.pie(y, labels = LUGARES_DESTINO)\n",
        "plt.show() "
      ],
      "metadata": {
        "colab": {
          "base_uri": "https://localhost:8080/",
          "height": 264
        },
        "id": "JD_mMUJjjCZV",
        "outputId": "cc3e93c2-ed5a-4a97-822e-11e1b044faf5"
      },
      "execution_count": null,
      "outputs": [
        {
          "output_type": "display_data",
          "data": {
            "text/plain": [
              "<Figure size 432x288 with 1 Axes>"
            ],
            "image/png": "[encoded data removed]"
          },
          "metadata": {}
        }
      ]
    },
    {
      "cell_type": "code",
      "source": [
        "data_b1={}\n",
        "data_b2={}\n",
        "data_b3={}\n",
        "data_b4={}\n",
        "data_b5={}\n",
        "\n",
        "last_aux = -1\n",
        "for i in bus_uso:\n",
        "  aux_now = int((i/60)/24)\n",
        "  if bus_uso[i][0] == 'bus 1' and aux_now > last_aux:\n",
        "    data_b1[aux_now] = bus_uso[i][1]\n",
        "    last_aux = aux_now\n",
        "\n",
        "last_aux = -1\n",
        "for i in bus_uso:\n",
        "  aux_now = int((i/60)/24)\n",
        "  if bus_uso[i][0] == 'bus 2' and aux_now > last_aux:\n",
        "    data_b2[aux_now] = bus_uso[i][1]\n",
        "    last_aux = aux_now\n",
        "\n",
        "last_aux = -1\n",
        "for i in bus_uso:\n",
        "  aux_now = int((i/60)/24)\n",
        "  if bus_uso[i][0] == 'bus 3' and aux_now > last_aux:\n",
        "    data_b3[aux_now] = bus_uso[i][1]\n",
        "    last_aux = aux_now\n",
        "\n",
        "last_aux = -1\n",
        "for i in bus_uso:\n",
        "  aux_now = int((i/60)/24)\n",
        "  if bus_uso[i][0] == 'bus 4' and aux_now > last_aux:\n",
        "    data_b4[aux_now] = bus_uso[i][1]\n",
        "    last_aux = aux_now\n",
        "\n",
        "last_aux = -1\n",
        "for i in bus_uso:\n",
        "  aux_now = int((i/60)/24)\n",
        "  if bus_uso[i][0] == 'bus 5' and aux_now > last_aux:\n",
        "    data_b5[aux_now] = bus_uso[i][1]\n",
        "    last_aux = aux_now"
      ],
      "metadata": {
        "id": "-1Zn1dvi0kSu"
      },
      "execution_count": null,
      "outputs": []
    },
    {
      "cell_type": "code",
      "source": [
        "plt.bar(data_b1.keys(), data_b1.values())\n",
        "plt.title(\"Uso del bus 1\")\n",
        "plt.xlabel(\"Dias\")\n",
        "plt.ylabel(\"Nro. de pasajeros\")\n",
        "plt.show()"
      ],
      "metadata": {
        "colab": {
          "base_uri": "https://localhost:8080/",
          "height": 295
        },
        "id": "sKd7bgY69T7N",
        "outputId": "0f42842e-9b21-4941-9714-0fd96771dbf8"
      },
      "execution_count": null,
      "outputs": [
        {
          "output_type": "display_data",
          "data": {
            "text/plain": [
              "<Figure size 432x288 with 1 Axes>"
            ],
            "image/png": "[encoded data removed]"
          },
          "metadata": {
            "needs_background": "light"
          }
        }
      ]
    },
    {
      "cell_type": "code",
      "source": [
        "plt.bar(data_b2.keys(), data_b2.values())\n",
        "plt.title(\"Uso del bus 2\")\n",
        "plt.xlabel(\"Dias\")\n",
        "plt.ylabel(\"Nro. de pasajeros\")\n",
        "plt.show()"
      ],
      "metadata": {
        "colab": {
          "base_uri": "https://localhost:8080/",
          "height": 295
        },
        "id": "KJVbdgYe9lVG",
        "outputId": "f809e930-5956-42ee-9505-36ec45788abe"
      },
      "execution_count": null,
      "outputs": [
        {
          "output_type": "display_data",
          "data": {
            "text/plain": [
              "<Figure size 432x288 with 1 Axes>"
            ],
            "image/png": "[encoded data removed]"
          },
          "metadata": {
            "needs_background": "light"
          }
        }
      ]
    },
    {
      "cell_type": "code",
      "source": [
        "plt.bar(data_b3.keys(), data_b3.values())\n",
        "plt.title(\"Uso del bus 3\")\n",
        "plt.xlabel(\"Dias\")\n",
        "plt.ylabel(\"Nro. de pasajeros\")\n",
        "plt.show()"
      ],
      "metadata": {
        "colab": {
          "base_uri": "https://localhost:8080/",
          "height": 295
        },
        "id": "AE-4Dv-X9oJi",
        "outputId": "5ae184e7-2b16-4361-d31b-a6393b2f07e2"
      },
      "execution_count": null,
      "outputs": [
        {
          "output_type": "display_data",
          "data": {
            "text/plain": [
              "<Figure size 432x288 with 1 Axes>"
            ],
            "image/png": "[encoded data removed]"
          },
          "metadata": {
            "needs_background": "light"
          }
        }
      ]
    },
    {
      "cell_type": "code",
      "source": [
        "plt.bar(data_b4.keys(), data_b4.values())\n",
        "plt.title(\"Uso del bus 4\")\n",
        "plt.xlabel(\"Dias\")\n",
        "plt.ylabel(\"Nro. de pasajeros\")\n",
        "plt.show()"
      ],
      "metadata": {
        "colab": {
          "base_uri": "https://localhost:8080/",
          "height": 295
        },
        "id": "RsgQL9zn9qcK",
        "outputId": "675676e2-f864-426f-f9b8-7122edc37c23"
      },
      "execution_count": null,
      "outputs": [
        {
          "output_type": "display_data",
          "data": {
            "text/plain": [
              "<Figure size 432x288 with 1 Axes>"
            ],
            "image/png": "[encoded data removed]"
          },
          "metadata": {
            "needs_background": "light"
          }
        }
      ]
    },
    {
      "cell_type": "code",
      "source": [
        "plt.bar(data_b5.keys(), data_b5.values())\n",
        "plt.title(\"Uso del bus 5\")\n",
        "plt.xlabel(\"Dias\")\n",
        "plt.ylabel(\"Nro. de pasajeros\")\n",
        "plt.show()"
      ],
      "metadata": {
        "colab": {
          "base_uri": "https://localhost:8080/",
          "height": 295
        },
        "id": "doXCXSeh9uba",
        "outputId": "eaca173a-11cd-45d6-c00c-f7c9b47bc933"
      },
      "execution_count": null,
      "outputs": [
        {
          "output_type": "display_data",
          "data": {
            "text/plain": [
              "<Figure size 432x288 with 1 Axes>"
            ],
            "image/png": "[encoded data removed]"
          },
          "metadata": {
            "needs_background": "light"
          }
        }
      ]
    },
    {
      "cell_type": "markdown",
      "source": [
        "## Conclusiones\n",
        "\n",
        "Podemos ver que por el modo en el que los buses dejan la estacion cada hora se pierden potenciales clientes que podrían haber subido a uno de los buses. Tenemos incluso casos en los que los buses simplementes dejan la estación sin ningún pasajero. Lo recomendable sería ser más flexible con el horario de los buses y evitar malgastar los recurosos que tenemos. También podemos observar que ningún bus se llena, ni siquiera se acerca a su capacidad máxima. A este punto se recomiendan menos buses que salgan de la estación en un tiempo más razonable."
      ],
      "metadata": {
        "id": "E-Dxr-4T9_3k"
      }
    }
  ]
}