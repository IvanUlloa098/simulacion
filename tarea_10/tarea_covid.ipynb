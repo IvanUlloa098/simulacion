{
  "nbformat": 4,
  "nbformat_minor": 0,
  "metadata": {
    "colab": {
      "name": "tarea_interrupciones.ipynb",
      "provenance": [],
      "collapsed_sections": [],
      "authorship_tag": "ABX9TyOdkJ3gRH9kP2Qtzkbmg2KW",
      "include_colab_link": true
    },
    "kernelspec": {
      "name": "python3",
      "display_name": "Python 3"
    },
    "language_info": {
      "name": "python"
    }
  },
  "cells": [
    {
      "cell_type": "markdown",
      "metadata": {
        "id": "view-in-github",
        "colab_type": "text"
      },
      "source": [
        "<a href=\"https://colab.research.google.com/github/IvanUlloa098/simulacion/blob/main/tarea_10/tarea_interrupciones.ipynb\" target=\"_parent\"><img src=\"https://colab.research.google.com/assets/colab-badge.svg\" alt=\"Open In Colab\"/></a>"
      ]
    },
    {
      "cell_type": "markdown",
      "source": [
        "# Practica Interrupciones\n",
        "## Ivan Ulloa"
      ],
      "metadata": {
        "id": "07XGlIKLCE8O"
      }
    },
    {
      "cell_type": "code",
      "execution_count": 1,
      "metadata": {
        "colab": {
          "base_uri": "https://localhost:8080/"
        },
        "id": "jL6wI30u-RAZ",
        "outputId": "8db17070-403a-4533-b71e-fa0f60f8013f"
      },
      "outputs": [
        {
          "output_type": "stream",
          "name": "stdout",
          "text": [
            "Looking in indexes: https://pypi.org/simple, https://us-python.pkg.dev/colab-wheels/public/simple/\n",
            "Collecting simpy\n",
            "  Downloading simpy-4.0.1-py2.py3-none-any.whl (29 kB)\n",
            "Installing collected packages: simpy\n",
            "Successfully installed simpy-4.0.1\n"
          ]
        }
      ],
      "source": [
        "!pip install simpy"
      ]
    },
    {
      "cell_type": "code",
      "source": [
        "import simpy\n",
        "import random\n",
        "import matplotlib.pyplot as plt\n",
        "import numpy as np\n",
        "from scipy import stats"
      ],
      "metadata": {
        "id": "2iyhjCjo-Ug0"
      },
      "execution_count": 2,
      "outputs": []
    },
    {
      "cell_type": "code",
      "source": [
        "AFORO=200\n",
        "CONTAGIO=0.1 # Porcentaje de poblacion ya contagiada\n",
        "PROB_CONTAGIO=0.02 # Probabilidad de contagio usando mascarilla por hora\n",
        "TIEMPO_SIMULACION = 30 # Minutos\n",
        "HORAS_SERVICIO = 8 # Tiempo maximo que los estudiantes pasan en el instituto\n",
        "UNIVERSO=AFORO*TIEMPO_SIMULACION"
      ],
      "metadata": {
        "id": "nj0wtCdW-X3w"
      },
      "execution_count": 40,
      "outputs": []
    },
    {
      "cell_type": "code",
      "source": [
        "class Instituto(object):    \n",
        "  def __init__(self, environment, aforo):        \n",
        "    self.env=environment\n",
        "    self.aforo = simpy.Resource(environment, aforo)   \n",
        "      \n",
        "  def ingreso_alumno(self, alumno, id, contagio):\n",
        "    if(alumno==0):\n",
        "      distribucion[id]=contagio\n",
        "\n",
        "    yield self.env.timeout(1)\n",
        "  \n",
        "  def generador_contagio(self, tiempo_estadia):\n",
        "    contagios=stats.bernoulli(tiempo_estadia*PROB_CONTAGIO) # Contagio determinado por el numero de horas en el instituto\n",
        "    return contagios.rvs(1)[0]\n",
        "    \n",
        "def llegada_establecimineto(env, alumno, id, contagio, instituto):  \n",
        "  #print(f'El alumno {id} ha llegado al establecimiento')\n",
        "  with instituto.aforo.request() as aforo:        \n",
        "      yield aforo\n",
        "      yield env.process(instituto.ingreso_alumno(alumno,id,contagio)) # La cantidad de minutos que se queda en el instituto en aleatoria\n",
        "\n",
        "def run_simulation(env):\n",
        "  instituto=Instituto(env, AFORO)\n",
        "  \n",
        "  DIA=0\n",
        "\n",
        "  while True:\n",
        "    print(f'Inicia la simulacion del dia {DIA+1}')\n",
        "    for k in range(AFORO):\n",
        "      aux = instituto.generador_contagio(random.randint(1,HORAS_SERVICIO))\n",
        "      CONT_ACUMULADO.append(aux)\n",
        "      env.process(llegada_establecimineto(env, distribucion[k],k,aux,instituto))\n",
        "    \n",
        "    if(DIA==(TIEMPO_SIMULACION-1)):\n",
        "      print(f'Simulacion del dia {DIA+1} concluida. Se detectaron {CONT_ACUMULADO.count(1)} contagios')\n",
        "      break\n",
        "    else:\n",
        "      print(f'Simulacion del dia {DIA+1} concluida. Se detectaron {CONT_ACUMULADO.count(1)} contagios')\n",
        "      DIA+=1\n",
        "\n",
        "    t=env.now\n",
        "    CONTG[t]=CONT_ACUMULADO.count(1)\n",
        "    CONT_ACUMULADO.clear()\n",
        "\n",
        "    yield env.timeout(1)"
      ],
      "metadata": {
        "id": "jlts4l7K-g6o"
      },
      "execution_count": 41,
      "outputs": []
    },
    {
      "cell_type": "code",
      "source": [
        "CONT_ACUMULADO=[]\n",
        "CONTG={}\n",
        "\n",
        "bernoulli = stats.bernoulli(CONTAGIO)\n",
        "distribucion = bernoulli.rvs(UNIVERSO)\n",
        "\n",
        "env=simpy.Environment()\n",
        "env.process(run_simulation(env))\n",
        "# Ejecutamos el proceso durante el tiempo de simulacion\n",
        "env.run(until = TIEMPO_SIMULACION)"
      ],
      "metadata": {
        "id": "wqYNoB7mwkKh",
        "colab": {
          "base_uri": "https://localhost:8080/"
        },
        "outputId": "dea56158-f351-4a10-be17-88c0b60d0969"
      },
      "execution_count": 42,
      "outputs": [
        {
          "output_type": "stream",
          "name": "stdout",
          "text": [
            "Inicia la simulacion del dia 1\n",
            "Simulacion del dia 1 concluida. Se detectaron 20 contagios\n",
            "Inicia la simulacion del dia 2\n",
            "Simulacion del dia 2 concluida. Se detectaron 18 contagios\n",
            "Inicia la simulacion del dia 3\n",
            "Simulacion del dia 3 concluida. Se detectaron 19 contagios\n",
            "Inicia la simulacion del dia 4\n",
            "Simulacion del dia 4 concluida. Se detectaron 20 contagios\n",
            "Inicia la simulacion del dia 5\n",
            "Simulacion del dia 5 concluida. Se detectaron 17 contagios\n",
            "Inicia la simulacion del dia 6\n",
            "Simulacion del dia 6 concluida. Se detectaron 10 contagios\n",
            "Inicia la simulacion del dia 7\n",
            "Simulacion del dia 7 concluida. Se detectaron 18 contagios\n",
            "Inicia la simulacion del dia 8\n",
            "Simulacion del dia 8 concluida. Se detectaron 14 contagios\n",
            "Inicia la simulacion del dia 9\n",
            "Simulacion del dia 9 concluida. Se detectaron 22 contagios\n",
            "Inicia la simulacion del dia 10\n",
            "Simulacion del dia 10 concluida. Se detectaron 17 contagios\n",
            "Inicia la simulacion del dia 11\n",
            "Simulacion del dia 11 concluida. Se detectaron 18 contagios\n",
            "Inicia la simulacion del dia 12\n",
            "Simulacion del dia 12 concluida. Se detectaron 12 contagios\n",
            "Inicia la simulacion del dia 13\n",
            "Simulacion del dia 13 concluida. Se detectaron 20 contagios\n",
            "Inicia la simulacion del dia 14\n",
            "Simulacion del dia 14 concluida. Se detectaron 15 contagios\n",
            "Inicia la simulacion del dia 15\n",
            "Simulacion del dia 15 concluida. Se detectaron 14 contagios\n",
            "Inicia la simulacion del dia 16\n",
            "Simulacion del dia 16 concluida. Se detectaron 13 contagios\n",
            "Inicia la simulacion del dia 17\n",
            "Simulacion del dia 17 concluida. Se detectaron 18 contagios\n",
            "Inicia la simulacion del dia 18\n",
            "Simulacion del dia 18 concluida. Se detectaron 16 contagios\n",
            "Inicia la simulacion del dia 19\n",
            "Simulacion del dia 19 concluida. Se detectaron 7 contagios\n",
            "Inicia la simulacion del dia 20\n",
            "Simulacion del dia 20 concluida. Se detectaron 12 contagios\n",
            "Inicia la simulacion del dia 21\n",
            "Simulacion del dia 21 concluida. Se detectaron 15 contagios\n",
            "Inicia la simulacion del dia 22\n",
            "Simulacion del dia 22 concluida. Se detectaron 14 contagios\n",
            "Inicia la simulacion del dia 23\n",
            "Simulacion del dia 23 concluida. Se detectaron 14 contagios\n",
            "Inicia la simulacion del dia 24\n",
            "Simulacion del dia 24 concluida. Se detectaron 14 contagios\n",
            "Inicia la simulacion del dia 25\n",
            "Simulacion del dia 25 concluida. Se detectaron 14 contagios\n",
            "Inicia la simulacion del dia 26\n",
            "Simulacion del dia 26 concluida. Se detectaron 9 contagios\n",
            "Inicia la simulacion del dia 27\n",
            "Simulacion del dia 27 concluida. Se detectaron 20 contagios\n",
            "Inicia la simulacion del dia 28\n",
            "Simulacion del dia 28 concluida. Se detectaron 14 contagios\n",
            "Inicia la simulacion del dia 29\n",
            "Simulacion del dia 29 concluida. Se detectaron 13 contagios\n",
            "Inicia la simulacion del dia 30\n",
            "Simulacion del dia 30 concluida. Se detectaron 18 contagios\n"
          ]
        }
      ]
    },
    {
      "cell_type": "code",
      "source": [
        "etiqueta = list(CONTG.keys())\n",
        "valores = list(CONTG.values())\n",
        "\n",
        "plt.bar(range(len(CONTG)), valores, align=\"center\", tick_label=etiqueta)\n",
        "plt.title(\"Numero de contagios por dia\")\n",
        "plt.xlabel(\"Dia\")\n",
        "plt.ylabel(\"Nro. de alumnos contagiados\")\n",
        "plt.show()"
      ],
      "metadata": {
        "colab": {
          "base_uri": "https://localhost:8080/",
          "height": 295
        },
        "id": "MnLQlZTX-mjY",
        "outputId": "70dee8f6-6f52-48bf-b7f6-bcf47a1af196"
      },
      "execution_count": 43,
      "outputs": [
        {
          "output_type": "display_data",
          "data": {
            "text/plain": [
              "<Figure size 432x288 with 1 Axes>"
            ],
            "image/png": "[encoded data removed]"
          },
          "metadata": {
            "needs_background": "light"
          }
        }
      ]
    }
  ]
}